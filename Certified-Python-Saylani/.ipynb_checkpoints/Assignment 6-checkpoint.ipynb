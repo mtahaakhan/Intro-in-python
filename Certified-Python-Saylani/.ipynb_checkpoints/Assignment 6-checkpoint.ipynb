{
 "cells": [
  {
   "cell_type": "markdown",
   "metadata": {},
   "source": [
    "## Assignment 6 by Muhammad Taha Khan"
   ]
  },
  {
   "cell_type": "markdown",
   "metadata": {},
   "source": [
    "#### : Define what is object oriented programming language"
   ]
  },
  {
   "cell_type": "markdown",
   "metadata": {},
   "source": [
    "Object Oriented Programming is one of the major paradigms in programming. The traditional programming paradigm is called procedural.\n",
    "\n",
    "Procedural works as follows:\n",
    "    The program has a state corresponding to the values of its variables.\n",
    "    Functions are called to act on these data.\n",
    "    Data are passed back and forth via function calls.\n",
    "    \n",
    "In contrast, in the OOP paradigm\n",
    "\n",
    "data and functions are “bundled together” into “objects”\n",
    "(Functions in this context are referred to as methods)\n",
    "\n",
    "Python is a pragmatic language that blends object-oriented and procedural styles, rather than taking a purist approach.\n",
    "\n",
    "However, at a foundational level, Python is object-oriented.\n",
    "\n",
    "In particular, in Python, everything is an object."
   ]
  },
  {
   "cell_type": "markdown",
   "metadata": {},
   "source": [
    "#### List down benefits of OOP?"
   ]
  },
  {
   "cell_type": "code",
   "execution_count": null,
   "metadata": {},
   "outputs": [],
   "source": []
  },
  {
   "cell_type": "markdown",
   "metadata": {},
   "source": [
    "1. Modularity for easier troubleshooting:\n",
    "If something has gone wrong then OOP will come here to help you out because with OOP, you know exactly where to look and where the problem is.\n",
    "2. Reuse of code through inheritance:\n",
    "Suppose there is a plane object, i need a stealth aircraft and my friend needs lca ( light combat aircraft ) and another friend needs a bomber aircraft. Everyone is building their own aircrafts but found that there are some similarities between them. Infact each object is just a different type of airplane. This is where inheritance saves time. Create one common class ( airplane ) and then define subclass (stealth,lca,bomber).\n",
    "3. Flexibility through polymorphism:\n",
    "Riffing on this example, you now need just a few pilots, or functions, like “flyplane,” flystealth” and “flybomber.” Stealth Fighter Pilots share some traits with LCA Pilots, but other things, like light combat missions and planes that are invisible to radar, are unique.\n",
    "4. It implements real life scenario.\n",
    "5. It is good for defining abstract data types.\n",
    "6. DRY(Don't Repeat Yourself) Code Reusability\n",
    "7. Data Redundancy\n",
    "8. Security\n",
    "9. Code Maintenance\n",
    "10. Problem solving"
   ]
  },
  {
   "cell_type": "markdown",
   "metadata": {},
   "source": [
    "#### Differentiate between function and method?"
   ]
  },
  {
   "cell_type": "markdown",
   "metadata": {},
   "source": [
    "A function is a piece of code that is called by name. It can be passed data to operate on (i.e. the parameters) and can optionally return data (the return value). All data that is passed to a function is explicitly passed.\n",
    "\n",
    "A method is a piece of code that is called by a name that is associated with an object. In most respects it is identical to a function except for two key differences:\n",
    "\n",
    "A method is implicitly passed the object on which it was called.\n",
    "A method is able to operate on data that is contained within the class (remembering that an object is an instance of a class - the class is the definition, the object is an instance of that data)."
   ]
  },
  {
   "cell_type": "markdown",
   "metadata": {},
   "source": [
    "#### Define the following terms:\n",
    "1. Class\n",
    "2. Object\n",
    "3. Attribute\n",
    "4. Behavior"
   ]
  },
  {
   "cell_type": "markdown",
   "metadata": {},
   "source": [
    "Class:\n",
    "A class is a code template for creating objects.\n",
    "Objects have member variables and have behaviour associated with them.\n",
    "In python a class is created by the keyword class.\n",
    "\n",
    "Object:\n",
    "A class is a code template for creating objects. Objects have member variables and have behaviour associated with them. In python a class is created by the keyword class.\n",
    "\n",
    "Attribute:\n",
    "An instance attribute is a Python variable belonging to one, and only one, object. ... A class attribute is a Python variable that belongs to a class rather than a particular object. It is shared between all the objects of this class and it is defined outside the constructor function, __init__(self,...) , of the class.\n",
    "\n",
    "Behavior:\n",
    "A class's behavior determines how an instance of that class operates; for example, how it will \"react\" if asked to do something by another class or object or if its internal state changes. Behavior is the only way objects can do anything to themselves or have anything done to them."
   ]
  },
  {
   "cell_type": "markdown",
   "metadata": {},
   "source": [
    "## Write a code in python in which create a class named it Car which\n",
    "have 5 attributes such like (model, color and name etc.) and 3\n",
    "methods. And create 5 object instance from that class."
   ]
  },
  {
   "cell_type": "code",
   "execution_count": null,
   "metadata": {},
   "outputs": [],
   "source": [
    "class Car():\n",
    "    def drive(self):\n",
    "        print('Car is on the road')"
   ]
  }
 ],
 "metadata": {
  "kernelspec": {
   "display_name": "Python 3",
   "language": "python",
   "name": "python3"
  },
  "language_info": {
   "codemirror_mode": {
    "name": "ipython",
    "version": 3
   },
   "file_extension": ".py",
   "mimetype": "text/x-python",
   "name": "python",
   "nbconvert_exporter": "python",
   "pygments_lexer": "ipython3",
   "version": "3.7.4"
  }
 },
 "nbformat": 4,
 "nbformat_minor": 2
}
