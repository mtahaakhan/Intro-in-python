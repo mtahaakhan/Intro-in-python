{
 "cells": [
  {
   "cell_type": "markdown",
   "metadata": {},
   "source": [
    "# Assignment No: 2"
   ]
  },
  {
   "cell_type": "markdown",
   "metadata": {},
   "source": [
    "## 2.1"
   ]
  },
  {
   "cell_type": "code",
   "execution_count": 7,
   "metadata": {},
   "outputs": [
    {
     "name": "stdout",
     "output_type": "stream",
     "text": [
      "Enter a number to check if it is an odd or even number: 2\n",
      "2 is Even Number\n"
     ]
    }
   ],
   "source": [
    "i = int(input(\"Enter a number to check if it is an odd or even number: \"))\n",
    "if (i%2==0):\n",
    "    print(i,\"is Even Number\")\n",
    "else:\n",
    "    print(i, \"is Odd Number\") "
   ]
  },
  {
   "cell_type": "markdown",
   "metadata": {},
   "source": [
    "## 2.2"
   ]
  },
  {
   "cell_type": "code",
   "execution_count": 8,
   "metadata": {},
   "outputs": [
    {
     "name": "stdout",
     "output_type": "stream",
     "text": [
      "1337\n"
     ]
    }
   ],
   "source": [
    "max_num = [5,6,8,99,22,73,357,1,373,3,136,8,31,367,13,67,7,63,543,43,464,32,368,743,0,641,351,68,4,131,684,31,16,84,31,368,3,13,1,34,684,3,0,743,1,384,3,1337,51,684,3,13,13]\n",
    "check = max(max_num)\n",
    "print(check)"
   ]
  },
  {
   "cell_type": "markdown",
   "metadata": {},
   "source": [
    "## 2.3"
   ]
  },
  {
   "cell_type": "code",
   "execution_count": 9,
   "metadata": {},
   "outputs": [
    {
     "name": "stdout",
     "output_type": "stream",
     "text": [
      "Enter marks of first subject: 65\n",
      "Enter marks of second subject: 95\n",
      "Enter marks of third subject: 85\n",
      "Enter marks of fourth subject: 75\n",
      "Enter marks of fifth subject: 89\n",
      "Your Grade is: A\n"
     ]
    }
   ],
   "source": [
    "# Question 1\n",
    "sub1 = int(input(\"Enter marks of first subject: \"))\n",
    "sub2 = int(input(\"Enter marks of second subject: \"))\n",
    "sub3 = int(input(\"Enter marks of third subject: \"))\n",
    "sub4 = int(input(\"Enter marks of fourth subject: \"))\n",
    "sub5 = int(input(\"Enter marks of fifth subject: \"))\n",
    "average=(sub1+sub2+sub3+sub4+sub5)/5\n",
    "\n",
    "if (average >= 90):\n",
    "    print(\"Your Grade is: A+\")\n",
    "elif (average >= 80):\n",
    "    print(\"Your Grade is: A\")\n",
    "elif (average >= 70):\n",
    "    print(\"Your Grade is: B\")\n",
    "elif (average >= 60):\n",
    "    print(\"Your Grade is: C\")\n",
    "elif (average >= 50):\n",
    "    print(\"Your Grade is: D\")\n",
    "elif (average >= 33):\n",
    "    print(\"Your Grade is: E\")\n",
    "else:\n",
    "    print(\"Your Grade is: F\")"
   ]
  },
  {
   "cell_type": "markdown",
   "metadata": {},
   "source": [
    "## 2.4"
   ]
  },
  {
   "cell_type": "code",
   "execution_count": 10,
   "metadata": {},
   "outputs": [
    {
     "name": "stdout",
     "output_type": "stream",
     "text": [
      "1\n",
      "1\n",
      "2\n",
      "3\n",
      "5\n"
     ]
    }
   ],
   "source": [
    "#  write a program that prints out all the elements of the list that are less than 5. \n",
    "l1 = [1, 1, 2, 3, 5, 8, 13, 21, 34, 55, 89]\n",
    "\n",
    "for i in l1:\n",
    "    if i <= 5:\n",
    "        print(i)"
   ]
  },
  {
   "cell_type": "markdown",
   "metadata": {},
   "source": [
    "## 2.5"
   ]
  },
  {
   "cell_type": "code",
   "execution_count": 11,
   "metadata": {},
   "outputs": [
    {
     "name": "stdout",
     "output_type": "stream",
     "text": [
      "6 ['Taha', 'Umair', 'Anas', 'Hamza', 'Basharat', 'Daniyal']\n"
     ]
    }
   ],
   "source": [
    "list = ['Taha','Umair','Anas','Hamza','Basharat','Daniyal']\n",
    "print(len(list), list)"
   ]
  },
  {
   "cell_type": "markdown",
   "metadata": {},
   "source": [
    "## 2.6"
   ]
  },
  {
   "cell_type": "code",
   "execution_count": 12,
   "metadata": {},
   "outputs": [
    {
     "name": "stdout",
     "output_type": "stream",
     "text": [
      "577\n"
     ]
    }
   ],
   "source": [
    "num = [45,97,25,364,46]\n",
    "total = sum(num)\n",
    "print(total)"
   ]
  }
 ],
 "metadata": {
  "kernelspec": {
   "display_name": "Python 3",
   "language": "python",
   "name": "python3"
  },
  "language_info": {
   "codemirror_mode": {
    "name": "ipython",
    "version": 3
   },
   "file_extension": ".py",
   "mimetype": "text/x-python",
   "name": "python",
   "nbconvert_exporter": "python",
   "pygments_lexer": "ipython3",
   "version": "3.7.4"
  }
 },
 "nbformat": 4,
 "nbformat_minor": 2
}
