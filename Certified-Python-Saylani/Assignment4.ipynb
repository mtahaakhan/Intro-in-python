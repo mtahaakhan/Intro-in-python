{
 "cells": [
  {
   "cell_type": "markdown",
   "metadata": {},
   "source": [
    "# Assignment 4\n"
   ]
  },
  {
   "cell_type": "markdown",
   "metadata": {},
   "source": [
    "## Question 1 \n",
    "#### 1. Use a dictionary to store information about a person you know. Store their first name, last name, age, and the city in which they live. You should have keys such as first_name, last_name, age, and city. 2. Print each piece of information stored in your dictionary. 3. Add a new key value pair about qualification, 4. then update the qualification value to high academic level, 5. then delete it."
   ]
  },
  {
   "cell_type": "code",
   "execution_count": 13,
   "metadata": {},
   "outputs": [
    {
     "name": "stdout",
     "output_type": "stream",
     "text": [
      "Enter your first name: Taha\n",
      "Enter your last name: Khan\n",
      "Enter your age: 21\n",
      "Enter your city: rwp\n",
      "{'first_name': 'Taha', 'last_name': 'Khan', 'age': '21', 'city': 'rwp'}\n",
      "Enter your qualification: ml\n",
      "{'first_name': 'Taha', 'last_name': 'Khan', 'age': '21', 'city': 'rwp', 'qualification': 'ml'}\n",
      "{'first_name': 'Taha', 'last_name': 'Khan', 'age': '21', 'city': 'rwp'}\n"
     ]
    }
   ],
   "source": [
    "#1 Storing information about the person in first_name,last_name,age,city.\n",
    "person = {\n",
    "    'first_name':input('Enter your first name: '),\n",
    "    'last_name':input('Enter your last name: '),\n",
    "    'age':input('Enter your age: '),\n",
    "    'city':input('Enter your city: '),\n",
    "}\n",
    "\n",
    "#2 Printing information stored in the dictionary\n",
    "print(person)\n",
    "\n",
    "#3 Adding new key value pair of qualification\n",
    "person['qualification'] = input('Enter your qualification: ')\n",
    "\n",
    "#4 Updating value\n",
    "print(person)\n",
    "\n",
    "#5 Deleting it\n",
    "del person['qualification']\n",
    "print(person)"
   ]
  },
  {
   "cell_type": "markdown",
   "metadata": {},
   "source": [
    "## Question 2\n",
    "#### Make a dictionary called cities. Use the names of three cities as keys in your dictionary. Create a dictionary of information about each city and include the country that the city is in, its approximate population, and one fact about that city. The keys for each city’s dictionary should be something like country, population, and fact. Print the name of each city and all of the information you have stored about it. "
   ]
  },
  {
   "cell_type": "code",
   "execution_count": 21,
   "metadata": {},
   "outputs": [
    {
     "name": "stdout",
     "output_type": "stream",
     "text": [
      "\n",
      "Rawalpindi is in Pakistan.\n",
      "It has a population of about 2.2 million.\n",
      "Rawalpindi is in Pakistan. It is a bustling town strategically located between the Punjab and Azad Kashmir. It has a strong colonial influence and possesses a large military cantonment with the headquarters of the Pakistan Army.\n",
      "\n",
      "Dehli is in India.\n",
      "It has a population of about 18.98 million.\n",
      "20% of Delhi landmass is covered by forests\n",
      "\n",
      "California is in United States of America.\n",
      "It has a population of about 39.56 million.\n",
      "Largest Mass Migration In History\n"
     ]
    }
   ],
   "source": [
    "cities = {\n",
    "    'Rawalpindi': {\n",
    "    'Country':'Pakistan',\n",
    "    'Population':'2.2 million',\n",
    "    'Fact':'Rawalpindi is in Pakistan. It is a bustling town strategically located between the Punjab and Azad Kashmir. It has a strong colonial influence and possesses a large military cantonment with the headquarters of the Pakistan Army.',\n",
    "    \n",
    "    },\n",
    "    'Dehli': {\n",
    "    'Country':'India',\n",
    "    'Population': '18.98 million',\n",
    "    'Fact':'20% of Delhi landmass is covered by forests',\n",
    "    },\n",
    "    'California': {\n",
    "    'Country':'United States of America',\n",
    "    'Population': '39.56 million',\n",
    "    'Fact':'Largest Mass Migration In History',\n",
    "    },\n",
    "}\n",
    "for city, city_info in cities.items():\n",
    "    Country = city_info['Country']\n",
    "    Population = city_info['Population']\n",
    "    Fact = city_info['Fact']\n",
    "    \n",
    "    print(\"\\n\" + city + \" is in \" + Country + \".\")\n",
    "    print(\"It has a population of about \" + Population + \".\")\n",
    "    print(Fact)"
   ]
  },
  {
   "cell_type": "markdown",
   "metadata": {},
   "source": [
    "## Question 3\n",
    "\n",
    "#### A movie theater charges different ticket prices depending on a person’s age. If a person is under the age of 3, the ticket is free; if they are between 3 and 12, the ticket is 10 dollars and if they are over age 12, the ticket is 15 dollars. Write a loop in which you ask users their age, and then tell them the cost of their movie ticket."
   ]
  },
  {
   "cell_type": "code",
   "execution_count": 1,
   "metadata": {},
   "outputs": [
    {
     "name": "stdout",
     "output_type": "stream",
     "text": [
      "Enter your age: 2\n",
      "Ticket is free!\n",
      "Enter your age: 5\n",
      "Your Ticket is 10$\n",
      "Enter your age: 133\n",
      "Your Ticket is 15$\n"
     ]
    }
   ],
   "source": [
    "for i in range(3):\n",
    "    age = int(input('Enter your age: '))\n",
    "    if age <= 3:\n",
    "        print('Ticket is free!')\n",
    "        \n",
    "    elif age > 3 and age <= 12:\n",
    "        print('Your Ticket is 10$')\n",
    "    elif age > 12:\n",
    "        print('Your Ticket is 15$')\n"
   ]
  },
  {
   "cell_type": "markdown",
   "metadata": {},
   "source": [
    "## Question 4\n",
    "#### Write a function called favorite_book() that accepts one parameter, title. The function should print a message, such as One of my favorite books is Alice in Wonderland. Call the function, making sure to include a book title as an argument in the function call."
   ]
  },
  {
   "cell_type": "code",
   "execution_count": 12,
   "metadata": {},
   "outputs": [
    {
     "name": "stdout",
     "output_type": "stream",
     "text": [
      "Enter Your Favourite Book: Alice in Wonderland\n",
      "My Favourite Book is Alice in Wonderland\n"
     ]
    }
   ],
   "source": [
    "def book(title):\n",
    "        title = input('Enter Your Favourite Book: ')\n",
    "        print('My Favourite Book is',title)\n",
    "book('')        "
   ]
  },
  {
   "cell_type": "markdown",
   "metadata": {},
   "source": [
    "## Question 5\n",
    "#### Guess the number game\n",
    "#### Write a program which randomly generate a number between 1 to 30 and ask the user in input field to guess the correct number. Give three chances to user guess the number and also give hint to user if hidden number is greater or smaller than the number he given to input field.\n"
   ]
  },
  {
   "cell_type": "code",
   "execution_count": 13,
   "metadata": {},
   "outputs": [
    {
     "name": "stdout",
     "output_type": "stream",
     "text": [
      "              HINT              \n",
      "try a number between 1 and 10\n",
      "Enter your guess: 4\n",
      "Your guess is wrong\n",
      "Try Again\n",
      "Enter your guess: 1\n",
      "Your guess is wrong\n",
      "Try Again\n",
      "Enter your guess: 7\n",
      "Your guess is wrong\n",
      "Try Again\n"
     ]
    }
   ],
   "source": [
    "import random\n",
    "guess = random.randint(1,30)\n",
    "print('              HINT              ')\n",
    "if guess >= 1 and guess < 10:\n",
    "    print('try a number between 1 and 10')\n",
    "elif guess >= 10 and guess < 20:\n",
    "    print('try a number between 10 and 20')\n",
    "elif guess >= 20 and guess < 30:\n",
    "    print('try a number between 20 and 30')\n",
    "for i in range(0,3):\n",
    "    user = int(input('Enter your guess: '))\n",
    "    if user < 1 or user > 30:\n",
    "        print(\"Choose a number between 1 and 30\")\n",
    "    else:\n",
    "        if user == random:\n",
    "            print('Your guess is right')\n",
    "            break\n",
    "        else:\n",
    "            print('Your guess is wrong')\n",
    "            print('Try Again')"
   ]
  },
  {
   "cell_type": "code",
   "execution_count": null,
   "metadata": {},
   "outputs": [],
   "source": []
  }
 ],
 "metadata": {
  "kernelspec": {
   "display_name": "Python 3",
   "language": "python",
   "name": "python3"
  },
  "language_info": {
   "codemirror_mode": {
    "name": "ipython",
    "version": 3
   },
   "file_extension": ".py",
   "mimetype": "text/x-python",
   "name": "python",
   "nbconvert_exporter": "python",
   "pygments_lexer": "ipython3",
   "version": "3.7.4"
  }
 },
 "nbformat": 4,
 "nbformat_minor": 2
}
