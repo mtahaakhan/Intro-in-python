{
 "cells": [
  {
   "cell_type": "markdown",
   "metadata": {},
   "source": [
    "# Assignment 3       "
   ]
  },
  {
   "cell_type": "markdown",
   "metadata": {},
   "source": [
    "## 3.1"
   ]
  },
  {
   "cell_type": "code",
   "execution_count": 1,
   "metadata": {},
   "outputs": [
    {
     "name": "stdout",
     "output_type": "stream",
     "text": [
      "Enter first value: 5\n",
      "Enter second value: 8\n",
      "Enter operator: +\n",
      "Answer is:  13\n"
     ]
    }
   ],
   "source": [
    "# calculator\n",
    "val1 = int(input('Enter first value: '))\n",
    "val2 = int(input('Enter second value: '))\n",
    "operator = input('Enter operator: ')\n",
    "\n",
    "if operator == '+':\n",
    "    val = val1 + val2\n",
    "    print('Answer is: ', val)\n",
    "elif operator == '-':\n",
    "    val = val1 - val2\n",
    "    print('Answer is: ', val)\n",
    "elif operator == '*':\n",
    "    val = val1 * val2\n",
    "    print('Answer is: ', val)\n",
    "elif operator == '/':\n",
    "    val = val1 / val2\n",
    "    print('Answer is: ', val)\n",
    "elif operator == '**':\n",
    "    val = val1 ** val2\n",
    "    print('Answer is: ', val)    \n",
    "else:\n",
    "    print('Enter Correct Operator')  "
   ]
  },
  {
   "cell_type": "markdown",
   "metadata": {},
   "source": [
    "## 3.2"
   ]
  },
  {
   "cell_type": "code",
   "execution_count": 2,
   "metadata": {},
   "outputs": [
    {
     "name": "stdout",
     "output_type": "stream",
     "text": [
      "{'Pakistan': 'Islamabad', 'India': 'Dehli', 'US': 'Washington DC', 'UK': 'London', 'Afghanistan': 'Kabul'}\n"
     ]
    }
   ],
   "source": [
    "# Adding key to dictionary\n",
    "capitals = {'Pakistan':'Islamabad','India':'Dehli','US':'Washington DC','UK':'London'}\n",
    "capitals['Afghanistan']='Kabul'\n",
    "print(capitals)"
   ]
  },
  {
   "cell_type": "markdown",
   "metadata": {},
   "source": [
    "## 3.3"
   ]
  },
  {
   "cell_type": "code",
   "execution_count": 3,
   "metadata": {},
   "outputs": [
    {
     "name": "stdout",
     "output_type": "stream",
     "text": [
      "tahaa This is not a numeric value\n",
      "usman This is not a numeric value\n",
      "ali This is not a numeric value\n",
      "3 is a numeric value in list\n",
      "10 is a numeric value in list\n",
      "1 is a numeric value in list\n",
      "12.6 is a numeric value in list\n",
      "5.9 is a numeric value in list\n"
     ]
    }
   ],
   "source": [
    "# numeric value in list\n",
    "list=['tahaa','usman','ali',3,10,1,12.6,5.9]\n",
    "for i in list:\n",
    "    if type(i) == int:\n",
    "        print(i,'is a numeric value in list')\n",
    "    elif type(i) == float: \n",
    "        print(i,'is a numeric value in list')\n",
    "    else:\n",
    "        print(i,'This is not a numeric value')    "
   ]
  },
  {
   "cell_type": "markdown",
   "metadata": {},
   "source": [
    "## 3.4"
   ]
  },
  {
   "cell_type": "code",
   "execution_count": 4,
   "metadata": {},
   "outputs": [
    {
     "name": "stdout",
     "output_type": "stream",
     "text": [
      "Dictionary :  {'a': 'apple', 'b': 'Banana', 'o': 'Orange', 'm': 'Mango'}\n",
      "Please enter the Key you want to search for: a\n",
      "Key Exists in this Dictionary\n",
      "Key =  a  and Value =  apple\n"
     ]
    }
   ],
   "source": [
    "# Python Program to check if a Given key exists in a Dictionary\n",
    "\n",
    "myDict = {'a': 'apple', 'b': 'Banana' , 'o': 'Orange', 'm': 'Mango'}\n",
    "print(\"Dictionary : \", myDict)\n",
    "\n",
    "key = input(\"Please enter the Key you want to search for: \")\n",
    "\n",
    "# Check Whether the Given key exists in a Dictionary or Not\n",
    "if key in myDict.keys():\n",
    "    print(\"Key Exists in this Dictionary\")\n",
    "    print(\"Key = \", key, \" and Value = \", myDict[key])\n",
    "else:\n",
    "    print(\"Key Does not Exists in this Dictionary\")"
   ]
  },
  {
   "cell_type": "markdown",
   "metadata": {},
   "source": [
    "## 3.5"
   ]
  },
  {
   "cell_type": "code",
   "execution_count": 5,
   "metadata": {},
   "outputs": [
    {
     "name": "stdout",
     "output_type": "stream",
     "text": [
      "['p', 'y', 't', 'h', 'o', 'n']\n"
     ]
    }
   ],
   "source": [
    "list = ['p','y','t','t','h','o','o','n']\n",
    "i = 0\n",
    "duplicate_list = []\n",
    "\n",
    "for x in list:\n",
    "    if list.index(x) == i:\n",
    "        duplicate_list += x\n",
    "    i += 1\n",
    "print(duplicate_list)        "
   ]
  },
  {
   "cell_type": "markdown",
   "metadata": {},
   "source": [
    "## 3.6"
   ]
  },
  {
   "cell_type": "code",
   "execution_count": 7,
   "metadata": {},
   "outputs": [
    {
     "name": "stdout",
     "output_type": "stream",
     "text": [
      "Sum of all the numeric items in a dictionary is:  25\n"
     ]
    }
   ],
   "source": [
    "#  Write a Python program to sum all the numeric items in a dictionary \n",
    "\n",
    "sum_dictionary = {'num1':4,'num2':3,'num3':3}\n",
    "\n",
    "# Adding another key into dictionary\n",
    "\n",
    "sum_dictionary['num4']=15\n",
    "\n",
    "total = sum(sum_dictionary.values())\n",
    "print('Sum of all the numeric items in a dictionary is: ',total)"
   ]
  }
 ],
 "metadata": {
  "kernelspec": {
   "display_name": "Python 3",
   "language": "python",
   "name": "python3"
  },
  "language_info": {
   "codemirror_mode": {
    "name": "ipython",
    "version": 3
   },
   "file_extension": ".py",
   "mimetype": "text/x-python",
   "name": "python",
   "nbconvert_exporter": "python",
   "pygments_lexer": "ipython3",
   "version": "3.7.4"
  }
 },
 "nbformat": 4,
 "nbformat_minor": 2
}
