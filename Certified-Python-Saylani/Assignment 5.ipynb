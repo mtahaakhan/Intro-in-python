{
 "cells": [
  {
   "cell_type": "markdown",
   "metadata": {},
   "source": [
    "# Assignment 5"
   ]
  },
  {
   "cell_type": "markdown",
   "metadata": {},
   "source": [
    "## 5.1"
   ]
  },
  {
   "cell_type": "code",
   "execution_count": 3,
   "metadata": {},
   "outputs": [
    {
     "name": "stdout",
     "output_type": "stream",
     "text": [
      "Enter Number to calculate it's factorial: 4\n",
      "24\n"
     ]
    }
   ],
   "source": [
    "# # Question 1 : Write a Python function to calculate the factorial of a number (a non-negative\n",
    "# # integer). The function accepts the number as an argument.\n",
    "\n",
    "def is_positive_integer(num):\n",
    "    if int(num) > 0 :\n",
    "        return True\n",
    "    else:\n",
    "        return False\n",
    "def calculate_factorial(num):\n",
    "    factorial = 1\n",
    "    if is_positive_integer(num) == True:\n",
    "        num = int(num)\n",
    "        for i in range(1, num + 1):\n",
    "            factorial = factorial * i\n",
    "        print(factorial)\n",
    "    else:\n",
    "        print(\"Invalid input\")\n",
    "\n",
    "factorial_calculation = input(\"Enter Number to calculate it's factorial: \")\n",
    "calculate_factorial(factorial_calculation)"
   ]
  },
  {
   "cell_type": "markdown",
   "metadata": {},
   "source": [
    "## 5.2"
   ]
  },
  {
   "cell_type": "code",
   "execution_count": 5,
   "metadata": {},
   "outputs": [
    {
     "name": "stdout",
     "output_type": "stream",
     "text": [
      "Enter String:HeLlo FriENd\n",
      "Upper case:  5\n",
      "Lower case:  6\n"
     ]
    }
   ],
   "source": [
    "# # Question:2\n",
    "# # Write a Python function that accepts a string and calculate the number of upper\n",
    "# # case letters and lower case letters.\n",
    "\n",
    "def counter(string):\n",
    "    upper=0\n",
    "    lower=0\n",
    "    for x in string:\n",
    "        if x >= 'A' and x <= 'Z':\n",
    "            upper +=1\n",
    "        elif x >= 'a' and x <= 'z':\n",
    "            lower +=1 \n",
    "    print('Upper case: ', upper)\n",
    "    print('Lower case: ', lower)\n",
    "\n",
    "string = input('Enter String:')\n",
    "counter(string)"
   ]
  },
  {
   "cell_type": "markdown",
   "metadata": {},
   "source": [
    "## 5.3"
   ]
  },
  {
   "cell_type": "code",
   "execution_count": 6,
   "metadata": {},
   "outputs": [
    {
     "name": "stdout",
     "output_type": "stream",
     "text": [
      "2\n",
      "54\n",
      "78\n",
      "56\n",
      "24\n"
     ]
    }
   ],
   "source": [
    "# Question:3\n",
    "# Write a Python function to print the even numbers from a given list.\n",
    "\n",
    "\n",
    "List = [2, 3, 23, 54, 45, 23, 78, 56, 99, 24]\n",
    "for element in List:\n",
    "    if element % 2 == 0:\n",
    "        print(element)"
   ]
  },
  {
   "cell_type": "markdown",
   "metadata": {},
   "source": [
    "## 5.4"
   ]
  },
  {
   "cell_type": "code",
   "execution_count": 7,
   "metadata": {},
   "outputs": [
    {
     "name": "stdout",
     "output_type": "stream",
     "text": [
      "Etner word to check is it Palindrome: hello friend hello this is taha\n",
      "Not a palindrome\n"
     ]
    }
   ],
   "source": [
    "# Question:4\n",
    "# Write a Python function that checks whether a passed string is palindrome or not.\n",
    "# Note: A palindrome is a word, phrase, or sequence that reads the same\n",
    "# backward as forward, e.g., madam\n",
    "\n",
    "def check(string):\n",
    "    if(string == string[::-1]):\n",
    "        print('The string is a palindrome')\n",
    "    else:\n",
    "        print('Not a palindrome')\n",
    "string = input('Etner word to check is it Palindrome: ')\n",
    "check(string)"
   ]
  },
  {
   "cell_type": "markdown",
   "metadata": {},
   "source": [
    "## 5.5"
   ]
  },
  {
   "cell_type": "code",
   "execution_count": 2,
   "metadata": {},
   "outputs": [
    {
     "name": "stdout",
     "output_type": "stream",
     "text": [
      "Enter num to check it is prime or not: 3\n"
     ]
    }
   ],
   "source": [
    "# Question:5\n",
    "# Write a Python function that takes a number as a parameter and check the\n",
    "# number is prime or not.\n",
    "\n",
    "\n",
    "number = int(input('Enter num to check it is prime or not: '))\n",
    "def prime(number):\n",
    "    if number > 1:\n",
    "        for i in range(2, number // 2):\n",
    "            if(number % i)==0:\n",
    "                print(number, ' is not a prime')\n",
    "                break\n",
    "            else:\n",
    "                print(number, 'is a prime number ')\n",
    "    else:\n",
    "        print(number, 'is not a prime number')\n",
    "\n",
    "prime(number)"
   ]
  },
  {
   "cell_type": "markdown",
   "metadata": {},
   "source": [
    "## 5.6"
   ]
  },
  {
   "cell_type": "code",
   "execution_count": 3,
   "metadata": {},
   "outputs": [
    {
     "name": "stdout",
     "output_type": "stream",
     "text": [
      "Enter Shopping item [-1 to abort]: Oil\n",
      "Enter Shopping item [-1 to abort]: Sugar\n",
      "Enter Shopping item [-1 to abort]: Shampoo\n",
      "Enter Shopping item [-1 to abort]: -1\n",
      "You purchased: Oil\n",
      "You purchased: Sugar\n",
      "You purchased: Shampoo\n"
     ]
    }
   ],
   "source": [
    "# Question: 6\n",
    "# Suppose a customer is shopping in a market and you need to print all the items\n",
    "# which user bought from market.\n",
    "# Write a function which accepts the multiple arguments of user shopping list and\n",
    "# print all the items which user bought from market.\n",
    "# (Hint: Arbitrary Argument concept can make this task ease)\n",
    "\n",
    "def shopping(*items):\n",
    "    shopping_items = []\n",
    "    while True:\n",
    "        item = input(\"Enter Shopping item [-1 to abort]: \")\n",
    "        if item != '-1':\n",
    "            shopping_items.append(item)\n",
    "        else:\n",
    "            break\n",
    "    for item in range(len(shopping_items)):\n",
    "        print(\"You purchased: {}\".format(shopping_items[item]))\n",
    "shopping()"
   ]
  },
  {
   "cell_type": "code",
   "execution_count": null,
   "metadata": {},
   "outputs": [],
   "source": []
  }
 ],
 "metadata": {
  "kernelspec": {
   "display_name": "Python 3",
   "language": "python",
   "name": "python3"
  }
 },
 "nbformat": 4,
 "nbformat_minor": 2
}
