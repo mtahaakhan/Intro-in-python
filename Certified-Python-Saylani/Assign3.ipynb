{
 "cells": [
  {
   "cell_type": "code",
   "execution_count": null,
   "metadata": {},
   "outputs": [],
   "source": [
    "# calculator\n",
    "val1 = int(input('Enter first value: '))\n",
    "val2 = int(input('Enter second value: '))\n",
    "operator = input('Enter operator: ')\n",
    "\n",
    "if operator == '+':\n",
    "    val = val1 + val2\n",
    "    print('Answer is: ', val)\n",
    "elif operator == '-':\n",
    "    val = val1 - val2\n",
    "    print('Answer is: ', val)\n",
    "elif operator == '*':\n",
    "    val = val1 * val2\n",
    "    print('Answer is: ', val)\n",
    "elif operator == '/':\n",
    "    val = val1 / val2\n",
    "    print('Answer is: ', val)\n",
    "elif operator == '**':\n",
    "    val = val1 ** val2\n",
    "    print('Answer is: ', val)    \n",
    "else:\n",
    "    print('Enter Correct Operator')            "
   ]
  },
  {
   "cell_type": "code",
   "execution_count": null,
   "metadata": {},
   "outputs": [],
   "source": [
    "# Adding key to dictionary\n",
    "capitals = {'Pakistan':'Islamabad','India':'Dehli','US':'Washington DC','UK':'London'}\n",
    "capitals['Afghanistan']='Kabul'\n",
    "print(capitals)"
   ]
  },
  {
   "cell_type": "code",
   "execution_count": null,
   "metadata": {},
   "outputs": [],
   "source": [
    "# numeric value in list\n",
    "list=['tahaa','usman','ali',3,10,1,12.6,5.9]\n",
    "for i in list:\n",
    "    if type(i) == int:\n",
    "        print(i,'is a numeric value in list')\n",
    "    elif type(i) == float: \n",
    "        print(i,'is a numeric value in list')\n",
    "    else:\n",
    "        print(i,'This is not a numeric value')    "
   ]
  },
  {
   "cell_type": "code",
   "execution_count": null,
   "metadata": {},
   "outputs": [],
   "source": []
  },
  {
   "cell_type": "code",
   "execution_count": null,
   "metadata": {},
   "outputs": [],
   "source": [
    "# Python Program to check if a Given key exists in a Dictionary\n",
    "\n",
    "myDict = {'a': 'apple', 'b': 'Banana' , 'o': 'Orange', 'm': 'Mango'}\n",
    "print(\"Dictionary : \", myDict)\n",
    "\n",
    "key = input(\"Please enter the Key you want to search for: \")\n",
    "\n",
    "# Check Whether the Given key exists in a Dictionary or Not\n",
    "if key in myDict.keys():\n",
    "    print(\"Key Exists in this Dictionary\")\n",
    "    print(\"Key = \", key, \" and Value = \", myDict[key])\n",
    "else:\n",
    "    print(\"Key Does not Exists in this Dictionary\")"
   ]
  },
  {
   "cell_type": "code",
   "execution_count": null,
   "metadata": {},
   "outputs": [],
   "source": [
    "list = ['p','y','t','t','h','o','o','n']\n",
    "i = 0\n",
    "duplicate_list = []\n",
    "\n",
    "for x in list:\n",
    "    if list.index(x) == i:\n",
    "        duplicate_list += x\n",
    "    i += 1\n",
    "print(duplicate_list)        "
   ]
  },
  {
   "cell_type": "code",
   "execution_count": null,
   "metadata": {},
   "outputs": [],
   "source": [
    "#  Write a Python program to sum all the numeric items in a dictionary \n",
    "\n",
    "sum_dictionary = {'num1':4,'num2':3,'num3':3}\n",
    "\n",
    "# Adding another key into dictionary\n",
    "\n",
    "sum_dictionary['num4']=15\n",
    "\n",
    "total = sum(sum_dictionary.values())\n",
    "print('Sum of all the numeric items in a dictionary is: ',total)"
   ]
  },
  {
   "cell_type": "code",
   "execution_count": null,
   "metadata": {},
   "outputs": [],
   "source": []
  }
 ],
 "metadata": {
  "kernelspec": {
   "display_name": "Python 3",
   "language": "python",
   "name": "python3"
  }
 },
 "nbformat": 4,
 "nbformat_minor": 2
}
