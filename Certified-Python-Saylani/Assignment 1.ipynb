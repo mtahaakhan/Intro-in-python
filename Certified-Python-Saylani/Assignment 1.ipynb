{
 "cells": [
  {
   "cell_type": "markdown",
   "metadata": {},
   "source": [
    "# Assignment No: 1"
   ]
  },
  {
   "cell_type": "markdown",
   "metadata": {},
   "source": [
    "## 1.1"
   ]
  },
  {
   "cell_type": "code",
   "execution_count": 1,
   "metadata": {},
   "outputs": [
    {
     "name": "stdout",
     "output_type": "stream",
     "text": [
      "Enter first number here: 5\n",
      "Enter second number here: 6\n",
      "11\n"
     ]
    }
   ],
   "source": [
    "# Here we are converting string into integar because input store string value.\n",
    "\n",
    "first_number = int(input('Enter first number here: '))\n",
    "second_number = int(input('Enter second number here: '))\n",
    "\n",
    "# both variables are converted into integars so we can add plus sign because we are not concatenating them, we are adding integars\n",
    "total = first_number + second_number\n",
    "print(total)"
   ]
  },
  {
   "cell_type": "markdown",
   "metadata": {},
   "source": [
    "## 1.2"
   ]
  },
  {
   "cell_type": "code",
   "execution_count": 2,
   "metadata": {},
   "outputs": [
    {
     "name": "stdout",
     "output_type": "stream",
     "text": [
      "Input the radius of the circle: 6\n",
      "The area of the circle with radius 6.0 is: 113.09733552923255\n"
     ]
    }
   ],
   "source": [
    "# Here we are importing pi from math library\n",
    "from math import pi\n",
    "\n",
    "# Here we are storing float value in radius\n",
    "radius = float(input('Input the radius of the circle: '))\n",
    "\n",
    "# Here we are converting radius variable into string and then multiplying pi into radius square\n",
    "print('The area of the circle with radius ' + str(radius) + ' is: ' + str(pi * radius**2))"
   ]
  },
  {
   "cell_type": "markdown",
   "metadata": {},
   "source": [
    "## 1.3"
   ]
  },
  {
   "cell_type": "code",
   "execution_count": 3,
   "metadata": {},
   "outputs": [
    {
     "name": "stdout",
     "output_type": "stream",
     "text": [
      "2020-01-02 03:50:40.296072\n"
     ]
    }
   ],
   "source": [
    "# Here we are importing datetime function from datetime library\n",
    "from datetime import datetime\n",
    "\n",
    "# Here we stored the time and date in variable called today.\n",
    "today = datetime.now()\n",
    "# Here we printed the variable\n",
    "print(today)"
   ]
  },
  {
   "cell_type": "markdown",
   "metadata": {},
   "source": [
    "## 1.4"
   ]
  },
  {
   "cell_type": "code",
   "execution_count": 4,
   "metadata": {},
   "outputs": [
    {
     "name": "stdout",
     "output_type": "stream",
     "text": [
      "Python Version3.7.4 (default, Aug 13 2019, 20:35:49) \n",
      "[GCC 7.3.0]\n",
      "Version Info\n",
      "sys.version_info(major=3, minor=7, micro=4, releaselevel='final', serial=0)\n"
     ]
    }
   ],
   "source": [
    "# Here we imported sys\n",
    "import sys\n",
    "\n",
    "# Here we concatenated a string with sys.version\n",
    "print('Python Version' + sys.version)\n",
    "# Here we couldn't concatenate sys.version_info below, so we wrote them seperately\n",
    "print('Version Info')\n",
    "print(sys.version_info)"
   ]
  },
  {
   "cell_type": "markdown",
   "metadata": {},
   "source": [
    "## 1.5"
   ]
  },
  {
   "cell_type": "code",
   "execution_count": 5,
   "metadata": {},
   "outputs": [
    {
     "name": "stdout",
     "output_type": "stream",
     "text": [
      "Enter first name here: Tahaa\n",
      "Enter last name here: Khan\n",
      "Khan Tahaa\n"
     ]
    }
   ],
   "source": [
    "# Here we stored first and last name in the variables and printed them reversely\n",
    "first_name = input('Enter first name here: ')\n",
    "last_name = input('Enter last name here: ')\n",
    "\n",
    "print(last_name + ' ' + first_name)"
   ]
  },
  {
   "cell_type": "markdown",
   "metadata": {},
   "source": [
    "## 1.6"
   ]
  },
  {
   "cell_type": "code",
   "execution_count": 6,
   "metadata": {},
   "outputs": [
    {
     "name": "stdout",
     "output_type": "stream",
     "text": [
      "Twinkle, twinkle, little star,\n",
      "    How I wonder what you are!\n",
      "        Up above the world so high,\n",
      "        Like a diamond in the sky.\n",
      "Twinkle, twinkle, little star,\n",
      "    How I wonder what you are!\n"
     ]
    }
   ],
   "source": [
    "# Here we wrote the poem as it is. Using spaces between them\n",
    "\n",
    "print('Twinkle, twinkle, little star,')\n",
    "print('    ' + 'How I wonder what you are!')\n",
    "print('    ' + '    ' + 'Up above the world so high,')\n",
    "print('    ' + '    ' + 'Like a diamond in the sky.')\n",
    "print('Twinkle, twinkle, little star,')\n",
    "print('    ' + 'How I wonder what you are!')"
   ]
  },
  {
   "cell_type": "code",
   "execution_count": null,
   "metadata": {},
   "outputs": [],
   "source": []
  }
 ],
 "metadata": {
  "kernelspec": {
   "display_name": "Python 3",
   "language": "python",
   "name": "python3"
  },
  "language_info": {
   "codemirror_mode": {
    "name": "ipython",
    "version": 3
   },
   "file_extension": ".py",
   "mimetype": "text/x-python",
   "name": "python",
   "nbconvert_exporter": "python",
   "pygments_lexer": "ipython3",
   "version": "3.7.4"
  }
 },
 "nbformat": 4,
 "nbformat_minor": 2
}
