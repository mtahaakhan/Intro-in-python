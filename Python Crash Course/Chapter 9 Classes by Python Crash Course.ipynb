{
 "cells": [
  {
   "cell_type": "markdown",
   "metadata": {},
   "source": [
    "# Classes"
   ]
  },
  {
   "cell_type": "code",
   "execution_count": null,
   "metadata": {},
   "outputs": [],
   "source": [
    "# Creating a dog class\n",
    "class Dog(): #1\n",
    "   \"\"\"A simple attempt to model a dog.\"\"\" #2\n",
    "    def __init__(self,name,age): #3\n",
    "        self.name = name #4\n",
    "        self.age = age\n",
    "    def sit(self): #5\n",
    "        \"\"\"Simulate a dog sitting in response to a command.\"\"\"\n",
    "        print(f\"{self.name} is sitting now.\")\n",
    "    def roll_over(self):\n",
    "        \"\"\"Simulate rolling over in response to a command.\"\"\"\n",
    "        print(f\"{self.name} rolled over!.\")\n",
    "        \n",
    "#1: we define a class called Dog. By convention, capitalized names refer to classes in Python. There are no parentheses in the class definition because we’re creating this class from scratch."
   ]
  },
  {
   "cell_type": "code",
   "execution_count": null,
   "metadata": {},
   "outputs": [],
   "source": []
  },
  {
   "cell_type": "code",
   "execution_count": null,
   "metadata": {},
   "outputs": [],
   "source": []
  },
  {
   "cell_type": "code",
   "execution_count": null,
   "metadata": {},
   "outputs": [],
   "source": []
  }
 ],
 "metadata": {
  "kernelspec": {
   "display_name": "Python 3",
   "language": "python",
   "name": "python3"
  },
  "language_info": {
   "codemirror_mode": {
    "name": "ipython",
    "version": 3
   },
   "file_extension": ".py",
   "mimetype": "text/x-python",
   "name": "python",
   "nbconvert_exporter": "python",
   "pygments_lexer": "ipython3",
   "version": "3.7.4"
  }
 },
 "nbformat": 4,
 "nbformat_minor": 2
}
