{
 "cells": [
  {
   "cell_type": "code",
   "execution_count": 6,
   "metadata": {},
   "outputs": [
    {
     "name": "stdout",
     "output_type": "stream",
     "text": [
      "Hello, friend.\n"
     ]
    }
   ],
   "source": [
    "def greet_user():\n",
    "    '''Display a simple greetings.'''\n",
    "    print('Hello, friend.')\n",
    "greet_user()    "
   ]
  },
  {
   "cell_type": "code",
   "execution_count": 5,
   "metadata": {},
   "outputs": [
    {
     "name": "stdout",
     "output_type": "stream",
     "text": [
      "Hello Friend!\n"
     ]
    }
   ],
   "source": [
    "def greet_user(username):\n",
    "    print(f\"Hello {username.title()}!\")\n",
    "    \n",
    "greet_user('Friend')    "
   ]
  },
  {
   "cell_type": "raw",
   "metadata": {},
   "source": [
    "Try It Yourself\n",
    "8-1. Message: Write a function called display_message() that prints one sentence telling everyone what you are learning about in this chapter. Call the\n",
    "function, and make sure the message displays correctly.\n",
    "8-2. Favorite Book: Write a function called favorite_book() that accepts one\n",
    "parameter, title. The function should print a message, such as One of my\n",
    "favorite books is Alice in Wonderland. Call the function, making sure to\n",
    "include a book title as an argument in the function call."
   ]
  },
  {
   "cell_type": "code",
   "execution_count": 9,
   "metadata": {},
   "outputs": [
    {
     "name": "stdout",
     "output_type": "stream",
     "text": [
      "You are learning Functions in this chapter.\n"
     ]
    }
   ],
   "source": [
    "def display_message():\n",
    "    print('You are learning Functions in this chapter.')\n",
    "display_message()    "
   ]
  },
  {
   "cell_type": "code",
   "execution_count": 12,
   "metadata": {},
   "outputs": [
    {
     "name": "stdout",
     "output_type": "stream",
     "text": [
      "One of my favorite book is Alice In Wonderland\n"
     ]
    }
   ],
   "source": [
    "def favorite_book(book):\n",
    "    print(f'One of my favorite book is {book.title()}')\n",
    "favorite_book('alice in wonderland')    "
   ]
  },
  {
   "cell_type": "code",
   "execution_count": 2,
   "metadata": {},
   "outputs": [
    {
     "name": "stdout",
     "output_type": "stream",
     "text": [
      "\n",
      " My Dog name is Jackie \n"
     ]
    }
   ],
   "source": [
    "def animal(animal_type,name):\n",
    "    print(f\"\\n My {animal_type.title()} name is {name.title()} \")\n",
    "animal('Dog','Jackie')    "
   ]
  },
  {
   "cell_type": "code",
   "execution_count": null,
   "metadata": {},
   "outputs": [],
   "source": [
    "def animal(animal_type,name):\n",
    "    print(f\"\\n My {animal_type.title()} name is {name.title()} \")\n",
    "animal(animal_type='Dog',name='Jackie')  "
   ]
  },
  {
   "cell_type": "code",
   "execution_count": null,
   "metadata": {},
   "outputs": [],
   "source": [
    "Topics\n",
    "Functions:\n",
    "    1. Required Arguments\n",
    "    2. Optional Arguements\n",
    "    3. Return\n",
    "    4. Non Return\n",
    "    5. Default Arguments\n",
    "    6. Positional Arguments\n",
    "    6. Keyword Arguments\n",
    "    7. Argument with list\n",
    "    8. Argument with dictionary\n",
    "    9. Pre defined Functions\n",
    "    10. User defined Functions\n",
    "    "
   ]
  },
  {
   "cell_type": "code",
   "execution_count": 5,
   "metadata": {},
   "outputs": [
    {
     "name": "stdout",
     "output_type": "stream",
     "text": [
      "Jimi Hendrix\n"
     ]
    }
   ],
   "source": [
    "def get_formatted_name(first_name, last_name):\n",
    "    full_name = f\"{first_name} {last_name}\"\n",
    "    return full_name.title()\n",
    "\n",
    "musician = get_formatted_name('jimi', 'hendrix')\n",
    "print(musician)"
   ]
  },
  {
   "cell_type": "code",
   "execution_count": 9,
   "metadata": {},
   "outputs": [
    {
     "name": "stdout",
     "output_type": "stream",
     "text": [
      "Tahaa Khan\n"
     ]
    }
   ],
   "source": [
    "def name(first,last):\n",
    "    full_name = (f\"{first}{last}\")\n",
    "    return full_name.title()\n",
    "\n",
    "musician = name('Tahaa ', 'Khan')\n",
    "print(musician)"
   ]
  },
  {
   "cell_type": "code",
   "execution_count": 11,
   "metadata": {},
   "outputs": [
    {
     "name": "stdout",
     "output_type": "stream",
     "text": [
      "Username: Mtahaakhan\n",
      "Followers: 100\n"
     ]
    }
   ],
   "source": [
    "def profile_info(username,followers):\n",
    "    print('Username: ' + username.title())\n",
    "    print('Followers: ' + str(followers))\n",
    "profile_info(username='mtahaakhan',followers=100)    "
   ]
  },
  {
   "cell_type": "code",
   "execution_count": 17,
   "metadata": {},
   "outputs": [
    {
     "data": {
      "text/plain": [
       "{'firstname': 'Tahaa', 'lastname': 'Khan'}"
      ]
     },
     "execution_count": 17,
     "metadata": {},
     "output_type": "execute_result"
    }
   ],
   "source": [
    "def person(first,last):\n",
    "    person = {'firstname':first.title(),'lastname':last.title()}\n",
    "    \n",
    "person('tahaa','khan')\n",
    "   "
   ]
  },
  {
   "cell_type": "markdown",
   "metadata": {},
   "source": [
    "8.3 Write a function called make_shirt() that accepts a size and the text of a message that should be printed on the shirt. The function should print a sentence summarizing the size of the shirt and the message printed on it.\n",
    "\n",
    "Call the function once using positional arguments to make a shirt. Call the function a second time using keyword arguments."
   ]
  },
  {
   "cell_type": "code",
   "execution_count": 5,
   "metadata": {},
   "outputs": [
    {
     "name": "stdout",
     "output_type": "stream",
     "text": [
      "Size of the shirt will be: Medium\n",
      "\n",
      "Sentence printed on the shirt will be: Fsociety\n",
      "\n",
      "\n",
      "Size of the shirt will be: Large\n",
      "\n",
      "Sentence printed on the shirt will be: Mr. Robot\n"
     ]
    }
   ],
   "source": [
    "def make_shirt(size,text):\n",
    "    print('Size of the shirt will be: ' + size)\n",
    "    print('\\nSentence printed on the shirt will be: ' + text)\n",
    "\n",
    "make_shirt('Medium','Fsociety')\n",
    "print('\\n')\n",
    "make_shirt(size='Large',text='Mr. Robot')"
   ]
  },
  {
   "cell_type": "markdown",
   "metadata": {},
   "source": [
    "8.4\n",
    "Modify the make_shirt() function so that shirts are large by default with a message that reads I love Python. Make a large shirt and a medium shirt with the default message, and a shirt of any size with a different message."
   ]
  },
  {
   "cell_type": "code",
   "execution_count": 6,
   "metadata": {},
   "outputs": [
    {
     "name": "stdout",
     "output_type": "stream",
     "text": [
      "Size of the shirt will be: Medium\n",
      "\n",
      "Sentence printed on the shirt will be: I Love Python\n",
      "\n",
      "\n",
      "Size of the shirt will be: Large\n",
      "\n",
      "Sentence printed on the shirt will be: I Love Python\n",
      "\n",
      "\n",
      "Size of the shirt will be: Small\n",
      "\n",
      "Sentence printed on the shirt will be: Mr. Robot!\n"
     ]
    }
   ],
   "source": [
    "def make_shirt(size='Large',text='I Love Python'):\n",
    "    print('Size of the shirt will be: ' + size)\n",
    "    print('\\nSentence printed on the shirt will be: ' + text)\n",
    "\n",
    "make_shirt('Medium')\n",
    "print('\\n')\n",
    "make_shirt()\n",
    "print('\\n')\n",
    "make_shirt('Small','Mr. Robot!')"
   ]
  },
  {
   "cell_type": "markdown",
   "metadata": {},
   "source": [
    "8.5 Write a function called describe_city() that accepts the name of a city and its country. The function should print a simple sentence, such as Reykjavik is in Iceland. Give the parameter for the country a default value. Call your function for three different cities, at least one of which is not in the default country."
   ]
  },
  {
   "cell_type": "code",
   "execution_count": 8,
   "metadata": {},
   "outputs": [
    {
     "name": "stdout",
     "output_type": "stream",
     "text": [
      "New York is in United States Of America\n",
      "London is in United Kingdom\n",
      "Moscow is in Russia\n"
     ]
    }
   ],
   "source": [
    "def describe_city(city,country='Pakistan'):\n",
    "    print(city.title() + ' is in ' + country.title())\n",
    "    \n",
    "describe_city('New York','United States of america')\n",
    "describe_city('London','united kingdom')\n",
    "describe_city('Moscow','Russia')"
   ]
  },
  {
   "cell_type": "markdown",
   "metadata": {},
   "source": [
    "8-6. City Names: Write a function called city_country() that takes in the name\n",
    "of a city and its country. The function should return a string formatted like this:\n",
    "\"Santiago, Chile\"\n",
    "Call your function with at least three city-country pairs, and print the\n",
    "values that are returned."
   ]
  },
  {
   "cell_type": "code",
   "execution_count": 15,
   "metadata": {},
   "outputs": [
    {
     "name": "stdout",
     "output_type": "stream",
     "text": [
      "\"Rawalpindi, Pakistan\"\n",
      "\"Dehli, India\"\n",
      "\"Dhaka, Bangladesh\"\n"
     ]
    }
   ],
   "source": [
    "def city_country(city,country):\n",
    "    return('\"' + city + ', ' + country + '\"')\n",
    "city = city_country('Rawalpindi','Pakistan')\n",
    "print(city)\n",
    "city = city_country('Dehli','India')\n",
    "print(city)\n",
    "city = city_country('Dhaka','Bangladesh')\n",
    "print(city)\n"
   ]
  },
  {
   "cell_type": "markdown",
   "metadata": {},
   "source": [
    "Write a function called make_album() that builds a dictionary describing a music album. The function should take in an artist name and an album title, and it should return a dictionary containing these two pieces of information. Use the function to make three dictionaries representing different albums. Print each return value to show that the dictionaries are storing the album information correctly.\n",
    "\n",
    "Add an optional parameter to make_album() that allows you to store the nubmer of tracks on an album. If the calling line includes a value for the number of tracks, add that value to the album’s dictionary. Make at least one new function call that includes the nubmer of tracks on an album."
   ]
  },
  {
   "cell_type": "code",
   "execution_count": 19,
   "metadata": {},
   "outputs": [
    {
     "name": "stdout",
     "output_type": "stream",
     "text": [
      "{'Atif Aslam': 'Jeena Jeena'}\n",
      "{'Arijit Singh': 'Tujhe Kitna Chahne Laga'}\n",
      "{'Jubin Nautiyal': 'Tumhi Ana'}\n"
     ]
    }
   ],
   "source": [
    "def make_album(artist,album):\n",
    "    music = {\n",
    "        artist:album,\n",
    "    }\n",
    "    return music\n",
    "music = make_album('Atif Aslam','Jeena Jeena')\n",
    "print(music)\n",
    "music = make_album('Arijit Singh','Tujhe Kitna Chahne Laga')\n",
    "print(music)\n",
    "music = make_album('Jubin Nautiyal','Tumhi Ana')\n",
    "print(music)"
   ]
  },
  {
   "cell_type": "code",
   "execution_count": null,
   "metadata": {},
   "outputs": [],
   "source": []
  },
  {
   "cell_type": "code",
   "execution_count": 6,
   "metadata": {},
   "outputs": [
    {
     "name": "stdout",
     "output_type": "stream",
     "text": [
      "Enter Singer Name: Arijit\n",
      "Enter Song Name: Tum hi ana\n",
      "{'Arijit': 'Tum hi ana'}\n",
      "Enter Singer Name: Atif\n",
      "Enter Song Name: Dil Diyan Gallan\n",
      "{'Atif': 'Dil Diyan Gallan'}\n",
      "Enter Singer Name: Jubin Nautiyal\n",
      "Enter Song Name: Tujhe Kitna Chahne Laga\n",
      "{'Jubin Nautiyal': 'Tujhe Kitna Chahne Laga'}\n",
      "{'Arijit': 'Tum hi ana', 'Atif': 'Dil Diyan Gallan', 'Jubin Nautiyal': 'Tujhe Kitna Chahne Laga'}\n"
     ]
    }
   ],
   "source": [
    "def make_album(artist,song): # defining a function with two required parameters\n",
    "    music = {\n",
    "        artist:song, # storing artist & song name in a dictionary called music\n",
    "    }\n",
    "    return music\n",
    "album = {} # an empty dictionary\n",
    "for song in range(3): # a loop which will run 3 times\n",
    "    music = make_album(input('Enter Singer Name: '),input('Enter Song Name: ')) # calling a function with storing,\n",
    "    print(music) # its values in music and calling getting values as inputs,now printing what a user has entered,\n",
    "    album.update(music) # now storing both key and value in a dictionary so that when the loop exits, we have\n",
    "    # something to see....a favorite album.\n",
    "    \n",
    "    # task:#\n",
    "    # here i want to run a for loop which will call the function.\n",
    "    # and i am taking arguments from the user through input.\n",
    "    # and i want to store both arguments as key:value pairs inside a dictionary\n",
    "    \n",
    "print(album)"
   ]
  },
  {
   "cell_type": "code",
   "execution_count": null,
   "metadata": {},
   "outputs": [],
   "source": []
  },
  {
   "cell_type": "code",
   "execution_count": null,
   "metadata": {},
   "outputs": [],
   "source": []
  },
  {
   "cell_type": "code",
   "execution_count": null,
   "metadata": {},
   "outputs": [],
   "source": []
  },
  {
   "cell_type": "code",
   "execution_count": null,
   "metadata": {},
   "outputs": [],
   "source": []
  },
  {
   "cell_type": "code",
   "execution_count": null,
   "metadata": {},
   "outputs": [],
   "source": []
  },
  {
   "cell_type": "code",
   "execution_count": null,
   "metadata": {},
   "outputs": [],
   "source": []
  },
  {
   "cell_type": "code",
   "execution_count": null,
   "metadata": {},
   "outputs": [],
   "source": []
  },
  {
   "cell_type": "code",
   "execution_count": null,
   "metadata": {},
   "outputs": [],
   "source": []
  },
  {
   "cell_type": "code",
   "execution_count": null,
   "metadata": {},
   "outputs": [],
   "source": [
    ")"
   ]
  },
  {
   "cell_type": "code",
   "execution_count": null,
   "metadata": {},
   "outputs": [],
   "source": []
  },
  {
   "cell_type": "code",
   "execution_count": null,
   "metadata": {},
   "outputs": [],
   "source": []
  },
  {
   "cell_type": "code",
   "execution_count": null,
   "metadata": {},
   "outputs": [],
   "source": []
  },
  {
   "cell_type": "code",
   "execution_count": null,
   "metadata": {},
   "outputs": [],
   "source": []
  },
  {
   "cell_type": "code",
   "execution_count": null,
   "metadata": {},
   "outputs": [],
   "source": []
  },
  {
   "cell_type": "code",
   "execution_count": null,
   "metadata": {},
   "outputs": [],
   "source": []
  },
  {
   "cell_type": "code",
   "execution_count": null,
   "metadata": {},
   "outputs": [],
   "source": []
  },
  {
   "cell_type": "code",
   "execution_count": null,
   "metadata": {},
   "outputs": [],
   "source": []
  },
  {
   "cell_type": "code",
   "execution_count": null,
   "metadata": {},
   "outputs": [],
   "source": []
  },
  {
   "cell_type": "code",
   "execution_count": null,
   "metadata": {},
   "outputs": [],
   "source": []
  },
  {
   "cell_type": "code",
   "execution_count": null,
   "metadata": {},
   "outputs": [],
   "source": []
  },
  {
   "cell_type": "code",
   "execution_count": null,
   "metadata": {},
   "outputs": [],
   "source": []
  },
  {
   "cell_type": "code",
   "execution_count": null,
   "metadata": {},
   "outputs": [],
   "source": []
  },
  {
   "cell_type": "code",
   "execution_count": null,
   "metadata": {},
   "outputs": [],
   "source": []
  },
  {
   "cell_type": "code",
   "execution_count": null,
   "metadata": {},
   "outputs": [],
   "source": []
  },
  {
   "cell_type": "code",
   "execution_count": null,
   "metadata": {},
   "outputs": [],
   "source": []
  },
  {
   "cell_type": "code",
   "execution_count": null,
   "metadata": {},
   "outputs": [],
   "source": []
  },
  {
   "cell_type": "code",
   "execution_count": null,
   "metadata": {},
   "outputs": [],
   "source": []
  },
  {
   "cell_type": "code",
   "execution_count": null,
   "metadata": {},
   "outputs": [],
   "source": []
  },
  {
   "cell_type": "code",
   "execution_count": null,
   "metadata": {},
   "outputs": [],
   "source": []
  },
  {
   "cell_type": "code",
   "execution_count": null,
   "metadata": {},
   "outputs": [],
   "source": []
  },
  {
   "cell_type": "code",
   "execution_count": null,
   "metadata": {},
   "outputs": [],
   "source": []
  },
  {
   "cell_type": "code",
   "execution_count": null,
   "metadata": {},
   "outputs": [],
   "source": []
  },
  {
   "cell_type": "code",
   "execution_count": null,
   "metadata": {},
   "outputs": [],
   "source": []
  },
  {
   "cell_type": "code",
   "execution_count": null,
   "metadata": {},
   "outputs": [],
   "source": []
  },
  {
   "cell_type": "code",
   "execution_count": null,
   "metadata": {},
   "outputs": [],
   "source": []
  },
  {
   "cell_type": "code",
   "execution_count": null,
   "metadata": {},
   "outputs": [],
   "source": []
  },
  {
   "cell_type": "code",
   "execution_count": null,
   "metadata": {},
   "outputs": [],
   "source": []
  },
  {
   "cell_type": "code",
   "execution_count": null,
   "metadata": {},
   "outputs": [],
   "source": []
  },
  {
   "cell_type": "code",
   "execution_count": null,
   "metadata": {},
   "outputs": [],
   "source": []
  },
  {
   "cell_type": "code",
   "execution_count": null,
   "metadata": {},
   "outputs": [],
   "source": []
  },
  {
   "cell_type": "code",
   "execution_count": null,
   "metadata": {},
   "outputs": [],
   "source": []
  },
  {
   "cell_type": "code",
   "execution_count": null,
   "metadata": {},
   "outputs": [],
   "source": []
  },
  {
   "cell_type": "code",
   "execution_count": null,
   "metadata": {},
   "outputs": [],
   "source": []
  },
  {
   "cell_type": "code",
   "execution_count": null,
   "metadata": {},
   "outputs": [],
   "source": []
  },
  {
   "cell_type": "code",
   "execution_count": null,
   "metadata": {},
   "outputs": [],
   "source": []
  },
  {
   "cell_type": "code",
   "execution_count": null,
   "metadata": {},
   "outputs": [],
   "source": []
  },
  {
   "cell_type": "code",
   "execution_count": null,
   "metadata": {},
   "outputs": [],
   "source": []
  },
  {
   "cell_type": "code",
   "execution_count": null,
   "metadata": {},
   "outputs": [],
   "source": []
  },
  {
   "cell_type": "code",
   "execution_count": null,
   "metadata": {},
   "outputs": [],
   "source": []
  },
  {
   "cell_type": "code",
   "execution_count": null,
   "metadata": {},
   "outputs": [],
   "source": []
  },
  {
   "cell_type": "code",
   "execution_count": null,
   "metadata": {},
   "outputs": [],
   "source": []
  }
 ],
 "metadata": {
  "kernelspec": {
   "display_name": "Python 3",
   "language": "python",
   "name": "python3"
  },
  "language_info": {
   "codemirror_mode": {
    "name": "ipython",
    "version": 3
   },
   "file_extension": ".py",
   "mimetype": "text/x-python",
   "name": "python",
   "nbconvert_exporter": "python",
   "pygments_lexer": "ipython3",
   "version": "3.7.4"
  }
 },
 "nbformat": 4,
 "nbformat_minor": 2
}
