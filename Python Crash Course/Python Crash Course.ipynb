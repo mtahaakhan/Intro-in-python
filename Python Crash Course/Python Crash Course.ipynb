{
 "cells": [
  {
   "cell_type": "markdown",
   "metadata": {},
   "source": [
    "## Python Crash Course \n",
    "#### Chapter 2: Variables and Simple Data Types"
   ]
  },
  {
   "cell_type": "code",
   "execution_count": 7,
   "metadata": {},
   "outputs": [
    {
     "name": "stdout",
     "output_type": "stream",
     "text": [
      "Hello python crash course world!\n"
     ]
    }
   ],
   "source": [
    "# 2-1. Simple Message: Store a message in a variable, and then print that message.\n",
    "message = 'Hello python crash course world!'\n",
    "print(message)"
   ]
  },
  {
   "cell_type": "code",
   "execution_count": null,
   "metadata": {},
   "outputs": [],
   "source": [
    "# 2-2. Simple Messages: Store a message in a variable, and print that message.\n",
    "# Then change the value of your variable to a new message, and print the new message."
   ]
  },
  {
   "cell_type": "code",
   "execution_count": 8,
   "metadata": {},
   "outputs": [
    {
     "name": "stdout",
     "output_type": "stream",
     "text": [
      "Taha\n",
      "Taha Khan\n"
     ]
    }
   ],
   "source": [
    "name = 'Taha'\n",
    "print(name)\n",
    "name = 'Taha Khan'\n",
    "print(name)"
   ]
  },
  {
   "cell_type": "code",
   "execution_count": 10,
   "metadata": {},
   "outputs": [
    {
     "name": "stdout",
     "output_type": "stream",
     "text": [
      "Hello Taha Khan, would you like to learn some Python today?\n"
     ]
    }
   ],
   "source": [
    "# 2-3. Personal Message: Store a person’s name in a variable, and print a message to that person. Your message should be simple, such as, “Hello Eric,\n",
    "# would you like to learn some Python today?”\n",
    "\n",
    "print('Hello ' + name + ', would you like to learn some Python today?')"
   ]
  },
  {
   "cell_type": "code",
   "execution_count": 15,
   "metadata": {},
   "outputs": [
    {
     "name": "stdout",
     "output_type": "stream",
     "text": [
      "Taha\n",
      "taha\n",
      "TAHA\n"
     ]
    }
   ],
   "source": [
    "# 2-4. Name Cases: Store a person’s name in a variable, and then print that person’s name in lowercase, uppercase, and titlecase.\n",
    "name = 'Taha'\n",
    "print(name.title())\n",
    "print(name.lower())\n",
    "print(name.upper())"
   ]
  },
  {
   "cell_type": "code",
   "execution_count": 12,
   "metadata": {},
   "outputs": [
    {
     "name": "stdout",
     "output_type": "stream",
     "text": [
      "Albert Einstein once said, \"A person who never made a mistake never tried anything new.\"\n"
     ]
    }
   ],
   "source": [
    "famous_person = 'Albert Einstein'\n",
    "quote = '\"A person who never made a mistake never tried anything new.\"'\n",
    "print(famous_person + ' once said, ' + quote)\n",
    "\n",
    "# 2-6. Famous Quote 2: Repeat Exercise 2-5, but this time store the famous person’s name in a variable called famous_person. Then compose your message\n",
    "# and store it in a new variable called message. Print your message\n",
    "\n",
    "# already done!"
   ]
  },
  {
   "cell_type": "code",
   "execution_count": 16,
   "metadata": {},
   "outputs": [
    {
     "name": "stdout",
     "output_type": "stream",
     "text": [
      "Taahaa     \n",
      "   Taahaa\n",
      "Taahaa\n"
     ]
    }
   ],
   "source": [
    "# 2-7. Stripping Names: Store a person’s name, and include some whitespace\n",
    "# characters at the beginning and end of the name. Make sure you use each\n",
    "# character combination, \"\\t\" and \"\\n\", at least once.\n",
    "# Print the name once, so the whitespace around the name is displayed.\n",
    "# Then print the name using each of the three stripping functions, lstrip(),\n",
    "# rstrip(), and strip().\n",
    "\n",
    "name = '   Taahaa     '\n",
    "print(name.lstrip()) # stripped white spaces from left side\n",
    "print(name.rstrip()) # stripped white spaces from right side\n",
    "print(name.strip()) # stripped white spaces from both side"
   ]
  },
  {
   "cell_type": "code",
   "execution_count": 18,
   "metadata": {},
   "outputs": [
    {
     "name": "stdout",
     "output_type": "stream",
     "text": [
      "8\n",
      "8\n",
      "8\n",
      "8\n"
     ]
    }
   ],
   "source": [
    "# 2-8. Number Eight: Write addition, subtraction, multiplication, and division\n",
    "# operations that each result in the number 8. Be sure to enclose your operations\n",
    "# in print statements to see the results. You should create four lines that look\n",
    "# like this:\n",
    "# print(5 + 3)\n",
    "# Your output should simply be four lines with the number 8 appearing once\n",
    "# on each line.\n",
    "\n",
    "print(2 + 6)\n",
    "print( 2 * 4)\n",
    "print(10 - 2)\n",
    "print(4 * 2)"
   ]
  },
  {
   "cell_type": "code",
   "execution_count": 19,
   "metadata": {},
   "outputs": [
    {
     "name": "stdout",
     "output_type": "stream",
     "text": [
      "My favorite number is 2\n"
     ]
    }
   ],
   "source": [
    "# 2-9. Favorite Number: Store your favorite number in a variable. Then, using\n",
    "# that variable, create a message that reveals your favorite number. Print that\n",
    "# message.\n",
    "\n",
    "favorite_number = 2\n",
    "print('My favorite number is ' + str(favorite_number))"
   ]
  },
  {
   "cell_type": "markdown",
   "metadata": {},
   "source": [
    "# 2.11 The Zen of Python, by Tim Peters\n",
    "\n",
    "### Beautiful is better than ugly.\n",
    "### Explicit is better than implicit.\n",
    "### Simple is better than complex.\n",
    "### Complex is better than complicated.\n",
    "### Flat is better than nested.\n",
    "### Sparse is better than dense.\n",
    "### Readability counts.\n",
    "### Special cases aren't special enough to break the rules.\n",
    "### Although practicality beats purity.\n",
    "### Errors should never pass silently.\n",
    "### Unless explicitly silenced.\n",
    "### In the face of ambiguity, refuse the temptation to guess.\n",
    "### There should be one-- and preferably only one --obvious way to do it.\n",
    "### Although that way may not be obvious at first unless you're Dutch.\n",
    "### Now is better than never.\n",
    "### Although never is often better than *right* now.\n",
    "### If the implementation is hard to explain, it's a bad idea.\n",
    "### If the implementation is easy to explain, it may be a good idea.\n",
    "### Namespaces are one honking great idea -- let's do more of those!"
   ]
  },
  {
   "cell_type": "markdown",
   "metadata": {},
   "source": [
    "# Chapter 3: Lists"
   ]
  },
  {
   "cell_type": "raw",
   "metadata": {},
   "source": [
    "Try It Yourself\n",
    "Try these short programs to get some firsthand experience with Python’s lists.\n",
    "You might want to create a new folder for each chapter’s exercises to keep\n",
    "them organized.\n",
    "3-1. Names: Store the names of a few of your friends in a list called names . Print\n",
    "each person’s name by accessing each element in the list, one at a time.\n",
    "3-2. Greetings: Start with the list you used in Exercise 3-1, but instead of just\n",
    "printing each person’s name, print a message to them. The text of each mes-\n",
    "sage should be the same, but each message should be personalized with the\n",
    "person’s name.\n",
    "3-3. Your Own List: Think of your favorite mode of transportation, such as a\n",
    "motorcycle or a car, and make a list that stores several examples. Use your list\n",
    "to print a series of statements about these items, such as “I would like to own a\n",
    "Honda motorcycle.”"
   ]
  },
  {
   "cell_type": "code",
   "execution_count": 2,
   "metadata": {},
   "outputs": [
    {
     "name": "stdout",
     "output_type": "stream",
     "text": [
      "Usman is Abdur Rehman's elder brother.\n"
     ]
    }
   ],
   "source": [
    "# 3.1:\n",
    "\n",
    "names = ['Usman','Abdur Rehman','Hussain','Maaz','Aamir']\n",
    "print(names[0] + ' is ' + names[1] + \"'s elder brother.\")"
   ]
  },
  {
   "cell_type": "code",
   "execution_count": 6,
   "metadata": {},
   "outputs": [
    {
     "name": "stdout",
     "output_type": "stream",
     "text": [
      "Usman is my friend\n",
      "Abdur Rehman is my friend\n",
      "Hussain is my friend\n",
      "Maaz is my friend\n",
      "Aamir is my friend\n"
     ]
    }
   ],
   "source": [
    "# 3.2:\n",
    "message = ' is my friend'\n",
    "print(names[0] + message)\n",
    "print(names[1] + message)\n",
    "print(names[2] + message)\n",
    "print(names[3] + message)\n",
    "print(names[4] + message)"
   ]
  },
  {
   "cell_type": "code",
   "execution_count": 10,
   "metadata": {},
   "outputs": [
    {
     "name": "stdout",
     "output_type": "stream",
     "text": [
      "Currently i travel on my Bike\n",
      "I used to ride on my Cycle\n",
      "One day i will have a Car InshaAllah!\n"
     ]
    }
   ],
   "source": [
    "# 3.3:\n",
    "ride = ['bike','car','cycle']\n",
    "print('Currently i travel on my ' + ride[0].title())\n",
    "print('I used to ride on my '+ ride[2].title())\n",
    "print('One day i will have a ' + ride[1].title() + ' InshaAllah!')"
   ]
  },
  {
   "cell_type": "markdown",
   "metadata": {},
   "source": [
    "### Changing, Adding, and Removing Elements"
   ]
  },
  {
   "cell_type": "markdown",
   "metadata": {},
   "source": [
    "### Changing List Element"
   ]
  },
  {
   "cell_type": "code",
   "execution_count": 19,
   "metadata": {},
   "outputs": [
    {
     "name": "stdout",
     "output_type": "stream",
     "text": [
      "['Usman', 'Abdur Rehman', 'Hussain', 'Maaz', 'Aamir']\n",
      "['Usman Khan', 'Abdur Rehman', 'Hussain', 'Maaz', 'Aamir']\n"
     ]
    }
   ],
   "source": [
    "print(names)\n",
    "names[0] = 'Usman Khan' # Changed the previous value with a new value to 0 index\n",
    "print(names)"
   ]
  },
  {
   "cell_type": "markdown",
   "metadata": {},
   "source": [
    "### Adding List Element"
   ]
  },
  {
   "cell_type": "code",
   "execution_count": 20,
   "metadata": {},
   "outputs": [
    {
     "name": "stdout",
     "output_type": "stream",
     "text": [
      "['Usman Khan', 'Abdur Rehman', 'Hussain', 'Maaz', 'Aamir', 'Usman Hayat Malik']\n"
     ]
    }
   ],
   "source": [
    "names.append('Usman Hayat Malik') # This will add a new element but on the last index\n",
    "print(names)"
   ]
  },
  {
   "cell_type": "markdown",
   "metadata": {},
   "source": [
    "### Empty List\n"
   ]
  },
  {
   "cell_type": "code",
   "execution_count": 21,
   "metadata": {},
   "outputs": [
    {
     "name": "stdout",
     "output_type": "stream",
     "text": [
      "['Usman', 'Abdur Rehmaan', 'Hussain']\n"
     ]
    }
   ],
   "source": [
    "name = [] # You can create an empty list and add elements to an empty list\n",
    "name.append('Usman')\n",
    "name.append('Abdur Rehmaan')\n",
    "name.append('Hussain')\n",
    "print(name)"
   ]
  },
  {
   "cell_type": "markdown",
   "metadata": {},
   "source": [
    "### Inserting Elements"
   ]
  },
  {
   "cell_type": "code",
   "execution_count": 22,
   "metadata": {},
   "outputs": [
    {
     "name": "stdout",
     "output_type": "stream",
     "text": [
      "['Usman', 'Abdur Rehmaan', 'Usman Khan', 'Hussain']\n"
     ]
    }
   ],
   "source": [
    "name.insert(2,'Usman Khan') # Here you give two arguments to insert function. \n",
    "print(name) #This will send what's inside string to the index value given."
   ]
  },
  {
   "cell_type": "markdown",
   "metadata": {},
   "source": [
    "### Removing Elements from a List"
   ]
  },
  {
   "cell_type": "markdown",
   "metadata": {},
   "source": [
    "\n",
    "### There are three ways of removing elements from the lists.\n",
    "1. Using del keyword\n",
    "2. remove keyword\n",
    "3. pop"
   ]
  },
  {
   "cell_type": "code",
   "execution_count": 23,
   "metadata": {},
   "outputs": [
    {
     "name": "stdout",
     "output_type": "stream",
     "text": [
      "['Usman', 'Abdur Rehmaan', 'Usman Khan']\n"
     ]
    }
   ],
   "source": [
    "del name[3] # This will delete hussain from the list, but here we mention index number\n",
    "print(name)"
   ]
  },
  {
   "cell_type": "code",
   "execution_count": 24,
   "metadata": {},
   "outputs": [
    {
     "name": "stdout",
     "output_type": "stream",
     "text": [
      "['Usman', 'Abdur Rehmaan']\n"
     ]
    }
   ],
   "source": [
    "name.remove('Usman Khan') # Here we don't enter index number, but we enter the value here.\n",
    "print(name) # This will delete usman khan"
   ]
  },
  {
   "cell_type": "code",
   "execution_count": 25,
   "metadata": {},
   "outputs": [
    {
     "name": "stdout",
     "output_type": "stream",
     "text": [
      "['Usman']\n"
     ]
    }
   ],
   "source": [
    "name.pop() # This will pop last value in any list,\n",
    "# and if we enter any index number like pop(2), then it will remove 3rd element from the list.\n",
    "# We also use pop to remove any element from the list and store it in another list.\n",
    "# Like the pop function saves the element at a backup space or we can save it in another variable.\n",
    "print(name) # This will remove Abdur Rehmaan from this list"
   ]
  },
  {
   "cell_type": "markdown",
   "metadata": {},
   "source": [
    "### Try It Yourself\n",
    "The following exercises are a bit more complex than those in Chapter 2, but\n",
    "they give you an opportunity to use lists in all of the ways described.\n",
    "1. 3-4. Guest List: If you could invite anyone, living or deceased, to dinner, who\n",
    "would you invite? Make a list that includes at least three people you’d like to\n",
    "invite to dinner. Then use your list to print a message to each person, inviting\n",
    "them to dinner.\n",
    "2. 3-5. Changing Guest List: You just heard that one of your guests can’t make the\n",
    "dinner, so you need to send out a new set of invitations. You’ll have to think of\n",
    "someone else to invite.\n",
    "• Start with your program from Exercise 3-4. Add a print statement at the\n",
    "end of your program stating the name of the guest who can’t make it.\n",
    "• Modify your list, replacing the name of the guest who can’t make it with\n",
    "the name of the new person you are inviting.\n",
    "• Print a second set of invitation messages, one for each person who is still\n",
    "in your list.\n",
    "3. 3-6. More Guests: You just found a bigger dinner table, so now more space is\n",
    "available. Think of three more guests to invite to dinner.\n",
    "46     Chapter 3\n",
    "• Start with your program from Exercise 3-4 or Exercise 3-5. Add a print\n",
    "statement to the end of your program informing people that you found a\n",
    "bigger dinner table.\n",
    "• Use insert() to add one new guest to the beginning of your list.\n",
    "• Use insert() to add one new guest to the middle of your list.\n",
    "• Use append() to add one new guest to the end of your list.\n",
    "• Print a new set of invitation messages, one for each person in your list.\n"
   ]
  },
  {
   "cell_type": "code",
   "execution_count": 39,
   "metadata": {},
   "outputs": [
    {
     "name": "stdout",
     "output_type": "stream",
     "text": [
      "Usman You are Invited at Tahaa's Home for the dinner\n",
      "Abdur Rehman You are Invited at Tahaa's Home for the dinner\n",
      "Hussain You are Invited at Tahaa's Home for the dinner\n"
     ]
    }
   ],
   "source": [
    "# 3.4 \n",
    "guest = ['Usman','Abdur Rehman','Hussain','Usman Khan']\n",
    "invitation = \" You are Invited at Tahaa's Home for the dinner\"\n",
    "print(guest[0] + invitation)\n",
    "print(guest[1] + invitation)\n",
    "print(guest[2] + invitation)\n"
   ]
  },
  {
   "cell_type": "code",
   "execution_count": 40,
   "metadata": {},
   "outputs": [
    {
     "name": "stdout",
     "output_type": "stream",
     "text": [
      "Usman Khan can't make it to the dinner\n",
      "Maaz You are Invited at Tahaa's Home for the dinner\n"
     ]
    }
   ],
   "source": [
    "# 3.5 \n",
    "print(guest[3] + \" can't make it to the dinner\")\n",
    "guest[3] = 'Maaz'\n",
    "print(guest[3] + invitation)"
   ]
  },
  {
   "cell_type": "code",
   "execution_count": 41,
   "metadata": {},
   "outputs": [
    {
     "name": "stdout",
     "output_type": "stream",
     "text": [
      "['Usman', 'Abdur Rehman', 'Hussain', 'Maaz', 'Anas Khalil', 'Hamza Saleem', 'Basharat']\n"
     ]
    }
   ],
   "source": [
    "guest.insert(4,'Anas Khalil')\n",
    "guest.insert(5,'Hamza Saleem')\n",
    "guest.append('Basharat')\n",
    "print(guest)"
   ]
  },
  {
   "cell_type": "code",
   "execution_count": 32,
   "metadata": {},
   "outputs": [
    {
     "name": "stdout",
     "output_type": "stream",
     "text": [
      "['Usman', 'Abdur Rehman', 'Hussain', 'Maaz', 'Anas Khalil', 'Hamza Saleem', 'Basharat']\n"
     ]
    }
   ],
   "source": [
    "print(guest)"
   ]
  },
  {
   "cell_type": "code",
   "execution_count": 33,
   "metadata": {},
   "outputs": [
    {
     "name": "stdout",
     "output_type": "stream",
     "text": [
      "Usman You are Invited at Tahaa's Home for the dinner\n",
      "Abdur Rehman You are Invited at Tahaa's Home for the dinner\n",
      "Hussain You are Invited at Tahaa's Home for the dinner\n",
      "Maaz You are Invited at Tahaa's Home for the dinner\n",
      "Anas Khalil You are Invited at Tahaa's Home for the dinner\n",
      "Hamza Saleem You are Invited at Tahaa's Home for the dinner\n"
     ]
    }
   ],
   "source": [
    "print(guest[0] + invitation)\n",
    "print(guest[1] + invitation)\n",
    "print(guest[2] + invitation)\n",
    "print(guest[3] + invitation)\n",
    "print(guest[4] + invitation)\n",
    "print(guest[5] + invitation)\n"
   ]
  },
  {
   "cell_type": "markdown",
   "metadata": {},
   "source": [
    "4. 3-7. Shrinking Guest List: You just found out that your new dinner table won’t\n",
    "arrive in time for the dinner, and you have space for only two guests.\n",
    "• Start with your program from Exercise 3-6. Add a new line that prints a\n",
    "message saying that you can invite only two people for dinner.\n",
    "• Use pop() to remove guests from your list one at a time until only two\n",
    "names remain in your list. Each time you pop a name from your list, print\n",
    "a message to that person letting them know you’re sorry you can’t invite\n",
    "them to dinner.\n",
    "• Print a message to each of the two people still on your list, letting them\n",
    "know they’re still invited.\n",
    "• Use del to remove the last two names from your list, so you have an empty\n",
    "list. Print your list to make sure you actually have an empty list at the end\n",
    "of your program."
   ]
  },
  {
   "cell_type": "code",
   "execution_count": 42,
   "metadata": {},
   "outputs": [
    {
     "name": "stdout",
     "output_type": "stream",
     "text": [
      "Basharat Sorry, I can invite only two people.\n",
      "Hamza Saleem Sorry, I can invite only two people.\n",
      "Anas Khalil Sorry, I can invite only two people.\n",
      "Maaz Sorry, I can invite only two people.\n",
      "Hussain Sorry, I can invite only two people.\n"
     ]
    }
   ],
   "source": [
    "sorry = ' Sorry, I can invite only two people.'\n",
    "print(guest.pop() + sorry)\n",
    "print(guest.pop() + sorry)\n",
    "print(guest.pop() + sorry)\n",
    "print(guest.pop() + sorry)\n",
    "print(guest.pop() + sorry)"
   ]
  },
  {
   "cell_type": "code",
   "execution_count": 43,
   "metadata": {},
   "outputs": [
    {
     "name": "stdout",
     "output_type": "stream",
     "text": [
      "Usman You're invited bro!!\n",
      "Abdur Rehman You're invited bro!!\n"
     ]
    }
   ],
   "source": [
    "invite = \" You're invited bro!!\"\n",
    "print(guest[0] + invite)\n",
    "print(guest[1] + invite)"
   ]
  },
  {
   "cell_type": "code",
   "execution_count": 44,
   "metadata": {},
   "outputs": [
    {
     "name": "stdout",
     "output_type": "stream",
     "text": [
      "['Abdur Rehman']\n"
     ]
    }
   ],
   "source": [
    "del guest[0]\n",
    "print(guest) "
   ]
  },
  {
   "cell_type": "code",
   "execution_count": 45,
   "metadata": {},
   "outputs": [
    {
     "name": "stdout",
     "output_type": "stream",
     "text": [
      "[]\n"
     ]
    }
   ],
   "source": [
    "del guest[0]\n",
    "print(guest) # That means now we have a empty list to print!"
   ]
  },
  {
   "cell_type": "markdown",
   "metadata": {},
   "source": [
    "### Organizing a List"
   ]
  },
  {
   "cell_type": "code",
   "execution_count": 2,
   "metadata": {},
   "outputs": [
    {
     "name": "stdout",
     "output_type": "stream",
     "text": [
      "['audi', 'bmw', 'subaru', 'toyota']\n"
     ]
    }
   ],
   "source": [
    "cars = ['bmw','audi','toyota','subaru']\n",
    "cars.sort() # This prints the list element alphabetically\n",
    "print(cars)"
   ]
  },
  {
   "cell_type": "code",
   "execution_count": 7,
   "metadata": {},
   "outputs": [
    {
     "name": "stdout",
     "output_type": "stream",
     "text": [
      "['toyota', 'subaru', 'bmw', 'audi']\n"
     ]
    }
   ],
   "source": [
    "cars.sort(reverse=True) # this reverses the order\n",
    "print(cars)"
   ]
  },
  {
   "cell_type": "markdown",
   "metadata": {},
   "source": [
    "### Sorting a List Temporarily with the sorted() Function"
   ]
  },
  {
   "cell_type": "code",
   "execution_count": 11,
   "metadata": {},
   "outputs": [
    {
     "name": "stdout",
     "output_type": "stream",
     "text": [
      "['toyota', 'subaru', 'bmw', 'audi']\n",
      "['audi', 'bmw', 'subaru', 'toyota']\n",
      "['audi', 'bmw', 'subaru', 'toyota']\n"
     ]
    }
   ],
   "source": [
    "print(cars) # original order\n",
    "print(sorted(cars))\n",
    "\n",
    "cars = sorted(cars)\n",
    "print(cars)"
   ]
  },
  {
   "cell_type": "code",
   "execution_count": null,
   "metadata": {},
   "outputs": [],
   "source": []
  },
  {
   "cell_type": "code",
   "execution_count": 12,
   "metadata": {},
   "outputs": [
    {
     "name": "stdout",
     "output_type": "stream",
     "text": [
      "['audi', 'bmw', 'subaru', 'toyota']\n"
     ]
    }
   ],
   "source": [
    "print(cars)"
   ]
  },
  {
   "cell_type": "code",
   "execution_count": null,
   "metadata": {},
   "outputs": [],
   "source": []
  },
  {
   "cell_type": "code",
   "execution_count": 16,
   "metadata": {},
   "outputs": [],
   "source": [
    "name = 'iul.kb;kanskd.alsjdglas,dbjasdasddakjshdkams dkjasdkjasdjaskjdakjkjsdjaksdkjasjbdkjabskdbaskjdbkajsjbdkjasbkjdasbdkjdads'"
   ]
  },
  {
   "cell_type": "code",
   "execution_count": 26,
   "metadata": {},
   "outputs": [
    {
     "name": "stdout",
     "output_type": "stream",
     "text": [
      "['audi', 'bmw', 'subaru', 'toyota']\n"
     ]
    }
   ],
   "source": [
    "cars.reverse # reverse order\n",
    "print(cars)"
   ]
  },
  {
   "cell_type": "code",
   "execution_count": 17,
   "metadata": {},
   "outputs": [
    {
     "name": "stdout",
     "output_type": "stream",
     "text": [
      "120\n"
     ]
    }
   ],
   "source": [
    "print(len(name)) # prints the length of elements"
   ]
  },
  {
   "cell_type": "code",
   "execution_count": null,
   "metadata": {},
   "outputs": [],
   "source": []
  },
  {
   "cell_type": "code",
   "execution_count": null,
   "metadata": {},
   "outputs": [],
   "source": []
  },
  {
   "cell_type": "markdown",
   "metadata": {},
   "source": [
    "Try It Yourself\n",
    "3-8. Seeing the World: Think of at least five places in the world you’d like to\n",
    "visit.\n",
    "1. • Store the locations in a list. Make sure the list is not in alphabetical order.\n",
    "2. • Print your list in its original order. Don’t worry about printing the list neatly,\n",
    "just print it as a raw Python list.\n",
    "3. • Use sorted() to print your list in alphabetical order without modifying the\n",
    "actual list.\n",
    "4. • Show that your list is still in its original order by printing it.\n",
    "5. • Use sorted() to print your list in reverse alphabetical order without chang-\n",
    "ing the order of the original list.\n",
    "6. • Show that your list is still in its original order by printing it again.\n",
    "7. • Use reverse() to change the order of your list. Print the list to show that its\n",
    "order has changed.\n",
    "8. • Use reverse() to change the order of your list again. Print the list to show\n",
    "it’s back to its original order.\n",
    "9. • Use sort() to change your list so it’s stored in alphabetical order. Print the\n",
    "list to show that its order has been changed.\n",
    "10. • Use sort() to change your list so it’s stored in reverse alphabetical order.\n",
    "Print the list to show that its order has changed.\n",
    "3-9. Dinner Guests: Working with one of the programs from Exercises 3-4\n",
    "through 3-7 (page 46), use len() to print a message indicating the number\n",
    "of people you are inviting to dinner.\n",
    "3-10. Every Function: Think of something you could store in a list. For example,\n",
    "you could make a list of mountains, rivers, countries, cities, languages, or any-\n",
    "thing else you’d like. Write a program that creates a list containing these items\n",
    "and then uses each function introduced in this chapter at least once."
   ]
  },
  {
   "cell_type": "markdown",
   "metadata": {},
   "source": [
    "### 3.8. Seeing the World:"
   ]
  },
  {
   "cell_type": "code",
   "execution_count": 19,
   "metadata": {},
   "outputs": [
    {
     "name": "stdout",
     "output_type": "stream",
     "text": [
      "['New York', 'Athens', 'Sydney', 'Qatar', 'Malaysia']\n"
     ]
    }
   ],
   "source": [
    "places = ['New York','Athens','Sydney','Qatar','Malaysia']\n",
    "print(places)"
   ]
  },
  {
   "cell_type": "code",
   "execution_count": 3,
   "metadata": {},
   "outputs": [
    {
     "name": "stdout",
     "output_type": "stream",
     "text": [
      "['Athens', 'Malaysia', 'New York', 'Qatar', 'Sydney']\n"
     ]
    }
   ],
   "source": [
    "print(sorted(places)) # This will sort the list"
   ]
  },
  {
   "cell_type": "code",
   "execution_count": 4,
   "metadata": {},
   "outputs": [
    {
     "name": "stdout",
     "output_type": "stream",
     "text": [
      "['New York', 'Athens', 'Sydney', 'Qatar', 'Malaysia']\n"
     ]
    }
   ],
   "source": [
    "print(places)"
   ]
  },
  {
   "cell_type": "code",
   "execution_count": 5,
   "metadata": {},
   "outputs": [
    {
     "name": "stdout",
     "output_type": "stream",
     "text": [
      "['Sydney', 'Qatar', 'New York', 'Malaysia', 'Athens']\n"
     ]
    }
   ],
   "source": [
    "print(sorted(places, reverse=True)) # This will sort the list without changing it's original values"
   ]
  },
  {
   "cell_type": "code",
   "execution_count": 6,
   "metadata": {},
   "outputs": [
    {
     "name": "stdout",
     "output_type": "stream",
     "text": [
      "['New York', 'Athens', 'Sydney', 'Qatar', 'Malaysia']\n"
     ]
    }
   ],
   "source": [
    "print(places) # Original values"
   ]
  },
  {
   "cell_type": "code",
   "execution_count": 20,
   "metadata": {},
   "outputs": [
    {
     "name": "stdout",
     "output_type": "stream",
     "text": [
      "None\n",
      "['Malaysia', 'Qatar', 'Sydney', 'Athens', 'New York']\n"
     ]
    }
   ],
   "source": [
    "print(places.reverse())\n",
    "print(places)# reverse doesn't return a list but performs a task, here the reverse function reversed the list."
   ]
  },
  {
   "cell_type": "code",
   "execution_count": 12,
   "metadata": {},
   "outputs": [
    {
     "name": "stdout",
     "output_type": "stream",
     "text": [
      "['Malaysia', 'Qatar', 'Sydney', 'Athens', 'New York']\n"
     ]
    }
   ],
   "source": [
    "print(places) # See, it reversed the list. Now let\\s reverse the list again"
   ]
  },
  {
   "cell_type": "code",
   "execution_count": 13,
   "metadata": {},
   "outputs": [
    {
     "name": "stdout",
     "output_type": "stream",
     "text": [
      "None\n"
     ]
    }
   ],
   "source": [
    "print(places.reverse()) # reversed the list again"
   ]
  },
  {
   "cell_type": "code",
   "execution_count": 14,
   "metadata": {},
   "outputs": [
    {
     "name": "stdout",
     "output_type": "stream",
     "text": [
      "['New York', 'Athens', 'Sydney', 'Qatar', 'Malaysia']\n"
     ]
    }
   ],
   "source": [
    "print(places) # see, it reverse the list again"
   ]
  },
  {
   "cell_type": "code",
   "execution_count": 15,
   "metadata": {},
   "outputs": [
    {
     "name": "stdout",
     "output_type": "stream",
     "text": [
      "None\n"
     ]
    }
   ],
   "source": [
    "print(places.sort()) # this will sort the list"
   ]
  },
  {
   "cell_type": "code",
   "execution_count": 16,
   "metadata": {},
   "outputs": [
    {
     "name": "stdout",
     "output_type": "stream",
     "text": [
      "['Athens', 'Malaysia', 'New York', 'Qatar', 'Sydney']\n"
     ]
    }
   ],
   "source": [
    "print(places) # list sorted"
   ]
  },
  {
   "cell_type": "code",
   "execution_count": 17,
   "metadata": {},
   "outputs": [
    {
     "name": "stdout",
     "output_type": "stream",
     "text": [
      "None\n"
     ]
    }
   ],
   "source": [
    "print(places.sort(reverse=True))"
   ]
  },
  {
   "cell_type": "code",
   "execution_count": 19,
   "metadata": {},
   "outputs": [
    {
     "name": "stdout",
     "output_type": "stream",
     "text": [
      "['Sydney', 'Qatar', 'New York', 'Malaysia', 'Athens']\n"
     ]
    }
   ],
   "source": [
    "print(places) # LOOK! sort reversed!!! Yayyy!!!"
   ]
  },
  {
   "cell_type": "markdown",
   "metadata": {},
   "source": [
    "### 3.9 Dinner Guests"
   ]
  },
  {
   "cell_type": "code",
   "execution_count": 46,
   "metadata": {},
   "outputs": [
    {
     "name": "stdout",
     "output_type": "stream",
     "text": [
      "0\n"
     ]
    }
   ],
   "source": [
    "print(len(guest))"
   ]
  },
  {
   "cell_type": "markdown",
   "metadata": {},
   "source": [
    "### 3-10. Every Function: Think of something you could store in a list. For example,\n",
    "### you could make a list of mountains, rivers, countries, cities, languages, or any-\n",
    "### thing else you’d like. Write a program that creates a list containing these items\n",
    "### and then uses each function introduced in this chapter at least once"
   ]
  },
  {
   "cell_type": "code",
   "execution_count": 13,
   "metadata": {},
   "outputs": [
    {
     "name": "stdout",
     "output_type": "stream",
     "text": [
      "['Kashmir', 'K2', 'Mount Everest', 'USA', 'Saudi Arabia', 'Europe', 'Turkey', 'German', 'French', 'Multan']\n"
     ]
    }
   ],
   "source": [
    "# Creating, insert, append\n",
    "cities = ['K2','Mount Everest','USA','Saudi Arabia','Europe','Turkey','German','French']\n",
    "cities.append('Multan') # this will add multan in last\n",
    "cities.insert(0,'Kashmir') # this will add kashmir on 0 index\n",
    "print(cities)"
   ]
  },
  {
   "cell_type": "code",
   "execution_count": 52,
   "metadata": {},
   "outputs": [
    {
     "name": "stdout",
     "output_type": "stream",
     "text": [
      "['Kashmir', 'Mount Everest', 'USA', 'Saudi Arabia', 'Europe', 'German', 'Multan']\n",
      "K2\n"
     ]
    }
   ],
   "source": [
    "# remove, del, pop\n",
    "cities.remove('French') # in remove we have to enter value\n",
    "popped = cities.pop(1) # here we will save k2 in popped variable\n",
    "del cities[5] # with del we access index number to delete an element of the list\n",
    "print(cities)\n",
    "print(popped)"
   ]
  },
  {
   "cell_type": "code",
   "execution_count": 54,
   "metadata": {},
   "outputs": [
    {
     "name": "stdout",
     "output_type": "stream",
     "text": [
      "None\n"
     ]
    }
   ],
   "source": [
    "# sorting sort, sorted, reverse\n",
    "print(cities.sort()) # it will sort alphabetically"
   ]
  },
  {
   "cell_type": "code",
   "execution_count": 55,
   "metadata": {},
   "outputs": [
    {
     "name": "stdout",
     "output_type": "stream",
     "text": [
      "['Europe', 'German', 'Kashmir', 'Mount Everest', 'Multan', 'Saudi Arabia', 'USA']\n"
     ]
    }
   ],
   "source": [
    "print(cities)"
   ]
  },
  {
   "cell_type": "code",
   "execution_count": 56,
   "metadata": {},
   "outputs": [
    {
     "name": "stdout",
     "output_type": "stream",
     "text": [
      "['Europe', 'German', 'Kashmir', 'Mount Everest', 'Multan', 'Saudi Arabia', 'USA']\n"
     ]
    }
   ],
   "source": [
    "print(sorted(cities))"
   ]
  },
  {
   "cell_type": "code",
   "execution_count": 57,
   "metadata": {},
   "outputs": [
    {
     "name": "stdout",
     "output_type": "stream",
     "text": [
      "None\n"
     ]
    }
   ],
   "source": [
    "print(cities.reverse())"
   ]
  },
  {
   "cell_type": "code",
   "execution_count": 58,
   "metadata": {},
   "outputs": [
    {
     "name": "stdout",
     "output_type": "stream",
     "text": [
      "['USA', 'Saudi Arabia', 'Multan', 'Mount Everest', 'Kashmir', 'German', 'Europe']\n"
     ]
    }
   ],
   "source": [
    "print(cities) # it will change the order and make it reverse"
   ]
  },
  {
   "cell_type": "code",
   "execution_count": 63,
   "metadata": {},
   "outputs": [
    {
     "name": "stdout",
     "output_type": "stream",
     "text": [
      "None\n"
     ]
    }
   ],
   "source": [
    "print(cities.sort())"
   ]
  },
  {
   "cell_type": "code",
   "execution_count": 64,
   "metadata": {},
   "outputs": [
    {
     "name": "stdout",
     "output_type": "stream",
     "text": [
      "['Europe', 'German', 'Kashmir', 'Mount Everest', 'Multan', 'Saudi Arabia', 'USA']\n"
     ]
    }
   ],
   "source": [
    "print(cities)"
   ]
  },
  {
   "cell_type": "code",
   "execution_count": 65,
   "metadata": {},
   "outputs": [
    {
     "name": "stdout",
     "output_type": "stream",
     "text": [
      "7\n"
     ]
    }
   ],
   "source": [
    "print(len(cities))"
   ]
  },
  {
   "cell_type": "code",
   "execution_count": 66,
   "metadata": {},
   "outputs": [
    {
     "name": "stdout",
     "output_type": "stream",
     "text": [
      "Saudi Arabia\n"
     ]
    }
   ],
   "source": [
    "print(cities[-2])"
   ]
  },
  {
   "cell_type": "markdown",
   "metadata": {},
   "source": [
    "### Try It Yourself\n",
    "### 3-11. Intentional Error: If you haven’t received an index error in one of your\n",
    "#### programs yet, try to make one happen. Change an index in one of your programs to produce\n",
    "#### an index error. Make sure you correct the error before closing the program."
   ]
  },
  {
   "cell_type": "code",
   "execution_count": 67,
   "metadata": {},
   "outputs": [
    {
     "ename": "IndexError",
     "evalue": "list index out of range",
     "output_type": "error",
     "traceback": [
      "\u001b[0;31m----------------------------------------------------------------------\u001b[0m",
      "\u001b[0;31mIndexError\u001b[0m                           Traceback (most recent call last)",
      "\u001b[0;32m<ipython-input-67-347cc4f76631>\u001b[0m in \u001b[0;36m<module>\u001b[0;34m\u001b[0m\n\u001b[0;32m----> 1\u001b[0;31m \u001b[0mprint\u001b[0m\u001b[0;34m(\u001b[0m\u001b[0mcities\u001b[0m\u001b[0;34m[\u001b[0m\u001b[0;36m8\u001b[0m\u001b[0;34m]\u001b[0m\u001b[0;34m)\u001b[0m\u001b[0;34m\u001b[0m\u001b[0;34m\u001b[0m\u001b[0m\n\u001b[0m",
      "\u001b[0;31mIndexError\u001b[0m: list index out of range"
     ]
    }
   ],
   "source": [
    "print(cities[8])"
   ]
  },
  {
   "cell_type": "code",
   "execution_count": 68,
   "metadata": {},
   "outputs": [
    {
     "name": "stdout",
     "output_type": "stream",
     "text": [
      "USA\n"
     ]
    }
   ],
   "source": [
    "print(cities[-1])"
   ]
  },
  {
   "cell_type": "markdown",
   "metadata": {},
   "source": [
    "# Summary of Chapter 3 Lists\n",
    "### In this chapter you learned what lists are and how to work with the indi-\n",
    "### vidual items in a list. You learned how to define a list and how to add and\n",
    "### remove elements. You learned to sort lists permanently and temporarily for\n",
    "### display purposes. You also learned how to find the length of a list and how\n",
    "### to avoid index errors when you’re working with lists.\n",
    "### In Chapter 4 you’ll learn how to work with items in a list more effi-\n",
    "### ciently. By looping through each item in a list using just a few lines of code\n",
    "### you’ll be able to work efficiently, even when your list contains thousands or\n",
    "### millions of items."
   ]
  },
  {
   "cell_type": "markdown",
   "metadata": {},
   "source": [
    "# Chapter 4: WORKING WITH LIST. "
   ]
  },
  {
   "cell_type": "markdown",
   "metadata": {},
   "source": [
    "Try It Yourse lf\n",
    "4-1. Pizzas: Think of at least three kinds of your favorite pizza. Store these\n",
    "pizza names in a list, and then use a for loop to print the name of each pizza.\n",
    "1. Modify your for loop to print a sentence using the name of the pizza\n",
    "instead of printing just the name of the pizza. For each pizza you should\n",
    "have one line of output containing a simple statement like I like pepperoni\n",
    "pizza.\n",
    "2. Add a line at the end of your program, outside the for loop, that states\n",
    "how much you like pizza. The output should consist of three or more lines\n",
    "about the kinds of pizza you like and then an additional sentence, such as\n",
    "I really love pizza!\n",
    "Animals: Think of at least three different animals that have a common char-\n",
    "acteristic. Store the names of these animals in a list, and then use a for loop to\n",
    "print out the name of each animal.\n",
    "60     Chapter 4\n",
    "3. Modify your program to print a statement about each animal, such as\n",
    "A dog would make a great pet.\n",
    "4. Add a line at the end of your program stating what these animals have in\n",
    "common. You could print a sentence such as Any of these animals would\n",
    "make a great pet!"
   ]
  },
  {
   "cell_type": "code",
   "execution_count": 23,
   "metadata": {},
   "outputs": [
    {
     "name": "stdout",
     "output_type": "stream",
     "text": [
      "BBQ\n",
      "Tikka\n",
      "Fajita\n"
     ]
    }
   ],
   "source": [
    "pizzas = ['BBQ','Tikka','Fajita']\n",
    "for pizza in pizzas:\n",
    "    print(pizza)"
   ]
  },
  {
   "cell_type": "code",
   "execution_count": 70,
   "metadata": {},
   "outputs": [
    {
     "name": "stdout",
     "output_type": "stream",
     "text": [
      "I like  BBQ  pizza\n",
      "I like  Tikka  pizza\n",
      "I like  Fajita  pizza\n"
     ]
    }
   ],
   "source": [
    "pizzas = ['BBQ','Tikka','Fajita']\n",
    "for pizza in pizzas:\n",
    "    print('I like ', pizza, ' pizza')"
   ]
  },
  {
   "cell_type": "code",
   "execution_count": 75,
   "metadata": {},
   "outputs": [
    {
     "name": "stdout",
     "output_type": "stream",
     "text": [
      "Tiger is a dangerous animal. \n",
      "\n",
      "Lion is a dangerous animal. \n",
      "\n",
      "Cheeta is a dangerous animal. \n",
      "\n",
      "Any of these animals would kill anyone.\n"
     ]
    }
   ],
   "source": [
    "animals = ['tiger','lion','cheeta']\n",
    "for animal in animals:\n",
    "    print(animal.title(), 'is a dangerous animal. \\n')\n",
    "print('Any of these animals would kill anyone.')"
   ]
  },
  {
   "cell_type": "markdown",
   "metadata": {},
   "source": [
    "### Using range\n"
   ]
  },
  {
   "cell_type": "code",
   "execution_count": 76,
   "metadata": {},
   "outputs": [
    {
     "name": "stdout",
     "output_type": "stream",
     "text": [
      "1\n",
      "2\n",
      "3\n",
      "4\n"
     ]
    }
   ],
   "source": [
    "for value in range(1,5):\n",
    "    print(value) # this will only first 1 to 4"
   ]
  },
  {
   "cell_type": "markdown",
   "metadata": {},
   "source": [
    "### Using range() to Make a List of Numbers"
   ]
  },
  {
   "cell_type": "code",
   "execution_count": 77,
   "metadata": {},
   "outputs": [
    {
     "name": "stdout",
     "output_type": "stream",
     "text": [
      "[1, 2, 3, 4, 5]\n"
     ]
    }
   ],
   "source": [
    "numbers = list(range(1,6))\n",
    "print(numbers)"
   ]
  },
  {
   "cell_type": "code",
   "execution_count": 1,
   "metadata": {},
   "outputs": [
    {
     "name": "stdout",
     "output_type": "stream",
     "text": [
      "[2, 4, 6, 8, 10, 12, 14, 16, 18, 20, 22, 24, 26, 28, 30, 32, 34, 36, 38, 40, 42, 44, 46, 48, 50, 52, 54, 56, 58, 60, 62, 64, 66, 68, 70, 72, 74, 76, 78, 80, 82, 84, 86, 88, 90, 92, 94, 96, 98, 100]\n"
     ]
    }
   ],
   "source": [
    "even_numbers = list(range(2,101,2)) # start:end:increment\n",
    "print(even_numbers) # it will start from 2 and a number before end number and increment."
   ]
  },
  {
   "cell_type": "code",
   "execution_count": 2,
   "metadata": {},
   "outputs": [
    {
     "name": "stdout",
     "output_type": "stream",
     "text": [
      "[1, 4, 9, 16, 25, 36, 49, 64, 81, 100]\n"
     ]
    }
   ],
   "source": [
    "# first approach\n",
    "squares = []\n",
    "for value in range(1,11):\n",
    "    square = value**2\n",
    "    squares.append(square)\n",
    "print(squares)    "
   ]
  },
  {
   "cell_type": "code",
   "execution_count": 3,
   "metadata": {},
   "outputs": [
    {
     "name": "stdout",
     "output_type": "stream",
     "text": [
      "[1, 4, 9, 16, 25, 36, 49, 64, 81, 100]\n"
     ]
    }
   ],
   "source": [
    "# second approach\n",
    "squares = []\n",
    "for value in range(1,11):\n",
    "    squares.append(value**2)\n",
    "print(squares)    "
   ]
  },
  {
   "cell_type": "markdown",
   "metadata": {},
   "source": [
    "### Simple Statistics with a List of Numbers\n"
   ]
  },
  {
   "cell_type": "code",
   "execution_count": 4,
   "metadata": {},
   "outputs": [
    {
     "name": "stdout",
     "output_type": "stream",
     "text": [
      "1\n",
      "100\n",
      "385\n"
     ]
    }
   ],
   "source": [
    "print(min(squares)) # minimum value\n",
    "print(max(squares)) # maximum value\n",
    "print(sum(squares)) # total sum"
   ]
  },
  {
   "cell_type": "markdown",
   "metadata": {},
   "source": [
    "Try It Yourself\n",
    "1. 4-3. Counting to Twenty: Use a for loop to print the numbers from 1 to 20,\n",
    "inclusive.\n",
    "2. 4-4. One Million: Make a list of the numbers from one to one million, and then\n",
    "use a for loop to print the numbers. (If the output is taking too long, stop it by\n",
    "pressing ctrl -C or by closing the output window.)\n",
    "3. 4-5. Summing a Million: Make a list of the numbers from one to one million,\n",
    "and then use min() and max() to make sure your list actually starts at one and\n",
    "ends at one million. Also, use the sum() function to see how quickly Python can\n",
    "add a million numbers.\n",
    "4. 4-6. Odd Numbers: Use the third argument of the range() function to make a list\n",
    "of the odd numbers from 1 to 20. Use a for loop to print each number.\n",
    "5. 4-7. Threes: Make a list of the multiples of 3 from 3 to 30. Use a for loop to\n",
    "print the numbers in your list.\n",
    "6. 4-8. Cubes: A number raised to the third power is called a cube. For example,\n",
    "the cube of 2 is written as 2**3 in Python. Make a list of the first 10 cubes (that\n",
    "is, the cube of each integer from 1 through 10), and use a for loop to print out\n",
    "the value of each cube.\n",
    "7. 4-9. Cube Comprehension: Use a list comprehension to generate a list of the\n",
    "first 10 cubes."
   ]
  },
  {
   "cell_type": "code",
   "execution_count": 5,
   "metadata": {},
   "outputs": [
    {
     "name": "stdout",
     "output_type": "stream",
     "text": [
      "1\n",
      "2\n",
      "3\n",
      "4\n",
      "5\n",
      "6\n",
      "7\n",
      "8\n",
      "9\n",
      "10\n",
      "11\n",
      "12\n",
      "13\n",
      "14\n",
      "15\n",
      "16\n",
      "17\n",
      "18\n",
      "19\n",
      "20\n"
     ]
    }
   ],
   "source": [
    "# 4.3\n",
    "for number in range(1,21):\n",
    "    print(number)"
   ]
  },
  {
   "cell_type": "code",
   "execution_count": 3,
   "metadata": {},
   "outputs": [
    {
     "name": "stderr",
     "output_type": "stream",
     "text": [
      "IOPub data rate exceeded.\n",
      "The notebook server will temporarily stop sending output\n",
      "to the client in order to avoid crashing it.\n",
      "To change this limit, set the config variable\n",
      "`--NotebookApp.iopub_data_rate_limit`.\n",
      "\n",
      "Current values:\n",
      "NotebookApp.iopub_data_rate_limit=1000000.0 (bytes/sec)\n",
      "NotebookApp.rate_limit_window=3.0 (secs)\n",
      "\n"
     ]
    }
   ],
   "source": [
    "numbers = []\n",
    "for number in range(1,1000000):\n",
    "    numbers.append(number)\n",
    "print(numbers) # yes it worked. now we have a million numbers in a list"
   ]
  },
  {
   "cell_type": "code",
   "execution_count": 4,
   "metadata": {},
   "outputs": [
    {
     "name": "stdout",
     "output_type": "stream",
     "text": [
      "1\n",
      "999999\n",
      "499999500000\n"
     ]
    }
   ],
   "source": [
    "print(min(numbers)) # minimum\n",
    "print(max(numbers)) # maximum\n",
    "print(sum(numbers)) # sum of all the list values, if the list in integar"
   ]
  },
  {
   "cell_type": "code",
   "execution_count": 5,
   "metadata": {},
   "outputs": [
    {
     "name": "stdout",
     "output_type": "stream",
     "text": [
      "1\n",
      "3\n",
      "5\n",
      "7\n",
      "9\n",
      "11\n",
      "13\n",
      "15\n",
      "17\n",
      "19\n"
     ]
    }
   ],
   "source": [
    "# 4.6 \n",
    "\n",
    "for odd in range(1,21,2):\n",
    "    print(odd)\n",
    "    "
   ]
  },
  {
   "cell_type": "code",
   "execution_count": 6,
   "metadata": {},
   "outputs": [
    {
     "name": "stdout",
     "output_type": "stream",
     "text": [
      "3\n",
      "6\n",
      "9\n",
      "12\n",
      "15\n",
      "18\n",
      "21\n",
      "24\n",
      "27\n",
      "30\n"
     ]
    }
   ],
   "source": [
    "# 4.7\n",
    "for three in range(3,31,3):\n",
    "    print(three)"
   ]
  },
  {
   "cell_type": "code",
   "execution_count": 7,
   "metadata": {},
   "outputs": [
    {
     "name": "stdout",
     "output_type": "stream",
     "text": [
      "1\n",
      "8\n",
      "27\n",
      "64\n",
      "125\n",
      "216\n",
      "343\n",
      "512\n",
      "729\n",
      "1000\n"
     ]
    }
   ],
   "source": [
    "# 4.8\n",
    "\n",
    "for cube in range(1,11):\n",
    "    print(cube**3)"
   ]
  },
  {
   "cell_type": "code",
   "execution_count": 9,
   "metadata": {},
   "outputs": [
    {
     "name": "stdout",
     "output_type": "stream",
     "text": [
      "1\n",
      "8\n",
      "27\n",
      "64\n",
      "125\n",
      "216\n",
      "343\n",
      "512\n",
      "729\n",
      "1000\n"
     ]
    }
   ],
   "source": [
    "# 4.9\n",
    "cube_comprehension = [ print(cube**3) for cube in range(1,11)]"
   ]
  },
  {
   "cell_type": "markdown",
   "metadata": {},
   "source": [
    "## Slicing a list"
   ]
  },
  {
   "cell_type": "markdown",
   "metadata": {},
   "source": [
    "Try It Yourself\n",
    "1. 4-10. Slices: Using one of the programs you wrote in this chapter, add several\n",
    "lines to the end of the program that do the following:\n",
    "1. Print the message, The first three items in the list are:. Then use a slice to\n",
    "print the first three items from that program’s list.\n",
    "2. Print the message, Three items from the middle of the list are:. Use a slice\n",
    "to print three items from the middle of the list.\n",
    "3. Print the message, The last three items in the list are:. Use a slice to print\n",
    "the last three items in the list.\n",
    "4. 4-11. My Pizzas, Your Pizzas: Start with your program from Exercise 4-1\n",
    "(page 60). Make a copy of the list of pizzas, and call it friend_pizzas .\n",
    "Then, do the following:\n",
    "5. Add a new pizza to the original list.\n",
    "6. Add a different pizza to the list friend_pizzas .\n",
    "7. Prove that you have two separate lists. Print the message, My favorite\n",
    "pizzas are:, and then use a for loop to print the first list. Print the message,\n",
    "My friend’s favorite pizzas are:, and then use a for loop to print the sec-\n",
    "ond list. Make sure each new pizza is stored in the appropriate list.\n",
    "8. 4-12. More Loops: All versions of foods.py in this section have avoided using\n",
    "for loops when printing to save space. Choose a version of foods.py, and\n",
    "write two for loops to print each list of foods."
   ]
  },
  {
   "cell_type": "code",
   "execution_count": 14,
   "metadata": {},
   "outputs": [
    {
     "name": "stdout",
     "output_type": "stream",
     "text": [
      "The first three items in list are:  ['Kashmir', 'K2', 'Mount Everest']\n"
     ]
    }
   ],
   "source": [
    "print('The first three items in list are: ',cities[0:3])"
   ]
  },
  {
   "cell_type": "code",
   "execution_count": 19,
   "metadata": {},
   "outputs": [
    {
     "name": "stdout",
     "output_type": "stream",
     "text": [
      "Three items from the middle of the list are:  ['Saudi Arabia', 'Europe', 'Turkey']\n"
     ]
    }
   ],
   "source": [
    "print('Three items from the middle of the list are: ',cities[3:6])"
   ]
  },
  {
   "cell_type": "code",
   "execution_count": 21,
   "metadata": {},
   "outputs": [
    {
     "name": "stdout",
     "output_type": "stream",
     "text": [
      "Last three items in the list are:  ['Turkey', 'German', 'French']\n"
     ]
    }
   ],
   "source": [
    "print('Last three items in the list are: ',cities[-4:-1])"
   ]
  },
  {
   "cell_type": "code",
   "execution_count": 30,
   "metadata": {},
   "outputs": [
    {
     "name": "stdout",
     "output_type": "stream",
     "text": [
      "My Favorite pizzas are:  ['BBQ', 'Tikka', 'Fajita', 'Bread n Butter Special']\n"
     ]
    }
   ],
   "source": [
    "friend_pizza = pizzas[:] # copied list items in another list and added different values.\n",
    "friend_pizza.append('Tehzeeb Special')\n",
    "pizzas.append('Bread n Butter Special')\n",
    "print('My Favorite pizzas are: ',pizzas)"
   ]
  },
  {
   "cell_type": "code",
   "execution_count": 31,
   "metadata": {},
   "outputs": [
    {
     "name": "stdout",
     "output_type": "stream",
     "text": [
      "My Favorite pizza flavor is:  BBQ\n",
      "My Favorite pizza flavor is:  Tikka\n",
      "My Favorite pizza flavor is:  Fajita\n",
      "My Favorite pizza flavor is:  Bread n Butter Special\n"
     ]
    }
   ],
   "source": [
    "for pizza in pizzas:\n",
    "    print('My Favorite pizza flavor is: ',pizza)"
   ]
  },
  {
   "cell_type": "code",
   "execution_count": 36,
   "metadata": {},
   "outputs": [
    {
     "name": "stdout",
     "output_type": "stream",
     "text": [
      "My Friend Favorite pizzas are:  ['BBQ', 'Tikka', 'Fajita', 'Tehzeeb Special']\n"
     ]
    }
   ],
   "source": [
    "print('My Friend Favorite pizzas are: ',friend_pizza)"
   ]
  },
  {
   "cell_type": "code",
   "execution_count": 37,
   "metadata": {},
   "outputs": [
    {
     "name": "stdout",
     "output_type": "stream",
     "text": [
      "My Friend Favorite pizza flavor is:  BBQ\n",
      "My Friend Favorite pizza flavor is:  Tikka\n",
      "My Friend Favorite pizza flavor is:  Fajita\n",
      "My Friend Favorite pizza flavor is:  Tehzeeb Special\n"
     ]
    }
   ],
   "source": [
    "for pizza in friend_pizza:\n",
    "    print('My Friend Favorite pizza flavor is: ',pizza)"
   ]
  },
  {
   "cell_type": "markdown",
   "metadata": {},
   "source": [
    "4-12. More Loops: All versions of foods.py in this section have avoided using\n",
    "for loops when printing to save space. Choose a version of foods.py, and\n",
    "write two for loops to print each list of foods."
   ]
  },
  {
   "cell_type": "code",
   "execution_count": 38,
   "metadata": {},
   "outputs": [
    {
     "name": "stdout",
     "output_type": "stream",
     "text": [
      "My favorite food is: pizza\n",
      "My favorite food is: falafel\n",
      "My favorite food is: carrot cake\n"
     ]
    }
   ],
   "source": [
    "my_foods = ['pizza', 'falafel', 'carrot cake']\n",
    "for food in my_foods:\n",
    "    print('My favorite food is:',food)"
   ]
  },
  {
   "cell_type": "code",
   "execution_count": 39,
   "metadata": {},
   "outputs": [
    {
     "name": "stdout",
     "output_type": "stream",
     "text": [
      "My favorite food is: pizza\n",
      "My friends favorite food is: pizza\n",
      "My favorite food is: falafel\n",
      "My friends favorite food is: falafel\n",
      "My favorite food is: carrot cake\n",
      "My friends favorite food is: carrot cake\n"
     ]
    }
   ],
   "source": [
    "my_foods = ['pizza', 'falafel', 'carrot cake']\n",
    "for food in my_foods:\n",
    "    print('My favorite food is:',food)\n",
    "    print('My friends favorite food is:',food)"
   ]
  },
  {
   "cell_type": "markdown",
   "metadata": {},
   "source": [
    "## Tuples"
   ]
  },
  {
   "cell_type": "markdown",
   "metadata": {},
   "source": [
    "Lists work well for storing sets of items that can change throughout the\n",
    "life of a program. The ability to modify lists is particularly important when\n",
    "you’re working with a list of users on a website or a list of characters in a\n",
    "game. However, sometimes you’ll want to create a list of items that cannot\n",
    "change. Tuples allow you to do just that. Python refers to values that cannot\n",
    "change as immutable, and an immutable list is called a tuple."
   ]
  },
  {
   "cell_type": "markdown",
   "metadata": {},
   "source": [
    "## Try It Yourself\n",
    "4-13. Buffet: A buffet-style restaurant offers only five basic foods. Think of five\n",
    "simple foods, and store them in a tuple.\n",
    "1. Use a for loop to print each food the restaurant offers.\n",
    "2. Try to modify one of the items, and make sure that Python rejects the\n",
    "change.\n",
    "3. The restaurant changes its menu, replacing two of the items with different\n",
    "foods. Add a block of code that rewrites the tuple, and then use a for\n",
    "loop to print each of the items on the revised menu."
   ]
  },
  {
   "cell_type": "code",
   "execution_count": 40,
   "metadata": {},
   "outputs": [],
   "source": [
    "foods = ('zingeratha','zinger burger','bbq','pizza','karahi')"
   ]
  },
  {
   "cell_type": "code",
   "execution_count": 41,
   "metadata": {},
   "outputs": [
    {
     "ename": "TypeError",
     "evalue": "'tuple' object does not support item assignment",
     "output_type": "error",
     "traceback": [
      "\u001b[0;31m----------------------------------------------------------------------\u001b[0m",
      "\u001b[0;31mTypeError\u001b[0m                            Traceback (most recent call last)",
      "\u001b[0;32m<ipython-input-41-37741019ee0a>\u001b[0m in \u001b[0;36m<module>\u001b[0;34m\u001b[0m\n\u001b[0;32m----> 1\u001b[0;31m \u001b[0mfoods\u001b[0m\u001b[0;34m[\u001b[0m\u001b[0;36m2\u001b[0m\u001b[0;34m]\u001b[0m \u001b[0;34m=\u001b[0m \u001b[0;34m'cold drinks'\u001b[0m\u001b[0;34m\u001b[0m\u001b[0;34m\u001b[0m\u001b[0m\n\u001b[0m",
      "\u001b[0;31mTypeError\u001b[0m: 'tuple' object does not support item assignment"
     ]
    }
   ],
   "source": [
    "foods[2] = 'cold drinks'"
   ]
  },
  {
   "cell_type": "code",
   "execution_count": 45,
   "metadata": {},
   "outputs": [
    {
     "name": "stdout",
     "output_type": "stream",
     "text": [
      "zingeratha\n",
      "zinger burger\n",
      "bbq\n",
      "salad\n",
      "cold drinks\n"
     ]
    }
   ],
   "source": [
    "foods = ('zingeratha','zinger burger','bbq','salad','cold drinks')\n",
    "for food in foods:\n",
    "    print(food)"
   ]
  },
  {
   "cell_type": "markdown",
   "metadata": {},
   "source": [
    "### 4-14. PEP 8: Look through the original PEP 8 style guide at https://python.org/dev/peps/pep-0008/\n",
    "#### You won’t use much of it now, but it might be interesting to skim through it.\n",
    "#### 4-15. Code Review: Choose three of the programs you’ve written in this chapter and modify each one to comply with PEP 8:\n",
    "1. Use four spaces for each indentation level. Set your text editor to insert\n",
    "four spaces every time you press tab , if you haven’t already done so (see\n",
    "Appendix B for instructions on how to do this).\n",
    "2. Use less than 80 characters on each line, and set your editor to show a\n",
    "vertical guideline at the 80th character position.\n",
    "3. Don’t use blank lines excessively in your program files."
   ]
  },
  {
   "cell_type": "markdown",
   "metadata": {},
   "source": [
    "# Chapter 5: IF STATEMENTS"
   ]
  },
  {
   "cell_type": "code",
   "execution_count": 46,
   "metadata": {},
   "outputs": [
    {
     "name": "stdout",
     "output_type": "stream",
     "text": [
      "Audi\n",
      "BMW\n",
      "Subaru\n",
      "Toyota\n"
     ]
    }
   ],
   "source": [
    "cars = ['audi', 'bmw', 'subaru', 'toyota']\n",
    "for car in cars:\n",
    "    if car == 'bmw':\n",
    "        print(car.upper())\n",
    "    else:\n",
    "        print(car.title())"
   ]
  },
  {
   "cell_type": "code",
   "execution_count": 47,
   "metadata": {},
   "outputs": [
    {
     "data": {
      "text/plain": [
       "True"
      ]
     },
     "execution_count": 47,
     "metadata": {},
     "output_type": "execute_result"
    }
   ],
   "source": [
    "car = 'bmw'\n",
    "car == 'bmw'"
   ]
  },
  {
   "cell_type": "code",
   "execution_count": 51,
   "metadata": {},
   "outputs": [
    {
     "data": {
      "text/plain": [
       "False"
      ]
     },
     "execution_count": 51,
     "metadata": {},
     "output_type": "execute_result"
    }
   ],
   "source": [
    "car = 'bmw'\n",
    "car == 'Audi'"
   ]
  },
  {
   "cell_type": "code",
   "execution_count": 52,
   "metadata": {},
   "outputs": [
    {
     "data": {
      "text/plain": [
       "False"
      ]
     },
     "execution_count": 52,
     "metadata": {},
     "output_type": "execute_result"
    }
   ],
   "source": [
    "car == 'Bmw' # false because of title case"
   ]
  },
  {
   "cell_type": "code",
   "execution_count": 53,
   "metadata": {},
   "outputs": [
    {
     "data": {
      "text/plain": [
       "True"
      ]
     },
     "execution_count": 53,
     "metadata": {},
     "output_type": "execute_result"
    }
   ],
   "source": [
    "car.title() == 'Bmw'"
   ]
  },
  {
   "cell_type": "code",
   "execution_count": 54,
   "metadata": {},
   "outputs": [
    {
     "data": {
      "text/plain": [
       "'bmw'"
      ]
     },
     "execution_count": 54,
     "metadata": {},
     "output_type": "execute_result"
    }
   ],
   "source": [
    "car"
   ]
  },
  {
   "cell_type": "markdown",
   "metadata": {},
   "source": [
    "###  Checking for Inequality"
   ]
  },
  {
   "cell_type": "code",
   "execution_count": 1,
   "metadata": {},
   "outputs": [
    {
     "name": "stdout",
     "output_type": "stream",
     "text": [
      "Hold the anchovies!\n"
     ]
    }
   ],
   "source": [
    "requested_topping = 'mushrooms'\n",
    "if requested_topping != 'anchovies':\n",
    "    print(\"Hold the anchovies!\") # True    "
   ]
  },
  {
   "cell_type": "markdown",
   "metadata": {},
   "source": [
    "###  Numerical Comparisons"
   ]
  },
  {
   "cell_type": "code",
   "execution_count": 2,
   "metadata": {},
   "outputs": [
    {
     "data": {
      "text/plain": [
       "True"
      ]
     },
     "execution_count": 2,
     "metadata": {},
     "output_type": "execute_result"
    }
   ],
   "source": [
    "age = 18\n",
    "age == 18"
   ]
  },
  {
   "cell_type": "code",
   "execution_count": 3,
   "metadata": {},
   "outputs": [
    {
     "name": "stdout",
     "output_type": "stream",
     "text": [
      "That is not the correct answer. Please try again!\n"
     ]
    }
   ],
   "source": [
    "answer = 17\n",
    "if answer != 42:\n",
    "    print(\"That is not the correct answer. Please try again!\") # True"
   ]
  },
  {
   "cell_type": "code",
   "execution_count": 6,
   "metadata": {},
   "outputs": [
    {
     "data": {
      "text/plain": [
       "True"
      ]
     },
     "execution_count": 6,
     "metadata": {},
     "output_type": "execute_result"
    }
   ],
   "source": [
    "age = 19\n",
    "age < 21"
   ]
  },
  {
   "cell_type": "code",
   "execution_count": 7,
   "metadata": {},
   "outputs": [
    {
     "data": {
      "text/plain": [
       "True"
      ]
     },
     "execution_count": 7,
     "metadata": {},
     "output_type": "execute_result"
    }
   ],
   "source": [
    "age <= 21"
   ]
  },
  {
   "cell_type": "code",
   "execution_count": 8,
   "metadata": {},
   "outputs": [
    {
     "data": {
      "text/plain": [
       "False"
      ]
     },
     "execution_count": 8,
     "metadata": {},
     "output_type": "execute_result"
    }
   ],
   "source": [
    "age > 21"
   ]
  },
  {
   "cell_type": "code",
   "execution_count": 9,
   "metadata": {},
   "outputs": [
    {
     "data": {
      "text/plain": [
       "False"
      ]
     },
     "execution_count": 9,
     "metadata": {},
     "output_type": "execute_result"
    }
   ],
   "source": [
    "age >= 21"
   ]
  },
  {
   "cell_type": "markdown",
   "metadata": {},
   "source": [
    "### Checking Multiple Conditions"
   ]
  },
  {
   "cell_type": "markdown",
   "metadata": {},
   "source": [
    "####  Using and to Check Multiple Conditions"
   ]
  },
  {
   "cell_type": "code",
   "execution_count": 11,
   "metadata": {},
   "outputs": [
    {
     "data": {
      "text/plain": [
       "False"
      ]
     },
     "execution_count": 11,
     "metadata": {},
     "output_type": "execute_result"
    }
   ],
   "source": [
    "age_0 = 22\n",
    "age_1 = 18\n",
    "age_0 >= 21 and age_1 >= 21 # Both needs to be True in and"
   ]
  },
  {
   "cell_type": "code",
   "execution_count": 12,
   "metadata": {},
   "outputs": [
    {
     "data": {
      "text/plain": [
       "True"
      ]
     },
     "execution_count": 12,
     "metadata": {},
     "output_type": "execute_result"
    }
   ],
   "source": [
    "age_1 = 22\n",
    "age_0 >= 21 and age_1 >= 21 # Both are True in and"
   ]
  },
  {
   "cell_type": "code",
   "execution_count": 13,
   "metadata": {},
   "outputs": [
    {
     "data": {
      "text/plain": [
       "True"
      ]
     },
     "execution_count": 13,
     "metadata": {},
     "output_type": "execute_result"
    }
   ],
   "source": [
    "(age_0 >= 21) and (age_1 >= 21)"
   ]
  },
  {
   "cell_type": "markdown",
   "metadata": {},
   "source": [
    "#### Using or to Check Multiple Conditions"
   ]
  },
  {
   "cell_type": "code",
   "execution_count": 16,
   "metadata": {},
   "outputs": [
    {
     "data": {
      "text/plain": [
       "True"
      ]
     },
     "execution_count": 16,
     "metadata": {},
     "output_type": "execute_result"
    }
   ],
   "source": [
    "age_1 = 18\n",
    "age_0 >= 21 or age_1 >= 21 # for or, one needs to be true"
   ]
  },
  {
   "cell_type": "markdown",
   "metadata": {},
   "source": [
    "#### Checking Whether a Value Is in a List"
   ]
  },
  {
   "cell_type": "code",
   "execution_count": 17,
   "metadata": {},
   "outputs": [
    {
     "data": {
      "text/plain": [
       "True"
      ]
     },
     "execution_count": 17,
     "metadata": {},
     "output_type": "execute_result"
    }
   ],
   "source": [
    "requested_toppings = ['mushrooms', 'onions', 'pineapple']\n",
    "'mushrooms'in requested_toppings"
   ]
  },
  {
   "cell_type": "code",
   "execution_count": 18,
   "metadata": {},
   "outputs": [
    {
     "data": {
      "text/plain": [
       "False"
      ]
     },
     "execution_count": 18,
     "metadata": {},
     "output_type": "execute_result"
    }
   ],
   "source": [
    "'pepperoni' in requested_toppings"
   ]
  },
  {
   "cell_type": "markdown",
   "metadata": {},
   "source": [
    "#### Checking Whether a Value Is Not in a List"
   ]
  },
  {
   "cell_type": "code",
   "execution_count": 19,
   "metadata": {},
   "outputs": [
    {
     "name": "stdout",
     "output_type": "stream",
     "text": [
      "Marie, you can post a response if you wish.\n"
     ]
    }
   ],
   "source": [
    "banned_users = ['andrew', 'carolina', 'david']\n",
    "user = 'marie'\n",
    "if user not in banned_users:\n",
    "    print(user.title() + \", you can post a response if you wish.\")"
   ]
  },
  {
   "cell_type": "markdown",
   "metadata": {},
   "source": [
    "#### Boolean Expressions"
   ]
  },
  {
   "cell_type": "code",
   "execution_count": 20,
   "metadata": {},
   "outputs": [],
   "source": [
    "game_active = True\n",
    "can_edit = False"
   ]
  },
  {
   "cell_type": "markdown",
   "metadata": {},
   "source": [
    "## Try It Yourself\n",
    "5-1. Conditional Tests: Write a series of conditional tests. Print a statement\n",
    "describing each test and your prediction for the results of each test. Your code\n",
    "should look something like this:\n",
    "car = 'subaru'\n",
    "print(\"Is car == 'subaru'? I predict True.\")\n",
    "print(car == 'subaru')\n",
    "print(\"\\nIs car == 'audi'? I predict False.\")\n",
    "print(car == 'audi')\n",
    "1. Look closely at your results, and make sure you understand why each line\n",
    "evaluates to True or False .\n",
    "2. Create at least 10 tests. Have at least 5 tests evaluate to True and another\n",
    "5 tests evaluate to False .\n",
    "5-2. More Conditional Tests: You don’t have to limit the number of tests you\n",
    "create to 10. If you want to try more comparisons, write more tests and add\n",
    "them to conditional_tests.py. Have at least one True and one False result for\n",
    "each of the following:\n",
    "3. Tests for equality and inequality with strings\n",
    "4. Tests using the lower() function\n",
    "5. Numerical tests involving equality and inequality, greater than and\n",
    "less than, greater than or equal to, and less than or equal to\n",
    "6. Tests using the and keyword and the or keyword\n",
    "7. Test whether an item is in a list\n",
    "8. Test whether an item is not in a list"
   ]
  },
  {
   "cell_type": "code",
   "execution_count": 22,
   "metadata": {},
   "outputs": [
    {
     "name": "stdout",
     "output_type": "stream",
     "text": [
      "Is car == 'civic'? I predict True.\n",
      "True\n",
      "Is food == 'burger'? I predict True.\n",
      "True\n"
     ]
    }
   ],
   "source": [
    "car = 'civic'\n",
    "print(\"Is car == 'civic'? I predict True.\")\n",
    "print(car == 'civic')\n",
    "food = 'burger'\n",
    "print(\"Is food == 'burger'? I predict True.\")\n",
    "print(food == 'burger')"
   ]
  },
  {
   "cell_type": "code",
   "execution_count": 24,
   "metadata": {},
   "outputs": [
    {
     "name": "stdout",
     "output_type": "stream",
     "text": [
      "Is car == 'civic'? I predict False.\n",
      "False\n",
      "Is food == 'pizza'? I predict False.\n",
      "False\n"
     ]
    }
   ],
   "source": [
    "car = 'subaru'\n",
    "print(\"Is car == 'civic'? I predict False.\")\n",
    "print(car == 'civic')\n",
    "food = 'burger'\n",
    "print(\"Is food == 'pizza'? I predict False.\")\n",
    "print(food == 'pizza')"
   ]
  },
  {
   "cell_type": "code",
   "execution_count": null,
   "metadata": {},
   "outputs": [],
   "source": [
    "# 5.2\n",
    "car = 'civic'\n",
    "if car == 'civic':\n",
    "    print(car)\n",
    "if car != 'civic':\n",
    "    print('car is not civic')"
   ]
  },
  {
   "cell_type": "code",
   "execution_count": 2,
   "metadata": {},
   "outputs": [
    {
     "name": "stdout",
     "output_type": "stream",
     "text": [
      "civic\n"
     ]
    }
   ],
   "source": [
    "car = 'civic'\n",
    "if car == car.lower():\n",
    "    print(car)"
   ]
  },
  {
   "cell_type": "code",
   "execution_count": 11,
   "metadata": {},
   "outputs": [
    {
     "name": "stdout",
     "output_type": "stream",
     "text": [
      "Car is civic. Age is 18\n"
     ]
    }
   ],
   "source": [
    "age = 18\n",
    "if car == 'civic' and age >= 12 or age <= 20:\n",
    "    print('Car is '+ car + '. Age is ' + str(age))"
   ]
  },
  {
   "cell_type": "code",
   "execution_count": 14,
   "metadata": {},
   "outputs": [
    {
     "name": "stdout",
     "output_type": "stream",
     "text": [
      "1 is in the list\n"
     ]
    }
   ],
   "source": [
    "items = [1,2,3,4,5]\n",
    "item = 1\n",
    "if item in items:\n",
    "    print(item, 'is in the list')    "
   ]
  },
  {
   "cell_type": "code",
   "execution_count": 15,
   "metadata": {},
   "outputs": [
    {
     "name": "stdout",
     "output_type": "stream",
     "text": [
      "6 not in list\n"
     ]
    }
   ],
   "source": [
    "item = 6\n",
    "if item not in items:\n",
    "    print(item, 'not in list')"
   ]
  },
  {
   "cell_type": "markdown",
   "metadata": {},
   "source": [
    "## Try It Yourself\n",
    "5-3. Alien Colors #1: Imagine an alien was just shot down in a game. Create a\n",
    "variable called alien_color and assign it a value of 'green' , 'yellow' , or 'red' .\n",
    "1. Write an if statement to test whether the alien’s color is green. If it is, print\n",
    "a message that the player just earned 5 points.\n",
    "2. Write one version of this program that passes the if test and another that\n",
    "fails. (The version that fails will have no output.)\n",
    "5-4. Alien Colors #2: Choose a color for an alien as you did in Exercise 5-3, and\n",
    "write an if - else chain.\n",
    "88     Chapter 5\n",
    "3. If the alien’s color is green, print a statement that the player just earned\n",
    "5 points for shooting the alien.\n",
    "4. If the alien’s color isn’t green, print a statement that the player just earned\n",
    "10 points.\n",
    "5. Write one version of this program that runs the if block and another that\n",
    "runs the else block."
   ]
  },
  {
   "cell_type": "code",
   "execution_count": 1,
   "metadata": {},
   "outputs": [
    {
     "name": "stdout",
     "output_type": "stream",
     "text": [
      "You earned 5 points!\n"
     ]
    }
   ],
   "source": [
    "#5.3\n",
    "\n",
    "alien_color = 'green'\n",
    "if alien_color == 'green':\n",
    "    print('You earned 5 points!') # test passed\n",
    "if alien_color == 'red':\n",
    "    print('You earned 5 points!') # test failed\n"
   ]
  },
  {
   "cell_type": "code",
   "execution_count": 4,
   "metadata": {},
   "outputs": [
    {
     "name": "stdout",
     "output_type": "stream",
     "text": [
      "You earned 5 points!\n",
      "You earned 10 points!\n"
     ]
    }
   ],
   "source": [
    "# 5.4 \n",
    "\n",
    "alien_color = 'green'\n",
    "if alien_color == 'green':\n",
    "    print('You earned 5 points!') # if executed\n",
    "else:\n",
    "    print('You earned 10 points!')\n",
    "if alien_color != 'green':\n",
    "    print('You earned 5 points!') # else executed\n",
    "else:\n",
    "    print('You earned 10 points!')    "
   ]
  },
  {
   "cell_type": "markdown",
   "metadata": {},
   "source": [
    "5-5. Alien Colors #3: Turn your if - else chain from Exercise 5-4 into an if - elif -\n",
    "else chain.\n",
    "1. If the alien is green, print a message that the player earned 5 points.\n",
    "2. If the alien is yellow, print a message that the player earned 10 points.\n",
    "3. If the alien is red, print a message that the player earned 15 points.\n",
    "4. Write three versions of this program, making sure each message is printed\n",
    "for the appropriate color alien.\n",
    "5-6. Stages of Life: Write an if - elif - else chain that determines a person’s\n",
    "stage of life. Set a value for the variable age , and then:\n",
    "5. If the person is less than 2 years old, print a message that the person is\n",
    "a baby.\n",
    "6. If the person is at least 2 years old but less than 4, print a message that\n",
    "the person is a toddler.\n",
    "7. If the person is at least 4 years old but less than 13, print a message that\n",
    "the person is a kid.\n",
    "8. If the person is at least 13 years old but less than 20, print a message that\n",
    "the person is a teenager.\n",
    "9. If the person is at least 20 years old but less than 65, print a message that\n",
    "the person is an adult.\n",
    "10. If the person is age 65 or older, print a message that the person is an\n",
    "elder.\n",
    "5-7. Favorite Fruit: Make a list of your favorite fruits, and then write a series of\n",
    "independent if statements that check for certain fruits in your list.\n",
    "11. Make a list of your three favorite fruits and call it favorite_fruits .\n",
    "12. Write five if statements. Each should check whether a certain kind of fruit\n",
    "is in your list. If the fruit is in your list, the if block should print a statement,\n",
    "such as You really like bananas!\n"
   ]
  },
  {
   "cell_type": "code",
   "execution_count": 7,
   "metadata": {},
   "outputs": [
    {
     "name": "stdout",
     "output_type": "stream",
     "text": [
      "5 points!\n"
     ]
    }
   ],
   "source": [
    "# 5.5 version 1\n",
    "alien = 'green'\n",
    "if alien == 'green':\n",
    "    print('5 points!')\n",
    "elif alien == 'yellow':\n",
    "    print('10 points!')    \n",
    "elif alien == 'red':\n",
    "    print('15 points!')        "
   ]
  },
  {
   "cell_type": "code",
   "execution_count": 9,
   "metadata": {},
   "outputs": [
    {
     "name": "stdout",
     "output_type": "stream",
     "text": [
      "10 points!\n"
     ]
    }
   ],
   "source": [
    "# version 2\n",
    "alien = 'yellow'\n",
    "if alien == 'green':\n",
    "    print('5 points!')\n",
    "elif alien == 'yellow':\n",
    "    print('10 points!')    \n",
    "elif alien == 'red':\n",
    "    print('15 points!')    "
   ]
  },
  {
   "cell_type": "code",
   "execution_count": 10,
   "metadata": {},
   "outputs": [
    {
     "name": "stdout",
     "output_type": "stream",
     "text": [
      "15 points!\n"
     ]
    }
   ],
   "source": [
    "# version 3\n",
    "alien = 'red'\n",
    "if alien == 'green':\n",
    "    print('5 points!')\n",
    "elif alien == 'yellow':\n",
    "    print('10 points!')    \n",
    "elif alien == 'red':\n",
    "    print('15 points!')    "
   ]
  },
  {
   "cell_type": "code",
   "execution_count": 3,
   "metadata": {},
   "outputs": [
    {
     "name": "stdout",
     "output_type": "stream",
     "text": [
      "Enter person age: 21\n",
      "this person is adult\n"
     ]
    }
   ],
   "source": [
    "age = int(input('Enter person age: '))\n",
    "if age < 2:\n",
    "    print('this person is baby')\n",
    "elif age >= 2 and age <= 4:\n",
    "    print('this person is toddler')\n",
    "elif age >= 4 and age <= 12:\n",
    "    print('this person is kid')\n",
    "elif age >= 13 and age <= 19:\n",
    "    print('this person is teenager')\n",
    "elif age >= 20 and age <= 64:\n",
    "    print('this person is adult')\n",
    "elif age >= 65:\n",
    "    print('this person is elder')    \n",
    "    \n",
    "    "
   ]
  },
  {
   "cell_type": "code",
   "execution_count": 2,
   "metadata": {},
   "outputs": [
    {
     "name": "stdout",
     "output_type": "stream",
     "text": [
      "Enter your favourite fruit to see if we have it or not: MANGO\n",
      "Mango is in the list.\n"
     ]
    }
   ],
   "source": [
    "# 5.7\n",
    "favorite_fruits = ['apple','mango','banana']\n",
    "fruit = input('Enter your favourite fruit to see if we have it or not: ').lower() # BOTH WORKS! 1ST WAY\n",
    "# fruit = fruit.lower() 2ND WAY\n",
    "if fruit == 'mango' in favorite_fruits:\n",
    "    print('Mango is in the list.')\n",
    "elif fruit == 'banana' in favorite_fruits:\n",
    "    print('Banana is in the list.')\n",
    "elif fruit == 'apple' in favorite_fruits:\n",
    "    print('Apple is in the list.')  \n",
    "elif fruit == 'orange' in favorite_fruits:\n",
    "    print('Orange is in the list.')\n",
    "elif fruit == 'grapes' in favorite_fruits:\n",
    "    print('Grapes is in the list')\n",
    "else:\n",
    "    print(fruit,'is not in the list')"
   ]
  },
  {
   "cell_type": "markdown",
   "metadata": {},
   "source": [
    "## EFFICIENT WAY OF DOING ABOVE TASK"
   ]
  },
  {
   "cell_type": "code",
   "execution_count": 9,
   "metadata": {},
   "outputs": [
    {
     "name": "stdout",
     "output_type": "stream",
     "text": [
      "Enter fruit to check: ApPlE\n",
      "Apple is in the list.\n"
     ]
    }
   ],
   "source": [
    "favorite_fruits = ['apple','mango','banana']\n",
    "fruit = input('Enter fruit to check: ').lower() # BOTH WORKS! 1ST WAY # fruit = fruit.lower() 2ND WAY\n",
    "if fruit in favorite_fruits:\n",
    "    print(fruit.title(),'is in the list.')\n",
    "else:\n",
    "    print(fruit.title(),'is not in the list.')"
   ]
  },
  {
   "cell_type": "markdown",
   "metadata": {},
   "source": [
    "Try It Yourself\n",
    "5-8. Hello Admin: Make a list of five or more usernames, including the name\n",
    "'admin' . Imagine you are writing code that will print a greeting to each user\n",
    "after they log in to a website. Loop through the list, and print a greeting to\n",
    "each user:\n",
    "1. If the username is 'admin' , print a special greeting, such as Hello admin,\n",
    "would you like to see a status report?\n",
    ".2 Otherwise, print a generic greeting, such as Hello Eric, thank you for log-\n",
    "ging in again.\n",
    "5-9. No Users: Add an if test to hello_admin.py to make sure the list of users is\n",
    "not empty.\n",
    "3. If the list is empty, print the message We need to find some users!\n",
    "4. Remove all of the usernames from your list, and make sure the correct\n",
    "message is printed.\n",
    "5-10. Checking Usernames: Do the following to create a program that simulates\n",
    "how websites ensure that everyone has a unique username.\n",
    "5. Make a list of five or more usernames called current_users .\n",
    "6. Make another list of five usernames called new_users . Make sure one or\n",
    "two of the new usernames are also in the current_users list.\n",
    "7. Loop through the new_users list to see if each new username has already\n",
    "been used. If it has, print a message that the person will need to enter a\n",
    "new username. If a username has not been used, print a message saying\n",
    "that the username is available.\n",
    "8. Make sure your comparison is case insensitive. If 'John' has been used,\n",
    "'JOHN' should not be accepted.\n",
    "5-11. Ordinal Numbers: Ordinal numbers indicate their position in a list, such\n",
    "as 1st or 2nd. Most ordinal numbers end in th, except 1, 2, and 3.\n",
    "9. Store the numbers 1 through 9 in a list.\n",
    "10. Loop through the list.\n",
    "11. Use an if - elif - else chain inside the loop to print the proper ordinal end-\n",
    "ing for each number. Your output should read \"1st 2nd 3rd 4th 5th 6th\n",
    "7th 8th 9th\" , and each result should be on a separate line."
   ]
  },
  {
   "cell_type": "code",
   "execution_count": 10,
   "metadata": {},
   "outputs": [
    {
     "name": "stdout",
     "output_type": "stream",
     "text": [
      "Hello Tahaa thank you for logging in again\n",
      "Hello Noor thank you for logging in again\n",
      "Hello Ebad thank you for logging in again\n",
      "Hello Jawad thank you for logging in again\n",
      "Hello admin, would you like to see a status report?\n"
     ]
    }
   ],
   "source": [
    "# 5.8\n",
    "users = ['tahaa','noor','ebad','jawad','admin']\n",
    "for user in users:\n",
    "    if user == 'admin':\n",
    "        print('Hello admin, would you like to see a status report?')\n",
    "    else:\n",
    "        print('Hello ' + user.title() + ' thank you for logging in again')    "
   ]
  },
  {
   "cell_type": "code",
   "execution_count": 12,
   "metadata": {},
   "outputs": [
    {
     "name": "stdout",
     "output_type": "stream",
     "text": [
      "Hello Tahaa, thank you for logging in again!\n",
      "Hello Noor, thank you for logging in again!\n",
      "Hello Ebad, thank you for logging in again!\n",
      "Hello Jawad, thank you for logging in again!\n",
      "Hello Admin, would you like to see a status report?\n"
     ]
    }
   ],
   "source": [
    "# 5.9.1\n",
    "users = ['tahaa','noor','ebad','jawad','admin']\n",
    "if users:\n",
    "    for user in users:\n",
    "        if user == 'admin':\n",
    "            print('Hello ' + user.title() + ', would you like to see a status report?')\n",
    "        else:\n",
    "            print('Hello ' + user.title() + ', thank you for logging in again!')\n",
    "else:\n",
    "    print('We need to find some users admin!')"
   ]
  },
  {
   "cell_type": "code",
   "execution_count": 9,
   "metadata": {},
   "outputs": [
    {
     "name": "stdout",
     "output_type": "stream",
     "text": [
      "We need to find some users admin!\n"
     ]
    }
   ],
   "source": [
    "# 5.9.2\n",
    "users = []\n",
    "if users: # by default value is true if something is in the list. if list is empty, its false and else will run.\n",
    "    for user in users:\n",
    "        if user == 'admin':\n",
    "            print('Hello admin, would you like to see a status report?')\n",
    "        else:\n",
    "            print('Hello ' + user.title() + ' thank you for logging in again')\n",
    "else:\n",
    "    print('We need to find some users admin!')"
   ]
  },
  {
   "cell_type": "code",
   "execution_count": 3,
   "metadata": {},
   "outputs": [
    {
     "name": "stdout",
     "output_type": "stream",
     "text": [
      "Jawad Username is available!\n",
      "Jawad Username is available!\n",
      "Jawad Username is available!\n",
      "Jawad Username is available!\n",
      "Jawad Username is available!\n"
     ]
    }
   ],
   "source": [
    "# 5.10.3\n",
    "current_users = ['tahaa','noor','ebad','jawad','mahnoor']\n",
    "new_users = ['usman','abdur rehman','hussain','TAHAA','JAWAD']\n",
    "\n",
    "current_users_lower = [user.lower() for user in current_users]\n",
    "for new_users in current_users_lower:\n",
    "    if user in current_users:\n",
    "        print(user.title(),'Username not available!.')\n",
    "    else:\n",
    "        print(user.title(),'Username is available!')"
   ]
  },
  {
   "cell_type": "code",
   "execution_count": null,
   "metadata": {},
   "outputs": [],
   "source": [
    "#"
   ]
  },
  {
   "cell_type": "code",
   "execution_count": null,
   "metadata": {},
   "outputs": [],
   "source": []
  },
  {
   "cell_type": "code",
   "execution_count": 5,
   "metadata": {},
   "outputs": [
    {
     "name": "stdout",
     "output_type": "stream",
     "text": [
      "Sorry Tahaa, that name is taken.\n",
      "Sorry Jawad, that name is taken.\n",
      "Sorry Ebad, that name is taken.\n",
      "Great, Hussain is still available.\n",
      "Great, Maaz is still available.\n"
     ]
    }
   ],
   "source": [
    "current_users = ['tahaa', 'ebad', 'admin', 'jawad', 'usman']\n",
    "new_users = ['Tahaa', 'jawad', 'EBAD', 'hussain', 'Maaz']\n",
    "\n",
    "current_users_lower = [user.lower() for user in current_users]\n",
    "\n",
    "for new_user in new_users:\n",
    "    if new_user.lower() in current_users_lower:\n",
    "        print(\"Sorry \" + new_user.title() + \", that name is taken.\")\n",
    "    else:\n",
    "        print(\"Great, \" + new_user.title() + \" is still available.\")"
   ]
  },
  {
   "cell_type": "code",
   "execution_count": 6,
   "metadata": {},
   "outputs": [
    {
     "name": "stdout",
     "output_type": "stream",
     "text": [
      "1st\n",
      "2nd\n",
      "3rd\n",
      "4th\n",
      "5th\n",
      "6th\n",
      "7th\n",
      "8th\n",
      "9th\n"
     ]
    }
   ],
   "source": [
    "# 5.11\n",
    "numbers = [1,2,3,4,5,6,7,8,9]\n",
    "for number in numbers:\n",
    "    if number == 1:\n",
    "        print(str(number) + 'st')\n",
    "    elif number == 2:\n",
    "        print(str(number) + 'nd')\n",
    "    elif number == 3:\n",
    "        print(str(number) + 'rd')\n",
    "    else:\n",
    "        print(str(number) + 'th')"
   ]
  },
  {
   "cell_type": "markdown",
   "metadata": {},
   "source": [
    "# CHAPTER 6: DICTIONARIES"
   ]
  },
  {
   "cell_type": "markdown",
   "metadata": {},
   "source": [
    "### A dictionary in Python is a collection of key-value pairs. Each key is connected\n",
    "to a value, and you can use a key to access the value associated with that key.\n",
    "A key’s value can be a number, a string, a list, or even another dictionary.\n",
    "In fact, you can use any object that you can create in Python as a value in a\n",
    "dictionary."
   ]
  },
  {
   "cell_type": "code",
   "execution_count": 9,
   "metadata": {},
   "outputs": [
    {
     "name": "stdout",
     "output_type": "stream",
     "text": [
      "{'color': 'green', 'points': 5}\n"
     ]
    }
   ],
   "source": [
    "alien_0 = {'color':'green','points':5}\n",
    "print(alien_0)"
   ]
  },
  {
   "cell_type": "markdown",
   "metadata": {},
   "source": [
    "## Accessing Values in a Dictionary"
   ]
  },
  {
   "cell_type": "code",
   "execution_count": 10,
   "metadata": {},
   "outputs": [
    {
     "name": "stdout",
     "output_type": "stream",
     "text": [
      "green\n"
     ]
    }
   ],
   "source": [
    "print(alien_0['color'])"
   ]
  },
  {
   "cell_type": "code",
   "execution_count": 12,
   "metadata": {},
   "outputs": [
    {
     "name": "stdout",
     "output_type": "stream",
     "text": [
      "You just earned 5 points!\n"
     ]
    }
   ],
   "source": [
    "new_points = alien_0['points'] # storing key-value in a variable\n",
    "print(f'You just earned {new_points} points!') # "
   ]
  },
  {
   "cell_type": "markdown",
   "metadata": {},
   "source": [
    "## Adding New Key-Value Pairs"
   ]
  },
  {
   "cell_type": "code",
   "execution_count": 14,
   "metadata": {},
   "outputs": [
    {
     "name": "stdout",
     "output_type": "stream",
     "text": [
      "{'color': 'green', 'points': 5, 'x_position': 0, 'y_position': 25}\n"
     ]
    }
   ],
   "source": [
    "alien_0['x_position'] = 0\n",
    "alien_0['y_position'] = 25\n",
    "print(alien_0)"
   ]
  },
  {
   "cell_type": "markdown",
   "metadata": {},
   "source": [
    "## Starting with an Empty Dictionary"
   ]
  },
  {
   "cell_type": "code",
   "execution_count": 15,
   "metadata": {},
   "outputs": [
    {
     "name": "stdout",
     "output_type": "stream",
     "text": [
      "{'color': 'green', 'points': 5}\n"
     ]
    }
   ],
   "source": [
    "alien_0 = {}\n",
    "alien_0['color'] = 'green'\n",
    "alien_0['points'] = 5\n",
    "print(alien_0)"
   ]
  },
  {
   "cell_type": "markdown",
   "metadata": {},
   "source": [
    "## Modifying Values in a Dictionary "
   ]
  },
  {
   "cell_type": "code",
   "execution_count": 18,
   "metadata": {},
   "outputs": [
    {
     "name": "stdout",
     "output_type": "stream",
     "text": [
      "The alien is green\n",
      "The alien is yellow\n"
     ]
    }
   ],
   "source": [
    "alien_0 = {'color':'green'}\n",
    "print(f\"The alien is {alien_0['color']}\")\n",
    "      \n",
    "alien_0['color'] = 'yellow'\n",
    "print(f\"The alien is {alien_0['color']}\")     "
   ]
  },
  {
   "cell_type": "code",
   "execution_count": 24,
   "metadata": {},
   "outputs": [
    {
     "name": "stdout",
     "output_type": "stream",
     "text": [
      "Original position: 0\n",
      "New position: 2\n"
     ]
    }
   ],
   "source": [
    "alien_0 = {'x_position': 0, 'y_position': 25, 'speed': 'medium'}\n",
    "print(f\"Original position: {alien_0['x_position']}\")\n",
    "# Move the alien to the right.\n",
    "# Determine how far to move the alien based on its current speed.\n",
    "if alien_0['speed'] == 'slow':\n",
    "    x_increment = 1\n",
    "elif alien_0['speed'] == 'medium':\n",
    "    x_increment = 2\n",
    "else:\n",
    " # This must be a fast alien.\n",
    "    x_increment = 3\n",
    "# The new position is the old position plus the increment.\n",
    "alien_0['x_position'] = alien_0['x_position'] + x_increment\n",
    "print(f\"New position: {alien_0['x_position']}\")"
   ]
  },
  {
   "cell_type": "markdown",
   "metadata": {},
   "source": [
    "## Removing Key-Value Pairs"
   ]
  },
  {
   "cell_type": "code",
   "execution_count": 25,
   "metadata": {},
   "outputs": [
    {
     "name": "stdout",
     "output_type": "stream",
     "text": [
      "{'color': 'green', 'points': 5}\n",
      "{'color': 'green'}\n"
     ]
    }
   ],
   "source": [
    "alien_0 = {'color':'green','points':5}\n",
    "print(alien_0)\n",
    "\n",
    "del alien_0['points']\n",
    "print(alien_0)"
   ]
  },
  {
   "cell_type": "raw",
   "metadata": {},
   "source": [
    "Be aware that the deleted key-value pair is removed permanently."
   ]
  },
  {
   "cell_type": "markdown",
   "metadata": {},
   "source": [
    "## A Dictionary of Similar Objects"
   ]
  },
  {
   "cell_type": "code",
   "execution_count": 26,
   "metadata": {},
   "outputs": [
    {
     "name": "stdout",
     "output_type": "stream",
     "text": [
      "Sarah's favorite language is C.\n"
     ]
    }
   ],
   "source": [
    "favorite_languages = {\n",
    " 'jen': 'python',\n",
    " 'sarah': 'c',\n",
    " 'edward': 'ruby',\n",
    " 'phil': 'python',\n",
    " }\n",
    "\n",
    "\n",
    "language = favorite_languages['sarah'].title()\n",
    "print(f\"Sarah's favorite language is {language}.\")"
   ]
  },
  {
   "cell_type": "code",
   "execution_count": 27,
   "metadata": {},
   "outputs": [
    {
     "data": {
      "text/plain": [
       "'c'"
      ]
     },
     "execution_count": 27,
     "metadata": {},
     "output_type": "execute_result"
    }
   ],
   "source": [
    "favorite_languages['sarah']"
   ]
  },
  {
   "cell_type": "code",
   "execution_count": 28,
   "metadata": {},
   "outputs": [
    {
     "ename": "KeyError",
     "evalue": "'points'",
     "output_type": "error",
     "traceback": [
      "\u001b[0;31m----------------------------------------------------------------------\u001b[0m",
      "\u001b[0;31mKeyError\u001b[0m                             Traceback (most recent call last)",
      "\u001b[0;32m<ipython-input-28-3914d637e9f3>\u001b[0m in \u001b[0;36m<module>\u001b[0;34m\u001b[0m\n\u001b[1;32m      1\u001b[0m \u001b[0malien_0\u001b[0m \u001b[0;34m=\u001b[0m \u001b[0;34m{\u001b[0m\u001b[0;34m'color'\u001b[0m\u001b[0;34m:\u001b[0m \u001b[0;34m'green'\u001b[0m\u001b[0;34m,\u001b[0m \u001b[0;34m'speed'\u001b[0m\u001b[0;34m:\u001b[0m \u001b[0;34m'slow'\u001b[0m\u001b[0;34m}\u001b[0m\u001b[0;34m\u001b[0m\u001b[0;34m\u001b[0m\u001b[0m\n\u001b[0;32m----> 2\u001b[0;31m \u001b[0mprint\u001b[0m\u001b[0;34m(\u001b[0m\u001b[0malien_0\u001b[0m\u001b[0;34m[\u001b[0m\u001b[0;34m'points'\u001b[0m\u001b[0;34m]\u001b[0m\u001b[0;34m)\u001b[0m\u001b[0;34m\u001b[0m\u001b[0;34m\u001b[0m\u001b[0m\n\u001b[0m",
      "\u001b[0;31mKeyError\u001b[0m: 'points'"
     ]
    }
   ],
   "source": [
    "alien_0 = {'color': 'green', 'speed': 'slow'}\n",
    "print(alien_0['points'])"
   ]
  },
  {
   "cell_type": "code",
   "execution_count": 29,
   "metadata": {},
   "outputs": [
    {
     "name": "stdout",
     "output_type": "stream",
     "text": [
      "No point value assigned.\n"
     ]
    }
   ],
   "source": [
    "point_value = alien_0.get('points', 'No point value assigned.')\n",
    "print(point_value)"
   ]
  },
  {
   "cell_type": "markdown",
   "metadata": {},
   "source": [
    "## Try It Yourself\n",
    "6-1.\n",
    "1. Person: Use a dictionary to store information about a person you know.\n",
    "Store their first name, last name, age, and the city in which they live. You\n",
    "should have keys such as first_name, last_name, age, and city. Print each\n",
    "piece of information stored in your dictionary.\n",
    "6-2.\n",
    "2. Favorite Numbers: Use a dictionary to store people’s favorite numbers.\n",
    "Think of five names, and use them as keys in your dictionary. Think of a favorite\n",
    "number for each person, and store each as a value in your dictionary. Print\n",
    "each person’s name and their favorite number. For even more fun, poll a few\n",
    "friends and get some actual data for your program.\n",
    "6-3.\n",
    "3. Glossary: A Python dictionary can be used to model an actual dictionary.\n",
    "However, to avoid confusion, let’s call it a glossary.\n",
    "4.\t Think of five programming words you’ve learned about in the previous\n",
    "chapters. Use these words as the keys in your glossary, and store their\n",
    "meanings as values.\n",
    "5.\t Print each word and its meaning as neatly formatted output. You might\n",
    "print the word followed by a colon and then its meaning, or print the word\n",
    "on one line and then print its meaning indented on a second line. Use the\n",
    "newline character (\\n) to insert a blank line between each word-meaning\n",
    "pair in your output"
   ]
  },
  {
   "cell_type": "code",
   "execution_count": 41,
   "metadata": {},
   "outputs": [
    {
     "name": "stdout",
     "output_type": "stream",
     "text": [
      "Tahaa\n",
      "Khan\n",
      "21\n",
      "Rawalpindi\n"
     ]
    }
   ],
   "source": [
    "person = {\n",
    "    'first_name':'Tahaa',\n",
    "    'last_name':'Khan',\n",
    "    'age':21,\n",
    "    'city':'Rawalpindi'\n",
    "}\n",
    "print(person['first_name'])\n",
    "print(person['last_name'])\n",
    "print(person['age'])\n",
    "print(person['city'])"
   ]
  },
  {
   "cell_type": "code",
   "execution_count": 46,
   "metadata": {},
   "outputs": [
    {
     "name": "stdout",
     "output_type": "stream",
     "text": [
      "Taha's favorite number is 3.\n",
      "Usman's favorite number is 2.\n",
      "Jawad's favorite number is 9.\n",
      "Ebad's favorite number is 4.\n",
      "Hussain's favorite number is 5.\n"
     ]
    }
   ],
   "source": [
    "numbers = {\n",
    "    'tahaa':3,\n",
    "    'usman':2,\n",
    "    'jawad':9,\n",
    "    'ebad':4,\n",
    "    'hussain':5\n",
    "}\n",
    "num = numbers['tahaa']\n",
    "print(\"Taha's favorite number is \" + str(num) + \".\")\n",
    "\n",
    "num = numbers['usman']\n",
    "print(\"Usman's favorite number is \" + str(num) + \".\")\n",
    "\n",
    "num = numbers['jawad']\n",
    "print(\"Jawad's favorite number is \" + str(num) + \".\")\n",
    "\n",
    "num = numbers['ebad']\n",
    "print(\"Ebad's favorite number is \" + str(num) + \".\")\n",
    "\n",
    "num = numbers['hussain']\n",
    "print(\"Hussain's favorite number is \" + str(num) + \".\")"
   ]
  },
  {
   "cell_type": "code",
   "execution_count": 48,
   "metadata": {},
   "outputs": [
    {
     "name": "stdout",
     "output_type": "stream",
     "text": [
      "\n",
      "String : A series of characters.\n",
      "\n",
      "Comment : A note in a program that the Python interpreter ignores.\n",
      "\n",
      "List : A collection of items in a particular order.\n",
      "\n",
      "Loop : Work through a collection of items, one at a time.\n",
      "\n",
      "Dictionary : A collection of key-value pairs.\n"
     ]
    }
   ],
   "source": [
    "glossary = {\n",
    "    'string': 'A series of characters.',\n",
    "    'comment': 'A note in a program that the Python interpreter ignores.',\n",
    "    'list': 'A collection of items in a particular order.',\n",
    "    'loop': 'Work through a collection of items, one at a time.',\n",
    "    'dictionary': \"A collection of key-value pairs.\",\n",
    "    }\n",
    "word = 'string'\n",
    "print(\"\\n\" + word.title() + \" : \" + glossary[word])\n",
    "\n",
    "word = 'comment'\n",
    "print(\"\\n\" + word.title() + \" : \" + glossary[word])\n",
    "\n",
    "word = 'list'\n",
    "print(\"\\n\" + word.title() + \" : \" + glossary[word])\n",
    "\n",
    "word = 'loop'\n",
    "print(\"\\n\" + word.title() + \" : \" + glossary[word])\n",
    "\n",
    "word = 'dictionary'\n",
    "print(\"\\n\" + word.title() + \" : \" + glossary[word])"
   ]
  },
  {
   "cell_type": "code",
   "execution_count": 49,
   "metadata": {},
   "outputs": [
    {
     "name": "stdout",
     "output_type": "stream",
     "text": [
      "\n",
      "Key: username\n",
      "Value: efermi\n",
      "\n",
      "Key: first\n",
      "Value: enrico\n",
      "\n",
      "Key: last\n",
      "Value: fermi\n"
     ]
    }
   ],
   "source": [
    "user_0 = {\n",
    " 'username': 'efermi',\n",
    " 'first': 'enrico',\n",
    " 'last': 'fermi',\n",
    " }\n",
    "for key, value in user_0.items():\n",
    "    print(f\"\\nKey: {key}\")\n",
    "    print(f\"Value: {value}\")"
   ]
  },
  {
   "cell_type": "code",
   "execution_count": 52,
   "metadata": {},
   "outputs": [
    {
     "name": "stdout",
     "output_type": "stream",
     "text": [
      "\n",
      "Tahaa's favorite language is Python.\n",
      "\n",
      "Anas's favorite language is Javascript.\n",
      "\n",
      "Edward's favorite language is Ruby.\n",
      "\n",
      "Phil's favorite language is Python.\n"
     ]
    }
   ],
   "source": [
    "favorite_languages = {\n",
    " 'Tahaa': 'Python',\n",
    " 'Anas': 'JavaScript',\n",
    " 'edward': 'ruby',\n",
    " 'phil': 'python',\n",
    " }\n",
    "for name, language in favorite_languages.items():\n",
    "    print(f\"\\n{name.title()}'s favorite language is {language.title()}.\")"
   ]
  },
  {
   "cell_type": "code",
   "execution_count": 56,
   "metadata": {},
   "outputs": [
    {
     "name": "stdout",
     "output_type": "stream",
     "text": [
      "My Name is Taha\n",
      "My Class is Python\n",
      "My Age is 21\n"
     ]
    }
   ],
   "source": [
    "lang = {\n",
    "    'name':'taha',\n",
    "    'class':'python',\n",
    "    'age':'21'\n",
    "    }\n",
    "for key, value in lang.items():\n",
    "    print(f\"My {key.title()} is {value.title()}\")\n"
   ]
  },
  {
   "cell_type": "code",
   "execution_count": 57,
   "metadata": {},
   "outputs": [
    {
     "name": "stdout",
     "output_type": "stream",
     "text": [
      "name\n",
      "class\n",
      "age\n"
     ]
    }
   ],
   "source": [
    "for key in lang.keys():\n",
    "    print(key)"
   ]
  },
  {
   "cell_type": "code",
   "execution_count": 59,
   "metadata": {},
   "outputs": [
    {
     "name": "stdout",
     "output_type": "stream",
     "text": [
      "taha\n",
      "python\n",
      "21\n"
     ]
    }
   ],
   "source": [
    "for value in lang.values():\n",
    "    print(value)"
   ]
  },
  {
   "cell_type": "code",
   "execution_count": 61,
   "metadata": {},
   "outputs": [
    {
     "name": "stdout",
     "output_type": "stream",
     "text": [
      "name taha\n",
      "class python\n",
      "age 21\n"
     ]
    }
   ],
   "source": [
    "for key, value in lang.items():\n",
    "    print(key,value)"
   ]
  },
  {
   "cell_type": "code",
   "execution_count": null,
   "metadata": {},
   "outputs": [],
   "source": []
  },
  {
   "cell_type": "code",
   "execution_count": null,
   "metadata": {},
   "outputs": [],
   "source": []
  },
  {
   "cell_type": "code",
   "execution_count": null,
   "metadata": {},
   "outputs": [],
   "source": []
  },
  {
   "cell_type": "code",
   "execution_count": null,
   "metadata": {},
   "outputs": [],
   "source": []
  },
  {
   "cell_type": "code",
   "execution_count": null,
   "metadata": {},
   "outputs": [],
   "source": []
  },
  {
   "cell_type": "code",
   "execution_count": null,
   "metadata": {},
   "outputs": [],
   "source": []
  },
  {
   "cell_type": "code",
   "execution_count": null,
   "metadata": {},
   "outputs": [],
   "source": []
  },
  {
   "cell_type": "code",
   "execution_count": null,
   "metadata": {},
   "outputs": [],
   "source": []
  }
 ],
 "metadata": {
  "kernelspec": {
   "display_name": "Python 3",
   "language": "python",
   "name": "python3"
  },
  "language_info": {
   "codemirror_mode": {
    "name": "ipython",
    "version": 3
   },
   "file_extension": ".py",
   "mimetype": "text/x-python",
   "name": "python",
   "nbconvert_exporter": "python",
   "pygments_lexer": "ipython3",
   "version": "3.7.4"
  }
 },
 "nbformat": 4,
 "nbformat_minor": 2
}
