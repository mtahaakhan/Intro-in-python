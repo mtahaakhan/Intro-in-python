{
 "cells": [
  {
   "cell_type": "markdown",
   "metadata": {},
   "source": [
    "We define dictionary as follow:\n",
    "    1. Curly Brackets\n",
    "    2. Seperated by comma\n",
    "    3. Begins with variable name and equal sign\n",
    "    4. The big difference: In a list, each chunk is one thing. In a dictionary, eachchunk is a paired key and            value.\n",
    "    5. Notice that the key is followed by a colon, then we have value.\n",
    "    \n"
   ]
  },
  {
   "cell_type": "code",
   "execution_count": 3,
   "metadata": {},
   "outputs": [],
   "source": [
    "customer_29876 = {\n",
    "    \"first name\": \"David\", \n",
    "    \"lastname\": \"Elliott\", \n",
    "    \"address\": \"4803 Wellesley St.\"\n",
    "}"
   ]
  },
  {
   "cell_type": "markdown",
   "metadata": {},
   "source": [
    "## How to pick information out of dictionaries\n"
   ]
  },
  {
   "cell_type": "code",
   "execution_count": 5,
   "metadata": {},
   "outputs": [
    {
     "name": "stdout",
     "output_type": "stream",
     "text": [
      "4803 Wellesley St.\n"
     ]
    }
   ],
   "source": [
    "address = customer_29876['address'] # Dictionary may use curly brackets but for calling a specific key, it will use square brackets\n",
    "print(address)"
   ]
  },
  {
   "cell_type": "markdown",
   "metadata": {},
   "source": [
    "### Dictionaries: The versatility of keys andvalues"
   ]
  },
  {
   "cell_type": "raw",
   "metadata": {},
   "source": [
    "Quick Note: Keys can be integars and strings! We can also mix values while creating a dictionary. For example we can have both integar and string keys in one dictionary."
   ]
  },
  {
   "cell_type": "code",
   "execution_count": 7,
   "metadata": {},
   "outputs": [
    {
     "name": "stdout",
     "output_type": "stream",
     "text": [
      "Sweden\n"
     ]
    }
   ],
   "source": [
    "integar_keys = {5: \"Finland\", 2: \"Norway\", 3: \"Sweden\", 7: \"Iceland\"}\n",
    "top = integar_keys[3] # Used square brackets and just passed the integar value. Sweden was stored on key 3, that's why sweden was printed.\n",
    "print(top) # Here i just stored a key in a different variable. if we want to use this key, we can store it like this in a variable and use it somewhere else"
   ]
  },
  {
   "cell_type": "code",
   "execution_count": 8,
   "metadata": {},
   "outputs": [
    {
     "name": "stdout",
     "output_type": "stream",
     "text": [
      "1\n"
     ]
    }
   ],
   "source": [
    "string_keys = {\"Finland\" : 1,\"Norway\" : 2,\"Sweden\" : 4,\"Iceland\"  : 4}\n",
    "country_ranking = string_keys['Finland'] # stored a string key in a variable.\n",
    "print(country_ranking) # Now we know what finland is one 1st position."
   ]
  },
  {
   "cell_type": "raw",
   "metadata": {},
   "source": [
    "Things to notice:\n",
    "Each pair is indented.\n",
    "Though it isn't necessary, I added a comma after the last pair. Python\n",
    "doesn't mind it, and it means I won't get into trouble by forgetting to\n",
    "insert the comma if I add another key-value pair later. From now on,\n",
    "I'll ask you to adopt this convention when you're doing the exercises."
   ]
  },
  {
   "cell_type": "markdown",
   "metadata": {},
   "source": [
    "### Dictionaries: Adding items"
   ]
  },
  {
   "cell_type": "code",
   "execution_count": 17,
   "metadata": {},
   "outputs": [
    {
     "name": "stdout",
     "output_type": "stream",
     "text": [
      "{'first name': 'David', 'lastname': 'Elliott', 'address': '4803 Wellesley St.', 'city': 'Toronto'}\n"
     ]
    }
   ],
   "source": [
    "# Here we will add Pakistan in Integar_keys dictionary\n",
    "\n",
    "# integar_keys[1] = \"Pakistan\"\n",
    "# print(integar_keys)\n",
    "\n",
    "# 'str' object does not support item assignment ( Throwing this ERROR )\n",
    "\n",
    "customer_29876[\"city\"] = \"Toronto\"\n",
    "print(customer_29876) # This added Toronto in Customer\n",
    "\n"
   ]
  },
  {
   "cell_type": "code",
   "execution_count": 18,
   "metadata": {},
   "outputs": [
    {
     "name": "stdout",
     "output_type": "stream",
     "text": [
      "{'Finland': 1, 'Norway': 2, 'Sweden': 4, 'Iceland': 4, 'Pakistan': 1}\n"
     ]
    }
   ],
   "source": [
    "#            Key         Value\n",
    "string_keys['Pakistan'] = 1\n",
    "print(string_keys) # This added Key Pakistan to the dictionary"
   ]
  },
  {
   "cell_type": "code",
   "execution_count": 19,
   "metadata": {},
   "outputs": [],
   "source": [
    "things_to_remember = {} # This is an empty dictionary"
   ]
  },
  {
   "cell_type": "code",
   "execution_count": 25,
   "metadata": {},
   "outputs": [],
   "source": [
    "things_to_remember[1] = 'Machine Learning by Stanford University'\n",
    "things_to_remember[2] = 'Introduction to Artificial Intelligence by Microsoft'\n",
    "things_to_remember[3] = 'Cisco and Saylani Python Programming Course by Sir Ali Mughal'\n",
    "things_to_remember[4] = 'DISM by Aptech Rawalpindi Campus'"
   ]
  },
  {
   "cell_type": "code",
   "execution_count": 26,
   "metadata": {},
   "outputs": [
    {
     "name": "stdout",
     "output_type": "stream",
     "text": [
      "{1: 'Machine Learning by Stanford University', 2: 'Introduction to Artificial Intelligence by Microsoft', 3: 'Cisco and Saylani Python Programming Course by Sir Ali Mughal', 4: 'DISM by Aptech Rawalpindi Campus'}\n"
     ]
    }
   ],
   "source": [
    "print(things_to_remember)"
   ]
  },
  {
   "cell_type": "markdown",
   "metadata": {},
   "source": [
    "### Dictionaries: Removing and changing items"
   ]
  },
  {
   "cell_type": "code",
   "execution_count": 27,
   "metadata": {},
   "outputs": [],
   "source": [
    "# If you want to delete an element from a dict\n",
    "del things_to_remember[4] # This is delete aptech course"
   ]
  },
  {
   "cell_type": "code",
   "execution_count": 28,
   "metadata": {},
   "outputs": [
    {
     "name": "stdout",
     "output_type": "stream",
     "text": [
      "{1: 'Machine Learning by Stanford University', 2: 'Introduction to Artificial Intelligence by Microsoft', 3: 'Cisco and Saylani Python Programming Course by Sir Ali Mughal'}\n"
     ]
    }
   ],
   "source": [
    "print(things_to_remember) # Yess!!!"
   ]
  },
  {
   "cell_type": "code",
   "execution_count": null,
   "metadata": {},
   "outputs": [],
   "source": [
    "# You can delete by integar key or string key."
   ]
  },
  {
   "cell_type": "markdown",
   "metadata": {},
   "source": [
    "#### Changing Value of Dictionary"
   ]
  },
  {
   "cell_type": "raw",
   "metadata": {},
   "source": [
    "Changing the value of an element is similar to the same operation that you\n",
    "learned for lists. It begins with the name of the list or dictionary:"
   ]
  },
  {
   "cell_type": "code",
   "execution_count": 29,
   "metadata": {},
   "outputs": [],
   "source": [
    "# name of variable[integar, string] = \"value in quotes or without quotes for integar\" "
   ]
  },
  {
   "cell_type": "code",
   "execution_count": 30,
   "metadata": {},
   "outputs": [
    {
     "name": "stdout",
     "output_type": "stream",
     "text": [
      "Diploma in SE by Aptech\n"
     ]
    }
   ],
   "source": [
    "things_to_remember[4] = 'Diploma in SE by Aptech'\n",
    "print(things_to_remember[4]) # Yess it worked!!!"
   ]
  },
  {
   "cell_type": "markdown",
   "metadata": {},
   "source": [
    "### Dictionaries: Looping through values"
   ]
  },
  {
   "cell_type": "code",
   "execution_count": 31,
   "metadata": {},
   "outputs": [
    {
     "name": "stdout",
     "output_type": "stream",
     "text": [
      "Machine Learning by Stanford University\n",
      "Introduction to Artificial Intelligence by Microsoft\n",
      "Cisco and Saylani Python Programming Course by Sir Ali Mughal\n",
      "Diploma in SE by Aptech\n"
     ]
    }
   ],
   "source": [
    "# Let's say you want to display all the values in the things_to_remember\n",
    "# dictionary. Using the abbreviated example from earlier chapters, you could\n",
    "# write:\n",
    "print(things_to_remember[1])\n",
    "print(things_to_remember[2]) \n",
    "print(things_to_remember[3]) \n",
    "print(things_to_remember[4]) "
   ]
  },
  {
   "cell_type": "code",
   "execution_count": 34,
   "metadata": {},
   "outputs": [
    {
     "name": "stdout",
     "output_type": "stream",
     "text": [
      "1\n",
      "2\n",
      "3\n",
      "4\n"
     ]
    }
   ],
   "source": [
    "for course in things_to_remember:\n",
    "    print(course) # Looping through keys"
   ]
  },
  {
   "cell_type": "code",
   "execution_count": 36,
   "metadata": {},
   "outputs": [
    {
     "name": "stdout",
     "output_type": "stream",
     "text": [
      "Machine Learning by Stanford University\n",
      "Introduction to Artificial Intelligence by Microsoft\n",
      "Cisco and Saylani Python Programming Course by Sir Ali Mughal\n",
      "Diploma in SE by Aptech\n"
     ]
    }
   ],
   "source": [
    "# for values we can say\n",
    "for course in things_to_remember.values():\n",
    "    print(course) # Now it looped on values Yess!!!!"
   ]
  },
  {
   "cell_type": "code",
   "execution_count": 40,
   "metadata": {},
   "outputs": [
    {
     "name": "stdout",
     "output_type": "stream",
     "text": [
      "first name\n",
      "lastname\n",
      "address\n",
      "city\n",
      "\n",
      "\n",
      "David\n",
      "Elliott\n",
      "4803 Wellesley St.\n",
      "Toronto\n"
     ]
    }
   ],
   "source": [
    "# Practicing For Loop\n",
    "for c_details in customer_29876:\n",
    "    print(c_details) # This will loop through keys of customer_29876\n",
    "    \n",
    "print('\\n')    \n",
    "for c_details_values in customer_29876.values():\n",
    "    print(c_details_values) # This will loop through values of customer_29876    "
   ]
  },
  {
   "cell_type": "code",
   "execution_count": null,
   "metadata": {},
   "outputs": [],
   "source": [
    "# Now how can we capture keys through for loop"
   ]
  },
  {
   "cell_type": "code",
   "execution_count": 41,
   "metadata": {},
   "outputs": [
    {
     "name": "stdout",
     "output_type": "stream",
     "text": [
      "first name\n",
      "lastname\n",
      "address\n",
      "city\n"
     ]
    }
   ],
   "source": [
    "# example\n",
    "for keys in customer_29876.keys():\n",
    "    print(keys)"
   ]
  },
  {
   "cell_type": "markdown",
   "metadata": {},
   "source": [
    "#### Dictionaries: Looping through key-value pairs"
   ]
  },
  {
   "cell_type": "code",
   "execution_count": 3,
   "metadata": {
    "scrolled": true
   },
   "outputs": [],
   "source": [
    "customer_29876 = {\n",
    "    \"first name\": \"David\",\n",
    "    \"last name\": \"Elliott\",\n",
    "    \"address\": \"4803 Wellesley St.\",\n",
    "}"
   ]
  },
  {
   "cell_type": "code",
   "execution_count": 4,
   "metadata": {},
   "outputs": [
    {
     "name": "stdout",
     "output_type": "stream",
     "text": [
      "The customer's first name is David\n",
      "The customer's last name is Elliott\n",
      "The customer's address is 4803 Wellesley St.\n"
     ]
    }
   ],
   "source": [
    "for each_key, each_value in customer_29876.items():\n",
    "    print(\"The customer's \" + each_key + \" is \" + each_value)"
   ]
  },
  {
   "cell_type": "code",
   "execution_count": 5,
   "metadata": {},
   "outputs": [
    {
     "name": "stdout",
     "output_type": "stream",
     "text": [
      "My first name is Tahaa\n",
      "My last name is Khan\n",
      "My address is Rwp Cantt\n"
     ]
    }
   ],
   "source": [
    "info = {\n",
    "    'first name':'Tahaa',\n",
    "    'last name':'Khan',\n",
    "    'address':'Rwp Cantt',\n",
    "}\n",
    "for key, value in info.items():\n",
    "    print('My ' + key + ' is ' + value)"
   ]
  },
  {
   "cell_type": "code",
   "execution_count": 6,
   "metadata": {},
   "outputs": [],
   "source": [
    "# for key, value in x.items():\n",
    "#     print(key or value )"
   ]
  },
  {
   "cell_type": "markdown",
   "metadata": {},
   "source": [
    "#### Creating a list of dictionaries"
   ]
  },
  {
   "cell_type": "code",
   "execution_count": 9,
   "metadata": {},
   "outputs": [],
   "source": [
    "friends = [\n",
    "    {\n",
    "        'name':'Usman Hayat Malik',\n",
    "        'age':22,\n",
    "        'years of friendship': 14,\n",
    "        'studies':'BBA',\n",
    "        'university':'Federal Urdu University',\n",
    "    },\n",
    "    {\n",
    "        'name':'Abdur Rehman Hayat Malik',\n",
    "        'age':20,\n",
    "        'years of friendship': 14,\n",
    "        'studies':'BS',\n",
    "        'university':'ARID',\n",
    "    },\n",
    "    {\n",
    "        'name':'Muhammad Hussain',\n",
    "        'age':19,\n",
    "        'years of friendship': 8,\n",
    "        'studies':'Inter',\n",
    "        'university':'Global School System',\n",
    "    }\n",
    "    \n",
    "]"
   ]
  },
  {
   "cell_type": "code",
   "execution_count": 18,
   "metadata": {},
   "outputs": [
    {
     "name": "stdout",
     "output_type": "stream",
     "text": [
      "{'name': 'Usman Hayat Malik', 'age': 22, 'years of friendship': 14, 'studies': 'BBA', 'university': 'Federal Urdu University'}\n",
      "{'name': 'Abdur Rehman Hayat Malik', 'age': 20, 'years of friendship': 14, 'studies': 'BS', 'university': 'ARID'}\n",
      "{'name': 'Muhammad Hussain', 'age': 19, 'years of friendship': 8, 'studies': 'Inter', 'university': 'Global School System'}\n"
     ]
    }
   ],
   "source": [
    "print(friends[0])\n",
    "print(friends[1])\n",
    "print(friends[2])"
   ]
  },
  {
   "cell_type": "code",
   "execution_count": null,
   "metadata": {},
   "outputs": [],
   "source": []
  },
  {
   "cell_type": "code",
   "execution_count": null,
   "metadata": {},
   "outputs": [],
   "source": []
  },
  {
   "cell_type": "code",
   "execution_count": null,
   "metadata": {},
   "outputs": [],
   "source": []
  },
  {
   "cell_type": "code",
   "execution_count": null,
   "metadata": {},
   "outputs": [],
   "source": []
  },
  {
   "cell_type": "code",
   "execution_count": null,
   "metadata": {},
   "outputs": [],
   "source": []
  },
  {
   "cell_type": "code",
   "execution_count": null,
   "metadata": {},
   "outputs": [],
   "source": []
  },
  {
   "cell_type": "code",
   "execution_count": null,
   "metadata": {},
   "outputs": [],
   "source": []
  },
  {
   "cell_type": "code",
   "execution_count": null,
   "metadata": {},
   "outputs": [],
   "source": []
  },
  {
   "cell_type": "code",
   "execution_count": null,
   "metadata": {},
   "outputs": [],
   "source": []
  },
  {
   "cell_type": "code",
   "execution_count": null,
   "metadata": {},
   "outputs": [],
   "source": []
  },
  {
   "cell_type": "code",
   "execution_count": null,
   "metadata": {},
   "outputs": [],
   "source": []
  }
 ],
 "metadata": {
  "kernelspec": {
   "display_name": "Python 3",
   "language": "python",
   "name": "python3"
  },
  "language_info": {
   "codemirror_mode": {
    "name": "ipython",
    "version": 3
   },
   "file_extension": ".py",
   "mimetype": "text/x-python",
   "name": "python",
   "nbconvert_exporter": "python",
   "pygments_lexer": "ipython3",
   "version": "3.7.4"
  }
 },
 "nbformat": 4,
 "nbformat_minor": 2
}
