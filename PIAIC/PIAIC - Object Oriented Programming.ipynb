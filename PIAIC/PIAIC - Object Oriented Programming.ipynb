{
 "cells": [
  {
   "cell_type": "markdown",
   "metadata": {},
   "source": [
    "# Topic"
   ]
  },
  {
   "cell_type": "markdown",
   "metadata": {},
   "source": [
    "###  Class\n",
    "###  Instance\n",
    "###  Method\n",
    "###  Attributes/Properties/Fields\n",
    "\n",
    "###  Overloading:\n",
    "    In Python you can define a method in such a way that there are multiple ways to call it. Given a single method or function, we can specify the number of parameters ourself. Depending on the function definition, it can be called with zero, one, two or more parameters. This is known as method overloading.\n",
    "\n",
    "### Overriding:\n",
    "    In Python method overriding occurs simply defining in the child class a method with the same name of a method in the parent class. When you define a method in the object you make the latter able to satisfy that method call, so the implementations of its ancestors do not come in play.\n",
    "\n",
    "## Abstraction: \n",
    "    Abstraction in Python. Abstraction in Python is achieved by using abstract classes and interfaces. ... Abstract methods are the methods that generally don't have any implementation, it is left to the sub classes to provide implementation for the abstract methods.\n",
    "    \n",
    "## Inheritance: \n",
    "    Inheritance is the capability of one class to derive or inherit the properties from some another class. The benefits of inheritance are:\n",
    "\n",
    "    It represents real-world relationships well.\n",
    "    It provides reusability of a code. We don’t have to write the same code again and again. Also, it allows us to add more features to a class without modifying it.\n",
    "    It is transitive in nature, which means that if class B inherits from another class A, then all the subclasses of B would automatically inherit from class A.\n",
    "    \n",
    "    \n",
    "## Polymorphism:\n",
    "\n",
    "    In literal sense, Polymorphism means the ability to take various forms. In Python, Polymorphism allows us to define methods in the child class with the same name as defined in their parent class. ... If a child class object is used to call an overridden method then the child class version of the method is called.\n",
    "    \n",
    "## Encapsulation: \n",
    "    Encapsulation is one of the fundamental concepts in object-oriented programming (OOP). It describes the idea of wrapping data and the methods that work on data within one unit. This puts restrictions on accessing variables and methods directly and can prevent the accidental modification of data. To prevent accidental change, an object’s variable can only be changed by an object’s method. Those type of variables are known as private varibale.\n"
   ]
  },
  {
   "cell_type": "code",
   "execution_count": 1,
   "metadata": {},
   "outputs": [
    {
     "name": "stdout",
     "output_type": "stream",
     "text": [
      "35\n"
     ]
    },
    {
     "data": {
      "text/plain": [
       "80"
      ]
     },
     "execution_count": 1,
     "metadata": {},
     "output_type": "execute_result"
    }
   ],
   "source": [
    "class Add():\n",
    "    a = 0\n",
    "    b = 0\n",
    "    def __init__(self,a,b):\n",
    "        self.a = a\n",
    "        self.b = b\n",
    "    def addition(self):\n",
    "        return self.a+self.b\n",
    "firstobject = Add(15,20)\n",
    "print(firstobject.addition())\n",
    "firstobject.a = 30\n",
    "firstobject.b = 50\n",
    "firstobject.addition()\n"
   ]
  },
  {
   "cell_type": "markdown",
   "metadata": {},
   "source": [
    "# Linear Programming"
   ]
  },
  {
   "cell_type": "code",
   "execution_count": null,
   "metadata": {},
   "outputs": [],
   "source": [
    "s1name = \"Aamir\"\n",
    "s1fname = 'Khan'\n",
    "s1login():pass\n",
    "s1logout():pass\n",
    "s1quiz():pass\n",
    "\n",
    "s2name = \"Aamir\"\n",
    "s2fname = 'Khan'\n",
    "s2login():pass\n",
    "s2logout():pass\n",
    "s1quiz():pass\n",
    "\n"
   ]
  },
  {
   "cell_type": "markdown",
   "metadata": {},
   "source": [
    "# Object Oriented Programming"
   ]
  },
  {
   "cell_type": "code",
   "execution_count": 33,
   "metadata": {},
   "outputs": [
    {
     "name": "stdout",
     "output_type": "stream",
     "text": [
      "Enter username: tahaa\n",
      "Enter password: admin123\n",
      "Login Successful!\n",
      "Welcome  Tahaa\n",
      "None\n"
     ]
    }
   ],
   "source": [
    "class Student():\n",
    "    pass # pass doesn't give error.\n",
    "\n",
    "    counter = 0                      # Class variable\n",
    "    \n",
    "    def __init__(self,sid):\n",
    "        self.sid = sid               # Attributes/Properties/field/Datamember\n",
    "        self.name = ''               # Attributes/Properties/field/Datamember\n",
    "        self.fname = ''              # Attributes/Properties/field/Datamember\n",
    "        self.course = ''             # Attributes/Properties/field/Datamember\n",
    "        self.fee = 0                 # Attributes/Properties/field/Datamember\n",
    "        Student.counter += 1\n",
    "        \n",
    "        # still no function is performed\n",
    "        # saray attributes constructer ky andarr banaye jaingay\n",
    "        # class variable ko call karnay ky liyay apko class ka name likhna perhta hy.\n",
    "        \n",
    "        \n",
    "    def login(self, user, password):             # Method/Action\n",
    "        pass\n",
    "        self.user = user\n",
    "        self.password = password\n",
    "        user = input('Enter username: ')\n",
    "        password = input('Enter password: ')\n",
    "        if user == 'tahaa' and password == 'admin123':\n",
    "            print('Login Successful!')\n",
    "        else:\n",
    "            print('Enter Correct Username or Password')\n",
    "        print('Welcome ', self.user.title())   \n",
    "            \n",
    "    def logout(self):\n",
    "        pass\n",
    "        \n",
    "    def quiz_attempt(self):\n",
    "        pass\n",
    "\n",
    "    def marks(self):\n",
    "        pass\n",
    "\n",
    "s1 = Student(1)\n",
    "s2 = Student(2)\n",
    "s3 = Student(20)\n",
    "\n",
    "print(s1.login('tahaa','admin123'))\n"
   ]
  },
  {
   "cell_type": "markdown",
   "metadata": {},
   "source": [
    "The __init__ method of a class is used to initialize new objects, not create them. As such, it should not return any value. Returning None is correct in the sense that no runtime error will occur, but it suggests that the returned value is meaningful, which it is not."
   ]
  },
  {
   "cell_type": "markdown",
   "metadata": {},
   "source": [
    "# Inheritance"
   ]
  },
  {
   "cell_type": "code",
   "execution_count": 38,
   "metadata": {},
   "outputs": [
    {
     "name": "stdout",
     "output_type": "stream",
     "text": [
      "roti\n",
      "None\n",
      "Taha\n"
     ]
    }
   ],
   "source": [
    "class Parent():\n",
    "    def __init__(self):\n",
    "        self.name = ''\n",
    "        self.fname = ''\n",
    "        \n",
    "    def speak(self, words=''):\n",
    "        print(words,'.....')\n",
    "    \n",
    "    def eat(self, foods='roti'):\n",
    "        print(foods)\n",
    "\n",
    "class Child(Parent):\n",
    "    pass\n",
    "\n",
    "p_obj1 = Parent()\n",
    "p_obj1.name = 'ABC'\n",
    "p_obj1.fname = 'ABCfasda'\n",
    "print(p_obj1.eat())\n",
    "c_obj1 = Child()\n",
    "c_obj1.name = 'Taha'\n",
    "print(c_obj1.name)\n",
    "        "
   ]
  },
  {
   "cell_type": "code",
   "execution_count": 1,
   "metadata": {},
   "outputs": [
    {
     "ename": "IndentationError",
     "evalue": "expected an indented block (<ipython-input-1-90918f3601a7>, line 22)",
     "output_type": "error",
     "traceback": [
      "\u001b[0;36m  File \u001b[0;32m\"<ipython-input-1-90918f3601a7>\"\u001b[0;36m, line \u001b[0;32m22\u001b[0m\n\u001b[0;31m    c_obj1 = Child()\u001b[0m\n\u001b[0m                    ^\u001b[0m\n\u001b[0;31mIndentationError\u001b[0m\u001b[0;31m:\u001b[0m expected an indented block\n"
     ]
    }
   ],
   "source": [
    "class Father():\n",
    "    def __init__(self):\n",
    "        self.name = ''\n",
    "        \n",
    "    def job(self):\n",
    "        return 'GM'\n",
    "    \n",
    "class Mother():\n",
    "    \n",
    "    def __init__(self):\n",
    "        self.name = ''\n",
    "        \n",
    "    def job(self):\n",
    "        return 'GM'\n",
    "\n",
    "class Child(Mother,Father):\n",
    "    \n",
    "    def job(self):\n",
    "        # return # 'Student'\n",
    "    \n",
    "    \n",
    "c_obj1 = Child()\n",
    "c_obj1.job()"
   ]
  },
  {
   "cell_type": "code",
   "execution_count": null,
   "metadata": {},
   "outputs": [],
   "source": [
    "0000000000000000000000000000000000000000000000000000000000000000000000000000000000000000000000000000000000000000000000000000000000000000000000000000000000000000000000000000000000000000000000000000000000000000000000000000000000000000000000000000000000000000000000000000000000000000000000000000000000000000000000000000000000000000000000000000000000000000000000000000000000000000000000000000000000000000000000000000000000000000000000000000000000000000000000000000000000000000000000000000000000000000000000000000000000000000000000000000000000000000000000000000000000000000000000000000000000000000000000000000000000000000000000000000000000000000000000000000000000000000000000000000000000000000000000000000000000000000000000000000000000000000000000000000000000000"
   ]
  },
  {
   "cell_type": "code",
   "execution_count": null,
   "metadata": {},
   "outputs": [],
   "source": []
  },
  {
   "cell_type": "code",
   "execution_count": null,
   "metadata": {},
   "outputs": [],
   "source": []
  },
  {
   "cell_type": "code",
   "execution_count": null,
   "metadata": {},
   "outputs": [],
   "source": []
  },
  {
   "cell_type": "code",
   "execution_count": null,
   "metadata": {},
   "outputs": [],
   "source": []
  },
  {
   "cell_type": "code",
   "execution_count": null,
   "metadata": {},
   "outputs": [],
   "source": []
  },
  {
   "cell_type": "code",
   "execution_count": null,
   "metadata": {},
   "outputs": [],
   "source": []
  },
  {
   "cell_type": "code",
   "execution_count": null,
   "metadata": {},
   "outputs": [],
   "source": []
  },
  {
   "cell_type": "code",
   "execution_count": null,
   "metadata": {},
   "outputs": [],
   "source": []
  },
  {
   "cell_type": "code",
   "execution_count": null,
   "metadata": {},
   "outputs": [],
   "source": []
  },
  {
   "cell_type": "code",
   "execution_count": null,
   "metadata": {},
   "outputs": [],
   "source": []
  },
  {
   "cell_type": "code",
   "execution_count": null,
   "metadata": {},
   "outputs": [],
   "source": []
  },
  {
   "cell_type": "code",
   "execution_count": null,
   "metadata": {},
   "outputs": [],
   "source": []
  },
  {
   "cell_type": "code",
   "execution_count": null,
   "metadata": {},
   "outputs": [],
   "source": []
  },
  {
   "cell_type": "code",
   "execution_count": null,
   "metadata": {},
   "outputs": [],
   "source": []
  },
  {
   "cell_type": "code",
   "execution_count": null,
   "metadata": {},
   "outputs": [],
   "source": []
  },
  {
   "cell_type": "code",
   "execution_count": null,
   "metadata": {},
   "outputs": [],
   "source": []
  },
  {
   "cell_type": "code",
   "execution_count": null,
   "metadata": {},
   "outputs": [],
   "source": []
  },
  {
   "cell_type": "code",
   "execution_count": 24,
   "metadata": {},
   "outputs": [
    {
     "name": "stdout",
     "output_type": "stream",
     "text": [
      "0\n"
     ]
    }
   ],
   "source": [
    "print(Student.counter)\n"
   ]
  },
  {
   "cell_type": "code",
   "execution_count": 13,
   "metadata": {},
   "outputs": [
    {
     "name": "stdout",
     "output_type": "stream",
     "text": [
      "1\n",
      "20\n"
     ]
    }
   ],
   "source": [
    "print(s1.sid)\n",
    "print(s3.sid)"
   ]
  },
  {
   "cell_type": "code",
   "execution_count": 17,
   "metadata": {},
   "outputs": [
    {
     "name": "stdout",
     "output_type": "stream",
     "text": [
      "Taha\n",
      "Abdul Hannan\n",
      "Aamir\n"
     ]
    }
   ],
   "source": [
    "s1.name = 'Taha'\n",
    "s2.name = 'Abdul Hannan'\n",
    "s3.name = 'Aamir'\n",
    "print(s1.name,s2.name,s3.name, sep='\\n')"
   ]
  },
  {
   "cell_type": "code",
   "execution_count": 18,
   "metadata": {},
   "outputs": [
    {
     "name": "stdout",
     "output_type": "stream",
     "text": [
      "60\n"
     ]
    }
   ],
   "source": [
    "s1.marks = '60'\n",
    "print(s1.marks)"
   ]
  },
  {
   "cell_type": "code",
   "execution_count": null,
   "metadata": {},
   "outputs": [],
   "source": []
  },
  {
   "cell_type": "code",
   "execution_count": null,
   "metadata": {},
   "outputs": [],
   "source": []
  },
  {
   "cell_type": "code",
   "execution_count": null,
   "metadata": {},
   "outputs": [],
   "source": []
  },
  {
   "cell_type": "code",
   "execution_count": null,
   "metadata": {},
   "outputs": [],
   "source": []
  },
  {
   "cell_type": "code",
   "execution_count": null,
   "metadata": {},
   "outputs": [],
   "source": []
  },
  {
   "cell_type": "code",
   "execution_count": null,
   "metadata": {},
   "outputs": [],
   "source": []
  },
  {
   "cell_type": "code",
   "execution_count": null,
   "metadata": {},
   "outputs": [],
   "source": []
  },
  {
   "cell_type": "code",
   "execution_count": null,
   "metadata": {},
   "outputs": [],
   "source": []
  },
  {
   "cell_type": "code",
   "execution_count": null,
   "metadata": {},
   "outputs": [],
   "source": []
  },
  {
   "cell_type": "code",
   "execution_count": null,
   "metadata": {},
   "outputs": [],
   "source": []
  },
  {
   "cell_type": "code",
   "execution_count": null,
   "metadata": {},
   "outputs": [],
   "source": []
  },
  {
   "cell_type": "code",
   "execution_count": null,
   "metadata": {},
   "outputs": [],
   "source": []
  },
  {
   "cell_type": "code",
   "execution_count": null,
   "metadata": {},
   "outputs": [],
   "source": []
  },
  {
   "cell_type": "code",
   "execution_count": null,
   "metadata": {},
   "outputs": [],
   "source": []
  },
  {
   "cell_type": "code",
   "execution_count": null,
   "metadata": {},
   "outputs": [],
   "source": []
  },
  {
   "cell_type": "code",
   "execution_count": null,
   "metadata": {},
   "outputs": [],
   "source": []
  },
  {
   "cell_type": "code",
   "execution_count": null,
   "metadata": {},
   "outputs": [],
   "source": []
  },
  {
   "cell_type": "code",
   "execution_count": null,
   "metadata": {},
   "outputs": [],
   "source": []
  },
  {
   "cell_type": "code",
   "execution_count": null,
   "metadata": {},
   "outputs": [],
   "source": []
  },
  {
   "cell_type": "code",
   "execution_count": null,
   "metadata": {},
   "outputs": [],
   "source": []
  },
  {
   "cell_type": "code",
   "execution_count": null,
   "metadata": {},
   "outputs": [],
   "source": []
  },
  {
   "cell_type": "code",
   "execution_count": null,
   "metadata": {},
   "outputs": [],
   "source": []
  },
  {
   "cell_type": "code",
   "execution_count": null,
   "metadata": {},
   "outputs": [],
   "source": []
  },
  {
   "cell_type": "code",
   "execution_count": null,
   "metadata": {},
   "outputs": [],
   "source": []
  }
 ],
 "metadata": {
  "kernelspec": {
   "display_name": "Python 3",
   "language": "python",
   "name": "python3"
  },
  "language_info": {
   "codemirror_mode": {
    "name": "ipython",
    "version": 3
   },
   "file_extension": ".py",
   "mimetype": "text/x-python",
   "name": "python",
   "nbconvert_exporter": "python",
   "pygments_lexer": "ipython3",
   "version": "3.7.4"
  }
 },
 "nbformat": 4,
 "nbformat_minor": 2
}
