{
 "cells": [
  {
   "cell_type": "markdown",
   "metadata": {},
   "source": [
    "# Functions:\n",
    "    1. Required Arguments\n",
    "    2. Optional Arguements\n",
    "    3. Return\n",
    "    4. Non Return\n",
    "    5. Default Arguments\n",
    "    6. Positional Arguments\n",
    "    6. Keyword Arguments\n",
    "    7. Argument with list\n",
    "    8. Argument with dictionary\n",
    "    9. Pre defined Functions\n",
    "    10. User defined Functions\n",
    "    "
   ]
  },
  {
   "cell_type": "markdown",
   "metadata": {},
   "source": [
    "# Pre defined functions"
   ]
  },
  {
   "cell_type": "code",
   "execution_count": 1,
   "metadata": {},
   "outputs": [
    {
     "name": "stdout",
     "output_type": "stream",
     "text": [
      "abc\n",
      "13\n",
      "<class 'float'>\n",
      "139780948589360\n"
     ]
    }
   ],
   "source": [
    "print('abc')\n",
    "print(len('One two three'))\n",
    "print(type(22.22))\n",
    "print(id('a'))\n"
   ]
  },
  {
   "cell_type": "markdown",
   "metadata": {},
   "source": [
    "# User defined functions"
   ]
  },
  {
   "cell_type": "code",
   "execution_count": 7,
   "metadata": {},
   "outputs": [
    {
     "name": "stdout",
     "output_type": "stream",
     "text": [
      "1. Pakistan Zindabad \n",
      "2. We are Pakistani \n",
      "3. We love our country.\n",
      "1. Pakistan Zindabad \n",
      "2. We are Pakistani \n",
      "3. We love our country.\n",
      "1. Pakistan Zindabad \n",
      "2. We are Pakistani \n",
      "3. We love our country.\n"
     ]
    }
   ],
   "source": [
    "def pakistan():\n",
    "    print('1. Pakistan Zindabad \\n2. We are Pakistani \\n3. We love our country.')\n",
    "\n",
    "for pak in range(1,4):\n",
    "    pakistan()"
   ]
  },
  {
   "cell_type": "code",
   "execution_count": 8,
   "metadata": {},
   "outputs": [
    {
     "name": "stdout",
     "output_type": "stream",
     "text": [
      "1. Pakistan Zindabad \n",
      "2. We are Pakistani \n",
      "3. We love our country.\n",
      "1. Pakistan Zindabad \n",
      "2. We are Pakistani \n",
      "3. We love our country.\n",
      "1. Pakistan Zindabad \n",
      "2. We are Pakistani \n",
      "3. We love our country.\n"
     ]
    }
   ],
   "source": [
    "def pakistan():\n",
    "    for pak in range(1,4):\n",
    "        print('1. Pakistan Zindabad \\n2. We are Pakistani \\n3. We love our country.')\n",
    "        \n",
    "pakistan()        "
   ]
  },
  {
   "cell_type": "code",
   "execution_count": 10,
   "metadata": {},
   "outputs": [
    {
     "name": "stdout",
     "output_type": "stream",
     "text": [
      "Student id is: 1\n",
      "Student name is: Tahaa Khan\n",
      "Student father name:Haroon Khan\n",
      "Student course name: AIC\n",
      "Time is: 9 AM\n"
     ]
    }
   ],
   "source": [
    "def idcard(sid,sname,fname,course,time):\n",
    "    print('Student id is: ' + str(sid))\n",
    "    print('Student name is: ' + sname)\n",
    "    print('Student father name:' + fname)\n",
    "    print('Student course name: ' + course)\n",
    "    print('Time is: ' + time)\n",
    "\n",
    "idcard(1,'Tahaa Khan','Haroon Khan','AIC','9 AM')    "
   ]
  },
  {
   "cell_type": "code",
   "execution_count": 11,
   "metadata": {},
   "outputs": [
    {
     "name": "stdout",
     "output_type": "stream",
     "text": [
      "\n",
      "    PIAIC ISLAMABAD BATCH 3\n",
      "    id = 2\n",
      "    name = Aamir Khan Jan\n",
      "    father name = Khan\n",
      "    course = Artificial Intelligence\n",
      "    timing = 9 to 12 am\n",
      "    \n"
     ]
    }
   ],
   "source": [
    "def id_card(sid,sname,fname,course,time):\n",
    "    info = \"\"\"\n",
    "    PIAIC ISLAMABAD BATCH 3\n",
    "    id = {}\n",
    "    name = {}\n",
    "    father name = {}\n",
    "    course = {}\n",
    "    timing = {}\n",
    "    \"\"\".format(sid,sname,fname,course,time)\n",
    "    print(info)\n",
    "    \n",
    "id_card(2,'Aamir Khan Jan','Khan','Artificial Intelligence','9 to 12 am')    "
   ]
  },
  {
   "cell_type": "code",
   "execution_count": 22,
   "metadata": {},
   "outputs": [
    {
     "name": "stdout",
     "output_type": "stream",
     "text": [
      "\n",
      "    PIAIC ISLAMABAD BATCH 3\n",
      "    id = 1\n",
      "    name = Tahaa Khan\n",
      "    father name = Haroon Khan\n",
      "    course = Artificial Intelligence\n",
      "    timing = 9 to 12AM\n",
      "    \n",
      "\n",
      "    PIAIC ISLAMABAD BATCH 3\n",
      "    id = 2\n",
      "    name = Aamir Khan Jan\n",
      "    father name = Khan\n",
      "    course = Artificial Intelligence\n",
      "    timing = 9 to 12 AM\n",
      "    \n",
      "\n",
      "    PIAIC ISLAMABAD BATCH 3\n",
      "    id = 1\n",
      "    name = Tahaa Khan\n",
      "    father name = Haroon Khan\n",
      "    course = Artificial Intelligence\n",
      "    timing = 9 to 12AM\n",
      "    \n",
      "\n",
      "    PIAIC ISLAMABAD BATCH 3\n",
      "    id = 2\n",
      "    name = Aamir Khan Jan\n",
      "    father name = Khan\n",
      "    course = Artificial Intelligence\n",
      "    timing = 9 to 12 AM\n",
      "    \n"
     ]
    }
   ],
   "source": [
    "# list of list\n",
    "\n",
    "data = [[1,'Tahaa Khan','Haroon Khan','Artificial Intelligence','9 to 12AM'],\n",
    "        [2,'Aamir Khan Jan','Khan','Artificial Intelligence','9 to 12 AM'],\n",
    "        [1,'Tahaa Khan','Haroon Khan','Artificial Intelligence','9 to 12AM'],\n",
    "        [2,'Aamir Khan Jan','Khan','Artificial Intelligence','9 to 12 AM'],       \n",
    "       ]\n",
    "\n",
    "\n",
    "for v in data:\n",
    "   # id_card(v[0],v[1],v[2],v[3],v[4]) # 1st way_\n",
    "     id_card(*v)\n",
    "    #print(v)"
   ]
  },
  {
   "cell_type": "code",
   "execution_count": null,
   "metadata": {},
   "outputs": [],
   "source": []
  },
  {
   "cell_type": "code",
   "execution_count": null,
   "metadata": {},
   "outputs": [],
   "source": []
  },
  {
   "cell_type": "code",
   "execution_count": null,
   "metadata": {},
   "outputs": [],
   "source": []
  },
  {
   "cell_type": "markdown",
   "metadata": {},
   "source": [
    "# Optional Arguments"
   ]
  },
  {
   "cell_type": "code",
   "execution_count": 19,
   "metadata": {},
   "outputs": [
    {
     "name": "stdout",
     "output_type": "stream",
     "text": [
      "1000\n",
      "9 1 990\n"
     ]
    }
   ],
   "source": [
    "def abc(x, y=0,z=0):\n",
    "    print(x+y+z)\n",
    "    print(x,y,z)\n",
    "abc(9,1,990)    \n",
    "  # x,y,z "
   ]
  },
  {
   "cell_type": "markdown",
   "metadata": {},
   "source": [
    "## Non Return Function"
   ]
  },
  {
   "cell_type": "code",
   "execution_count": 25,
   "metadata": {},
   "outputs": [
    {
     "name": "stdout",
     "output_type": "stream",
     "text": [
      "None\n"
     ]
    }
   ],
   "source": [
    "def person(first,last):\n",
    "    person = {'firstname':first.title(),'lastname':last.title()}\n",
    "    \n",
    "print(person('tahaa','khan'))"
   ]
  },
  {
   "cell_type": "markdown",
   "metadata": {},
   "source": [
    "## Return Function"
   ]
  },
  {
   "cell_type": "code",
   "execution_count": 47,
   "metadata": {},
   "outputs": [
    {
     "name": "stdout",
     "output_type": "stream",
     "text": [
      "({'firstname': 'Tahaa', 'lastname': 'Khan'}, 'AI', 'Python')\n",
      "{'firstname': 'Aamir', 'lastname': 'Khan'} AI Python\n"
     ]
    }
   ],
   "source": [
    "def person(first,last):\n",
    "    person = {'firstname':first.title(),'lastname':last.title()}\n",
    "    return person,'AI','Python' # this will return tuple\n",
    "# person('tahaa','khan')\n",
    "print(person('tahaa','khan')) # this will return tuple and total 3 returns 0 1 2\n",
    "print(*person('Aamir','Khan')) # this will return as it is. "
   ]
  },
  {
   "cell_type": "markdown",
   "metadata": {},
   "source": [
    "### Task by Sir Qasim"
   ]
  },
  {
   "cell_type": "code",
   "execution_count": 54,
   "metadata": {},
   "outputs": [
    {
     "name": "stdout",
     "output_type": "stream",
     "text": [
      "59\n"
     ]
    }
   ],
   "source": [
    "def task(x=0,y=0,z=0):\n",
    "    abc = x + y * z\n",
    "    return abc\n",
    "print(task(5,6,9))"
   ]
  },
  {
   "cell_type": "markdown",
   "metadata": {},
   "source": [
    "## Keyword Arguments"
   ]
  },
  {
   "cell_type": "code",
   "execution_count": 56,
   "metadata": {},
   "outputs": [
    {
     "name": "stdout",
     "output_type": "stream",
     "text": [
      "\n",
      "    PIAIC ISLAMABAD BATCH 3\n",
      "    id = 1\n",
      "    name = Tahaa\n",
      "    father name = Haroon\n",
      "    course = AI\n",
      "    timing = 9 to 12\n",
      "    \n",
      "None\n"
     ]
    }
   ],
   "source": [
    "print(id_card(sname='Tahaa',fname='Haroon',sid=1,course='AI',time='9 to 12'))"
   ]
  },
  {
   "cell_type": "markdown",
   "metadata": {},
   "source": [
    "#### Positional Argument should be first"
   ]
  },
  {
   "cell_type": "code",
   "execution_count": 69,
   "metadata": {},
   "outputs": [
    {
     "ename": "SyntaxError",
     "evalue": "positional argument follows keyword argument (<ipython-input-69-9223465fe8d2>, line 1)",
     "output_type": "error",
     "traceback": [
      "\u001b[0;36m  File \u001b[0;32m\"<ipython-input-69-9223465fe8d2>\"\u001b[0;36m, line \u001b[0;32m1\u001b[0m\n\u001b[0;31m    print(id_card(1,'Tahaa',fname='Haroon',course='AI','9 to 12'))\u001b[0m\n\u001b[0m                                                      ^\u001b[0m\n\u001b[0;31mSyntaxError\u001b[0m\u001b[0;31m:\u001b[0m positional argument follows keyword argument\n"
     ]
    }
   ],
   "source": [
    "print(id_card(1,'Tahaa',fname='Haroon',course='AI','9 to 12'))"
   ]
  },
  {
   "cell_type": "code",
   "execution_count": 70,
   "metadata": {},
   "outputs": [
    {
     "name": "stdout",
     "output_type": "stream",
     "text": [
      "\n",
      "    PIAIC ISLAMABAD BATCH 3\n",
      "    id = 1\n",
      "    name = Tahaa Khan\n",
      "    father name = Haroon Khan\n",
      "    course = Artificial Intelligence\n",
      "    timing = 9 to 12AM\n",
      "    \n",
      "None\n"
     ]
    }
   ],
   "source": [
    "l1 = data[0]\n",
    "print(id_card(*l1))"
   ]
  },
  {
   "cell_type": "code",
   "execution_count": 71,
   "metadata": {},
   "outputs": [
    {
     "name": "stdout",
     "output_type": "stream",
     "text": [
      "1 Tahaa Khan Haroon Khan Artificial Intelligence 9 to 12AM\n"
     ]
    }
   ],
   "source": [
    "print(*l1)"
   ]
  },
  {
   "cell_type": "markdown",
   "metadata": {},
   "source": [
    "## Now with dictionaries"
   ]
  },
  {
   "cell_type": "code",
   "execution_count": 82,
   "metadata": {},
   "outputs": [
    {
     "name": "stdout",
     "output_type": "stream",
     "text": [
      "\n",
      "    PIAIC ISLAMABAD BATCH 3\n",
      "    id = 1\n",
      "    name = Tahaa\n",
      "    father name = Haroon\n",
      "    course = AI\n",
      "    timing = 9 to 12\n",
      "    \n",
      "None\n"
     ]
    }
   ],
   "source": [
    "d1 = {\n",
    "    'sid':1,\n",
    "    'sname':'Tahaa',\n",
    "    'fname':'Haroon',\n",
    "    'course':'AI',\n",
    "    'time':'9 to 12'\n",
    "}\n",
    "print(id_card(**d1))"
   ]
  },
  {
   "cell_type": "markdown",
   "metadata": {},
   "source": [
    "## single * to get values from list\n",
    "## double ** to get values from dictionaries"
   ]
  },
  {
   "cell_type": "code",
   "execution_count": 83,
   "metadata": {},
   "outputs": [
    {
     "name": "stdout",
     "output_type": "stream",
     "text": [
      "\n",
      "    PIAIC ISLAMABAD BATCH 3\n",
      "    id = 1\n",
      "    name = Tahaa Khan\n",
      "    father name = Haroon Khan\n",
      "    course = Artificial Intelligence\n",
      "    timing = 9 to 12AM\n",
      "    \n",
      "None\n",
      "\n",
      "    PIAIC ISLAMABAD BATCH 3\n",
      "    id = 1\n",
      "    name = Tahaa\n",
      "    father name = Haroon\n",
      "    course = AI\n",
      "    timing = 9 to 12\n",
      "    \n",
      "None\n"
     ]
    }
   ],
   "source": [
    "print(id_card(*l1))\n",
    "print(id_card(**d1))"
   ]
  },
  {
   "cell_type": "markdown",
   "metadata": {},
   "source": [
    "# Recursion"
   ]
  },
  {
   "cell_type": "code",
   "execution_count": 84,
   "metadata": {},
   "outputs": [
    {
     "data": {
      "text/plain": [
       "120"
      ]
     },
     "execution_count": 84,
     "metadata": {},
     "output_type": "execute_result"
    }
   ],
   "source": [
    "def abc(n):\n",
    "    if n==1:\n",
    "        return 1\n",
    "    return n * abc(n-1)\n",
    "\n",
    "\n",
    "abc(5)"
   ]
  },
  {
   "cell_type": "markdown",
   "metadata": {},
   "source": [
    "### Prime number"
   ]
  },
  {
   "cell_type": "code",
   "execution_count": null,
   "metadata": {},
   "outputs": [],
   "source": [
    "# Python 3 Program to find whether \n",
    "# a Number is Prime or Not using \n",
    "# Recursion \n",
    "\n",
    "# Returns true if n is prime, else \n",
    "# return false. \n",
    "# i is current divisor to check. \n",
    "def isPrime(n, i = 2): \n",
    "\n",
    "    # Base cases \n",
    "    if (n <= 2): \n",
    "        return True if(n == 2) else False\n",
    "    if (n % i == 0): \n",
    "        return False\n",
    "    if (i * i > n): \n",
    "        return true \n",
    "\n",
    "    # Check for next divisor \n",
    "    return isPrime(n, i + 1) \n",
    "\n",
    "\n",
    "# Driver Program \n",
    "n = 15\n",
    "if (isPrime(n)): \n",
    "    print(\"Yes\") \n",
    "else: \n",
    "    print(\"No\") \n",
    "\n"
   ]
  },
  {
   "cell_type": "markdown",
   "metadata": {},
   "source": [
    "## Generator Functions"
   ]
  },
  {
   "cell_type": "code",
   "execution_count": 92,
   "metadata": {},
   "outputs": [
    {
     "name": "stdout",
     "output_type": "stream",
     "text": [
      "<generator object abc at 0x7f214415b2d0>\n",
      "0\n",
      "1\n",
      "2\n",
      "3\n",
      "4\n",
      "5\n",
      "6\n",
      "7\n",
      "8\n",
      "9\n",
      "10\n"
     ]
    }
   ],
   "source": [
    "def abc():\n",
    "    for i in range(11):\n",
    "        yield i\n",
    "        \n",
    "a = abc()\n",
    "print(a)\n",
    "for x in range(11):\n",
    "    print(next(a))"
   ]
  },
  {
   "cell_type": "markdown",
   "metadata": {},
   "source": [
    "# generator functions, keyword, positional, yield,"
   ]
  },
  {
   "cell_type": "markdown",
   "metadata": {},
   "source": [
    "# LAMBDA FUNCTIONS"
   ]
  },
  {
   "cell_type": "code",
   "execution_count": 93,
   "metadata": {},
   "outputs": [
    {
     "data": {
      "text/plain": [
       "10"
      ]
     },
     "execution_count": 93,
     "metadata": {},
     "output_type": "execute_result"
    }
   ],
   "source": [
    "def xyz(a,b):\n",
    "    return a + b\n",
    "\n",
    "xyz(5,8)\n",
    "\n",
    "# variable name + lambda + a,b = parameters, \n",
    "xyz = lambda a,b: a + b\n",
    "xyz(5,5)"
   ]
  },
  {
   "cell_type": "code",
   "execution_count": 105,
   "metadata": {},
   "outputs": [
    {
     "name": "stdout",
     "output_type": "stream",
     "text": [
      "False\n"
     ]
    }
   ],
   "source": [
    "abc = lambda x,y: True if x > y else False\n",
    "print(abc(2,3))"
   ]
  },
  {
   "cell_type": "code",
   "execution_count": null,
   "metadata": {},
   "outputs": [],
   "source": []
  },
  {
   "cell_type": "code",
   "execution_count": null,
   "metadata": {},
   "outputs": [],
   "source": []
  },
  {
   "cell_type": "code",
   "execution_count": null,
   "metadata": {},
   "outputs": [],
   "source": []
  },
  {
   "cell_type": "code",
   "execution_count": null,
   "metadata": {},
   "outputs": [],
   "source": []
  },
  {
   "cell_type": "code",
   "execution_count": null,
   "metadata": {},
   "outputs": [],
   "source": []
  },
  {
   "cell_type": "code",
   "execution_count": null,
   "metadata": {},
   "outputs": [],
   "source": []
  },
  {
   "cell_type": "code",
   "execution_count": null,
   "metadata": {},
   "outputs": [],
   "source": []
  },
  {
   "cell_type": "code",
   "execution_count": null,
   "metadata": {},
   "outputs": [],
   "source": []
  },
  {
   "cell_type": "code",
   "execution_count": null,
   "metadata": {},
   "outputs": [],
   "source": []
  },
  {
   "cell_type": "code",
   "execution_count": null,
   "metadata": {},
   "outputs": [],
   "source": []
  },
  {
   "cell_type": "code",
   "execution_count": null,
   "metadata": {},
   "outputs": [],
   "source": []
  },
  {
   "cell_type": "code",
   "execution_count": null,
   "metadata": {},
   "outputs": [],
   "source": []
  },
  {
   "cell_type": "code",
   "execution_count": null,
   "metadata": {},
   "outputs": [],
   "source": []
  },
  {
   "cell_type": "code",
   "execution_count": null,
   "metadata": {},
   "outputs": [],
   "source": []
  },
  {
   "cell_type": "code",
   "execution_count": null,
   "metadata": {},
   "outputs": [],
   "source": []
  },
  {
   "cell_type": "code",
   "execution_count": null,
   "metadata": {},
   "outputs": [],
   "source": []
  },
  {
   "cell_type": "code",
   "execution_count": null,
   "metadata": {},
   "outputs": [],
   "source": []
  },
  {
   "cell_type": "code",
   "execution_count": null,
   "metadata": {},
   "outputs": [],
   "source": []
  },
  {
   "cell_type": "code",
   "execution_count": null,
   "metadata": {},
   "outputs": [],
   "source": []
  },
  {
   "cell_type": "code",
   "execution_count": null,
   "metadata": {},
   "outputs": [],
   "source": []
  },
  {
   "cell_type": "code",
   "execution_count": null,
   "metadata": {},
   "outputs": [],
   "source": []
  },
  {
   "cell_type": "code",
   "execution_count": null,
   "metadata": {},
   "outputs": [],
   "source": []
  },
  {
   "cell_type": "code",
   "execution_count": null,
   "metadata": {},
   "outputs": [],
   "source": []
  },
  {
   "cell_type": "code",
   "execution_count": null,
   "metadata": {},
   "outputs": [],
   "source": []
  },
  {
   "cell_type": "code",
   "execution_count": null,
   "metadata": {},
   "outputs": [],
   "source": []
  },
  {
   "cell_type": "code",
   "execution_count": null,
   "metadata": {},
   "outputs": [],
   "source": []
  },
  {
   "cell_type": "code",
   "execution_count": null,
   "metadata": {},
   "outputs": [],
   "source": []
  },
  {
   "cell_type": "code",
   "execution_count": null,
   "metadata": {},
   "outputs": [],
   "source": []
  },
  {
   "cell_type": "code",
   "execution_count": null,
   "metadata": {},
   "outputs": [],
   "source": []
  },
  {
   "cell_type": "code",
   "execution_count": null,
   "metadata": {},
   "outputs": [],
   "source": []
  },
  {
   "cell_type": "code",
   "execution_count": null,
   "metadata": {},
   "outputs": [],
   "source": []
  },
  {
   "cell_type": "code",
   "execution_count": null,
   "metadata": {},
   "outputs": [],
   "source": []
  },
  {
   "cell_type": "code",
   "execution_count": null,
   "metadata": {},
   "outputs": [],
   "source": []
  },
  {
   "cell_type": "code",
   "execution_count": null,
   "metadata": {},
   "outputs": [],
   "source": []
  },
  {
   "cell_type": "code",
   "execution_count": null,
   "metadata": {},
   "outputs": [],
   "source": []
  },
  {
   "cell_type": "code",
   "execution_count": null,
   "metadata": {},
   "outputs": [],
   "source": []
  },
  {
   "cell_type": "code",
   "execution_count": null,
   "metadata": {},
   "outputs": [],
   "source": [
    "print(id_card(sid=1,sname='Tahaa',fname='Haroon','AI','9 to 12'))"
   ]
  },
  {
   "cell_type": "code",
   "execution_count": null,
   "metadata": {},
   "outputs": [],
   "source": []
  },
  {
   "cell_type": "code",
   "execution_count": null,
   "metadata": {},
   "outputs": [],
   "source": []
  },
  {
   "cell_type": "code",
   "execution_count": null,
   "metadata": {},
   "outputs": [],
   "source": []
  },
  {
   "cell_type": "code",
   "execution_count": null,
   "metadata": {},
   "outputs": [],
   "source": []
  },
  {
   "cell_type": "code",
   "execution_count": null,
   "metadata": {},
   "outputs": [],
   "source": []
  },
  {
   "cell_type": "code",
   "execution_count": null,
   "metadata": {},
   "outputs": [],
   "source": []
  },
  {
   "cell_type": "code",
   "execution_count": null,
   "metadata": {},
   "outputs": [],
   "source": []
  },
  {
   "cell_type": "code",
   "execution_count": null,
   "metadata": {},
   "outputs": [],
   "source": []
  },
  {
   "cell_type": "code",
   "execution_count": null,
   "metadata": {},
   "outputs": [],
   "source": []
  },
  {
   "cell_type": "code",
   "execution_count": null,
   "metadata": {},
   "outputs": [],
   "source": []
  },
  {
   "cell_type": "code",
   "execution_count": null,
   "metadata": {},
   "outputs": [],
   "source": []
  },
  {
   "cell_type": "code",
   "execution_count": null,
   "metadata": {},
   "outputs": [],
   "source": []
  },
  {
   "cell_type": "code",
   "execution_count": null,
   "metadata": {},
   "outputs": [],
   "source": []
  },
  {
   "cell_type": "code",
   "execution_count": null,
   "metadata": {},
   "outputs": [],
   "source": []
  },
  {
   "cell_type": "code",
   "execution_count": null,
   "metadata": {},
   "outputs": [],
   "source": []
  },
  {
   "cell_type": "code",
   "execution_count": null,
   "metadata": {},
   "outputs": [],
   "source": []
  },
  {
   "cell_type": "code",
   "execution_count": null,
   "metadata": {},
   "outputs": [],
   "source": []
  },
  {
   "cell_type": "code",
   "execution_count": null,
   "metadata": {},
   "outputs": [],
   "source": []
  },
  {
   "cell_type": "code",
   "execution_count": null,
   "metadata": {},
   "outputs": [],
   "source": []
  },
  {
   "cell_type": "code",
   "execution_count": null,
   "metadata": {},
   "outputs": [],
   "source": []
  },
  {
   "cell_type": "code",
   "execution_count": null,
   "metadata": {},
   "outputs": [],
   "source": []
  },
  {
   "cell_type": "code",
   "execution_count": null,
   "metadata": {},
   "outputs": [],
   "source": []
  },
  {
   "cell_type": "code",
   "execution_count": null,
   "metadata": {},
   "outputs": [],
   "source": []
  },
  {
   "cell_type": "code",
   "execution_count": null,
   "metadata": {},
   "outputs": [],
   "source": []
  },
  {
   "cell_type": "code",
   "execution_count": null,
   "metadata": {},
   "outputs": [],
   "source": []
  },
  {
   "cell_type": "code",
   "execution_count": null,
   "metadata": {},
   "outputs": [],
   "source": []
  },
  {
   "cell_type": "code",
   "execution_count": null,
   "metadata": {},
   "outputs": [],
   "source": []
  },
  {
   "cell_type": "code",
   "execution_count": null,
   "metadata": {},
   "outputs": [],
   "source": []
  },
  {
   "cell_type": "code",
   "execution_count": null,
   "metadata": {},
   "outputs": [],
   "source": []
  },
  {
   "cell_type": "code",
   "execution_count": null,
   "metadata": {},
   "outputs": [],
   "source": []
  },
  {
   "cell_type": "code",
   "execution_count": null,
   "metadata": {},
   "outputs": [],
   "source": []
  },
  {
   "cell_type": "code",
   "execution_count": null,
   "metadata": {},
   "outputs": [],
   "source": []
  },
  {
   "cell_type": "code",
   "execution_count": null,
   "metadata": {},
   "outputs": [],
   "source": []
  },
  {
   "cell_type": "code",
   "execution_count": null,
   "metadata": {},
   "outputs": [],
   "source": []
  },
  {
   "cell_type": "code",
   "execution_count": null,
   "metadata": {},
   "outputs": [],
   "source": []
  },
  {
   "cell_type": "code",
   "execution_count": null,
   "metadata": {},
   "outputs": [],
   "source": []
  },
  {
   "cell_type": "code",
   "execution_count": null,
   "metadata": {},
   "outputs": [],
   "source": []
  },
  {
   "cell_type": "code",
   "execution_count": null,
   "metadata": {},
   "outputs": [],
   "source": []
  },
  {
   "cell_type": "code",
   "execution_count": null,
   "metadata": {},
   "outputs": [],
   "source": []
  },
  {
   "cell_type": "code",
   "execution_count": null,
   "metadata": {},
   "outputs": [],
   "source": []
  },
  {
   "cell_type": "code",
   "execution_count": null,
   "metadata": {},
   "outputs": [],
   "source": []
  },
  {
   "cell_type": "code",
   "execution_count": null,
   "metadata": {},
   "outputs": [],
   "source": []
  },
  {
   "cell_type": "code",
   "execution_count": null,
   "metadata": {},
   "outputs": [],
   "source": []
  },
  {
   "cell_type": "code",
   "execution_count": null,
   "metadata": {},
   "outputs": [],
   "source": []
  }
 ],
 "metadata": {
  "kernelspec": {
   "display_name": "Python 3",
   "language": "python",
   "name": "python3"
  },
  "language_info": {
   "codemirror_mode": {
    "name": "ipython",
    "version": 3
   },
   "file_extension": ".py",
   "mimetype": "text/x-python",
   "name": "python",
   "nbconvert_exporter": "python",
   "pygments_lexer": "ipython3",
   "version": "3.7.4"
  }
 },
 "nbformat": 4,
 "nbformat_minor": 2
}
